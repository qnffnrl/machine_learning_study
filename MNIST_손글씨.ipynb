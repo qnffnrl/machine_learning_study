{
 "cells": [
  {
   "cell_type": "code",
   "execution_count": 3,
   "id": "36c75e9f",
   "metadata": {
    "ExecuteTime": {
     "end_time": "2022-07-22T00:42:13.130866Z",
     "start_time": "2022-07-22T00:42:08.635745Z"
    }
   },
   "outputs": [],
   "source": [
    "import tensorflow as tf"
   ]
  },
  {
   "cell_type": "markdown",
   "id": "c269cb62",
   "metadata": {},
   "source": [
    "# MNIST 데이터 임포트"
   ]
  },
  {
   "cell_type": "code",
   "execution_count": 4,
   "id": "dbc9bade",
   "metadata": {
    "ExecuteTime": {
     "end_time": "2022-07-22T00:42:14.579483Z",
     "start_time": "2022-07-22T00:42:14.575494Z"
    }
   },
   "outputs": [],
   "source": [
    "mnist = tf.keras.datasets.mnist"
   ]
  },
  {
   "cell_type": "code",
   "execution_count": 5,
   "id": "1c8b6c03",
   "metadata": {
    "ExecuteTime": {
     "end_time": "2022-07-22T00:42:15.018310Z",
     "start_time": "2022-07-22T00:42:14.725094Z"
    }
   },
   "outputs": [],
   "source": [
    "(x_train, y_train), (x_test, y_test) = mnist.load_data()"
   ]
  },
  {
   "cell_type": "markdown",
   "id": "e9568002",
   "metadata": {},
   "source": [
    "# 데이터 전처리 (데이터 정규화)\n",
    "## 케라스는 0~1 사이의 값에서 최적의 성능\n",
    "### 따라서, 0-255의 값으로 이루어진 데이터를 255로 나누면 0-1 값으로 변환할 수 있음"
   ]
  },
  {
   "cell_type": "code",
   "execution_count": 6,
   "id": "af32d04d",
   "metadata": {
    "ExecuteTime": {
     "end_time": "2022-07-22T00:42:15.266645Z",
     "start_time": "2022-07-22T00:42:15.056209Z"
    }
   },
   "outputs": [],
   "source": [
    "x_train, x_test = x_train/255.0, x_test/255.0"
   ]
  },
  {
   "cell_type": "markdown",
   "id": "21516820",
   "metadata": {},
   "source": [
    "#### Flatten : 다차원 배열 공간을 1차원으로 평탄화 해줌\n",
    "#### Dense : 뉴런의 입출력을 연결"
   ]
  },
  {
   "cell_type": "code",
   "execution_count": 12,
   "id": "3cc44eda",
   "metadata": {
    "ExecuteTime": {
     "end_time": "2022-07-22T00:42:25.981367Z",
     "start_time": "2022-07-22T00:42:25.855678Z"
    }
   },
   "outputs": [],
   "source": [
    "model = tf.keras.models.Sequential([\n",
    "    tf.keras.layers.Flatten(input_shape=(28, 28)),      # 입력층 784개 (28 x 28)\n",
    "    tf.keras.layers.Dense(512, activation=tf.nn.relu),  # 은닉층 512개 / 활성화 함수 : relu\n",
    "    tf.keras.layers.Dense(10, activation=tf.nn.softmax) # 출력층 10개 / 활성화 함수 : softmax\n",
    "])"
   ]
  },
  {
   "cell_type": "code",
   "execution_count": 13,
   "id": "1dbdc233",
   "metadata": {
    "ExecuteTime": {
     "end_time": "2022-07-22T00:42:26.470607Z",
     "start_time": "2022-07-22T00:42:26.456644Z"
    }
   },
   "outputs": [
    {
     "name": "stdout",
     "output_type": "stream",
     "text": [
      "Model: \"sequential\"\n",
      "_________________________________________________________________\n",
      " Layer (type)                Output Shape              Param #   \n",
      "=================================================================\n",
      " flatten (Flatten)           (None, 784)               0         \n",
      "                                                                 \n",
      " dense (Dense)               (None, 512)               401920    \n",
      "                                                                 \n",
      " dense_1 (Dense)             (None, 10)                5130      \n",
      "                                                                 \n",
      "=================================================================\n",
      "Total params: 407,050\n",
      "Trainable params: 407,050\n",
      "Non-trainable params: 0\n",
      "_________________________________________________________________\n"
     ]
    }
   ],
   "source": [
    "model.summary()"
   ]
  },
  {
   "cell_type": "markdown",
   "id": "93f8f936",
   "metadata": {},
   "source": [
    "# 모델 컴파일\n",
    "## 1. 예측값이 얼마나 틀리는지 알 수 있도록 '손실 함수' 사용\n",
    "## 2. 손실 함수의 최소값을 찾는 것이 학습의 최종 목표\n",
    "## 3. 여기서 최솟값을 찾아가는 것을 '최적화 (Optimization)' 이라 함\n",
    "## 4. 이를 수행하는 알고리즘이 '최적화 알고리즘 (Optimizer)' 임"
   ]
  },
  {
   "cell_type": "code",
   "execution_count": 14,
   "id": "4e4566da",
   "metadata": {
    "ExecuteTime": {
     "end_time": "2022-07-22T00:42:27.276366Z",
     "start_time": "2022-07-22T00:42:27.265396Z"
    }
   },
   "outputs": [],
   "source": [
    "model.compile(optimizer = 'adam',   # 최적화 함수 : adam (Adaptive Moment Estimation)\n",
    "              loss = 'sparse_categorical_crossentropy', # 손실함수 : 교차 엔트로피 오차 (CEE) 함수\n",
    "              metrics=['accuracy']) # 척도 : 정확도"
   ]
  },
  {
   "cell_type": "markdown",
   "id": "b947f7fd",
   "metadata": {},
   "source": [
    "# 모델 훈련\n",
    "## epochs : 훈련 반복 횟수"
   ]
  },
  {
   "cell_type": "code",
   "execution_count": 15,
   "id": "746af09c",
   "metadata": {
    "ExecuteTime": {
     "end_time": "2022-07-22T00:42:52.397932Z",
     "start_time": "2022-07-22T00:42:27.580554Z"
    },
    "scrolled": false
   },
   "outputs": [
    {
     "name": "stdout",
     "output_type": "stream",
     "text": [
      "Epoch 1/5\n",
      "1875/1875 [==============================] - 5s 3ms/step - loss: 0.1982 - accuracy: 0.9418\n",
      "Epoch 2/5\n",
      "1875/1875 [==============================] - 5s 3ms/step - loss: 0.0786 - accuracy: 0.9750\n",
      "Epoch 3/5\n",
      "1875/1875 [==============================] - 5s 3ms/step - loss: 0.0515 - accuracy: 0.9843\n",
      "Epoch 4/5\n",
      "1875/1875 [==============================] - 5s 3ms/step - loss: 0.0358 - accuracy: 0.9886\n",
      "Epoch 5/5\n",
      "1875/1875 [==============================] - 5s 3ms/step - loss: 0.0275 - accuracy: 0.9911\n"
     ]
    },
    {
     "data": {
      "text/plain": [
       "<keras.callbacks.History at 0x1da52cd2ac0>"
      ]
     },
     "execution_count": 15,
     "metadata": {},
     "output_type": "execute_result"
    }
   ],
   "source": [
    "model.fit(x_train, y_train, epochs=5)"
   ]
  },
  {
   "cell_type": "markdown",
   "id": "7b4663cf",
   "metadata": {},
   "source": [
    "# 정확도 평가"
   ]
  },
  {
   "cell_type": "code",
   "execution_count": 16,
   "id": "31149696",
   "metadata": {
    "ExecuteTime": {
     "end_time": "2022-07-22T00:42:53.075406Z",
     "start_time": "2022-07-22T00:42:52.398932Z"
    }
   },
   "outputs": [
    {
     "name": "stdout",
     "output_type": "stream",
     "text": [
      "313/313 [==============================] - 1s 1ms/step - loss: 0.0774 - accuracy: 0.9777\n",
      "테스트 정확도 : 98%\n"
     ]
    }
   ],
   "source": [
    "test_loss, test_acc = model.evaluate(x_test, y_test)\n",
    "print('테스트 정확도 : {:.0f}%'.format(test_acc*100))"
   ]
  },
  {
   "cell_type": "code",
   "execution_count": null,
   "id": "5b4d4cfb",
   "metadata": {},
   "outputs": [],
   "source": []
  }
 ],
 "metadata": {
  "kernelspec": {
   "display_name": "Python 3 (ipykernel)",
   "language": "python",
   "name": "python3"
  },
  "language_info": {
   "codemirror_mode": {
    "name": "ipython",
    "version": 3
   },
   "file_extension": ".py",
   "mimetype": "text/x-python",
   "name": "python",
   "nbconvert_exporter": "python",
   "pygments_lexer": "ipython3",
   "version": "3.9.12"
  },
  "toc": {
   "base_numbering": 1,
   "nav_menu": {},
   "number_sections": false,
   "sideBar": true,
   "skip_h1_title": false,
   "title_cell": "Table of Contents",
   "title_sidebar": "Contents",
   "toc_cell": false,
   "toc_position": {
    "height": "calc(100% - 180px)",
    "left": "10px",
    "top": "150px",
    "width": "560px"
   },
   "toc_section_display": true,
   "toc_window_display": false
  }
 },
 "nbformat": 4,
 "nbformat_minor": 5
}
