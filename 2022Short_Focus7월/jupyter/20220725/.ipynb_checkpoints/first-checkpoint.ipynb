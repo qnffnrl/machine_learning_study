{
 "cells": [
  {
   "cell_type": "markdown",
   "id": "ebd12a35",
   "metadata": {},
   "source": [
    "# 입력문"
   ]
  },
  {
   "cell_type": "code",
   "execution_count": 1,
   "id": "6614fb85",
   "metadata": {
    "ExecuteTime": {
     "end_time": "2022-07-25T08:24:27.549342Z",
     "start_time": "2022-07-25T08:24:24.999662Z"
    }
   },
   "outputs": [
    {
     "name": "stdout",
     "output_type": "stream",
     "text": [
      "23\n"
     ]
    }
   ],
   "source": [
    "test = input()"
   ]
  },
  {
   "cell_type": "code",
   "execution_count": 2,
   "id": "c3e1adfa",
   "metadata": {
    "ExecuteTime": {
     "end_time": "2022-07-25T08:24:28.023601Z",
     "start_time": "2022-07-25T08:24:28.007980Z"
    }
   },
   "outputs": [
    {
     "name": "stdout",
     "output_type": "stream",
     "text": [
      "23\n"
     ]
    }
   ],
   "source": [
    "print(test)"
   ]
  },
  {
   "cell_type": "code",
   "execution_count": 3,
   "id": "c09399f7",
   "metadata": {
    "ExecuteTime": {
     "end_time": "2022-07-25T08:24:28.384025Z",
     "start_time": "2022-07-25T08:24:28.375048Z"
    }
   },
   "outputs": [
    {
     "name": "stdout",
     "output_type": "stream",
     "text": [
      "hi\n",
      "what are eat today?\n"
     ]
    }
   ],
   "source": [
    "print('hi')\n",
    "print('what are eat today?')"
   ]
  },
  {
   "cell_type": "code",
   "execution_count": 4,
   "id": "99537b8a",
   "metadata": {
    "ExecuteTime": {
     "end_time": "2022-07-25T08:24:28.837869Z",
     "start_time": "2022-07-25T08:24:28.663774Z"
    }
   },
   "outputs": [
    {
     "name": "stdout",
     "output_type": "stream",
     "text": [
      "enter that you have today\n",
      "\n"
     ]
    }
   ],
   "source": [
    "print('enter that you have today')\n",
    "food = input()"
   ]
  },
  {
   "cell_type": "code",
   "execution_count": 5,
   "id": "aed095a5",
   "metadata": {
    "ExecuteTime": {
     "end_time": "2022-07-25T08:24:29.008397Z",
     "start_time": "2022-07-25T08:24:28.991445Z"
    }
   },
   "outputs": [
    {
     "name": "stdout",
     "output_type": "stream",
     "text": [
      "wow you eat !!\n"
     ]
    }
   ],
   "source": [
    "print('wow you eat '+food+'!!')"
   ]
  },
  {
   "cell_type": "code",
   "execution_count": 6,
   "id": "d137ed21",
   "metadata": {
    "ExecuteTime": {
     "end_time": "2022-07-25T08:24:29.289042Z",
     "start_time": "2022-07-25T08:24:29.271090Z"
    }
   },
   "outputs": [],
   "source": [
    "a = 1\n",
    "b = \"1\""
   ]
  },
  {
   "cell_type": "code",
   "execution_count": 7,
   "id": "542e2c65",
   "metadata": {
    "ExecuteTime": {
     "end_time": "2022-07-25T08:24:29.429112Z",
     "start_time": "2022-07-25T08:24:29.415151Z"
    }
   },
   "outputs": [
    {
     "name": "stdout",
     "output_type": "stream",
     "text": [
      "1\n",
      "1\n"
     ]
    }
   ],
   "source": [
    "print(a)\n",
    "print(b)"
   ]
  },
  {
   "cell_type": "markdown",
   "id": "034697de",
   "metadata": {},
   "source": [
    "# 슬라이싱"
   ]
  },
  {
   "cell_type": "code",
   "execution_count": 8,
   "id": "164dbf85",
   "metadata": {
    "ExecuteTime": {
     "end_time": "2022-07-25T08:24:29.743994Z",
     "start_time": "2022-07-25T08:24:29.728037Z"
    }
   },
   "outputs": [],
   "source": [
    "s = \"My name is HW\""
   ]
  },
  {
   "cell_type": "code",
   "execution_count": 9,
   "id": "8eaa0bc1",
   "metadata": {
    "ExecuteTime": {
     "end_time": "2022-07-25T08:24:29.888426Z",
     "start_time": "2022-07-25T08:24:29.871442Z"
    }
   },
   "outputs": [
    {
     "name": "stdout",
     "output_type": "stream",
     "text": [
      " HW\n"
     ]
    }
   ],
   "source": [
    "print(s[10:])"
   ]
  },
  {
   "cell_type": "code",
   "execution_count": 10,
   "id": "66b8a575",
   "metadata": {
    "ExecuteTime": {
     "end_time": "2022-07-25T08:24:30.044765Z",
     "start_time": "2022-07-25T08:24:30.038804Z"
    }
   },
   "outputs": [
    {
     "name": "stdout",
     "output_type": "stream",
     "text": [
      "is HW\n"
     ]
    }
   ],
   "source": [
    "print(s[-5:-2] + s[-2:])"
   ]
  },
  {
   "cell_type": "code",
   "execution_count": 11,
   "id": "4b523360",
   "metadata": {
    "ExecuteTime": {
     "end_time": "2022-07-25T08:24:30.201072Z",
     "start_time": "2022-07-25T08:24:30.191099Z"
    }
   },
   "outputs": [],
   "source": [
    "s = \"2022년 7월 2일의 날씨는 맑음입니다.\""
   ]
  },
  {
   "cell_type": "code",
   "execution_count": 12,
   "id": "705558d4",
   "metadata": {
    "ExecuteTime": {
     "end_time": "2022-07-25T08:24:30.327136Z",
     "start_time": "2022-07-25T08:24:30.319183Z"
    }
   },
   "outputs": [
    {
     "name": "stdout",
     "output_type": "stream",
     "text": [
      "날짜 : 2022년 7월 2일\n",
      "날씨 : 맑음\n"
     ]
    }
   ],
   "source": [
    "print('날짜 : ' + s[:11] + '\\n날씨 : ' + s[-6:-4])"
   ]
  },
  {
   "cell_type": "code",
   "execution_count": 13,
   "id": "93d005b4",
   "metadata": {
    "ExecuteTime": {
     "end_time": "2022-07-25T08:24:30.482764Z",
     "start_time": "2022-07-25T08:24:30.471818Z"
    }
   },
   "outputs": [
    {
     "data": {
      "text/plain": [
       "'오늘은 7월 7일 입니다'"
      ]
     },
     "execution_count": 13,
     "metadata": {},
     "output_type": "execute_result"
    }
   ],
   "source": [
    "day = 7\n",
    "s = \"오늘은 7월 %d일 입니다\"%day\n",
    "s"
   ]
  },
  {
   "cell_type": "code",
   "execution_count": 14,
   "id": "ed3b74e4",
   "metadata": {
    "ExecuteTime": {
     "end_time": "2022-07-25T08:24:30.934431Z",
     "start_time": "2022-07-25T08:24:30.919463Z"
    }
   },
   "outputs": [
    {
     "data": {
      "text/plain": [
       "'오늘은 8월 7일 입니다.'"
      ]
     },
     "execution_count": 14,
     "metadata": {},
     "output_type": "execute_result"
    }
   ],
   "source": [
    "a = 8\n",
    "b = 7\n",
    "s = \"오늘은 %d월 %d일 입니다.\"%(a, b)\n",
    "s"
   ]
  },
  {
   "cell_type": "code",
   "execution_count": 15,
   "id": "aaa24848",
   "metadata": {
    "ExecuteTime": {
     "end_time": "2022-07-25T08:24:31.153073Z",
     "start_time": "2022-07-25T08:24:31.135121Z"
    }
   },
   "outputs": [
    {
     "data": {
      "text/plain": [
       "'오늘은 7월 7일 입니다.'"
      ]
     },
     "execution_count": 15,
     "metadata": {},
     "output_type": "execute_result"
    }
   ],
   "source": [
    "month = 7\n",
    "day = 7\n",
    "s = \"오늘은 {}월 {}일 입니다.\".format(month, day)\n",
    "s"
   ]
  },
  {
   "cell_type": "code",
   "execution_count": 16,
   "id": "f3ac491f",
   "metadata": {
    "ExecuteTime": {
     "end_time": "2022-07-25T08:24:31.325836Z",
     "start_time": "2022-07-25T08:24:31.318880Z"
    }
   },
   "outputs": [
    {
     "name": "stdout",
     "output_type": "stream",
     "text": [
      "저의 이름은 안효원입니다. 취미는 배드민턴 입니다.\n"
     ]
    }
   ],
   "source": [
    "name = '안효원'\n",
    "hobby = '배드민턴'\n",
    "print('저의 이름은 {}입니다. 취미는 {} 입니다.'.format(name, hobby))"
   ]
  },
  {
   "cell_type": "markdown",
   "id": "44502f0d",
   "metadata": {},
   "source": [
    "# 연산자"
   ]
  },
  {
   "cell_type": "code",
   "execution_count": 17,
   "id": "c53b37e5",
   "metadata": {
    "ExecuteTime": {
     "end_time": "2022-07-25T08:24:31.747426Z",
     "start_time": "2022-07-25T08:24:31.743461Z"
    }
   },
   "outputs": [
    {
     "name": "stdout",
     "output_type": "stream",
     "text": [
      "1.4285714285714286\n",
      "3\n",
      "1\n"
     ]
    }
   ],
   "source": [
    "num1 = 10\n",
    "num2 = 7\n",
    "\n",
    "print(num1/num2)\n",
    "print(num1%num2)\n",
    "print(num1//num2)"
   ]
  },
  {
   "cell_type": "code",
   "execution_count": 18,
   "id": "52e89e79",
   "metadata": {
    "ExecuteTime": {
     "end_time": "2022-07-25T08:24:31.980025Z",
     "start_time": "2022-07-25T08:24:31.975041Z"
    }
   },
   "outputs": [
    {
     "name": "stdout",
     "output_type": "stream",
     "text": [
      "3.0\n",
      "0\n",
      "3\n"
     ]
    }
   ],
   "source": [
    "num1 = 21\n",
    "num2 = 7\n",
    "\n",
    "print(num1/num2)\n",
    "print(num1%num2)\n",
    "print(num1//num2)"
   ]
  },
  {
   "cell_type": "code",
   "execution_count": 19,
   "id": "0218dec2",
   "metadata": {
    "ExecuteTime": {
     "end_time": "2022-07-25T08:24:32.230417Z",
     "start_time": "2022-07-25T08:24:32.223459Z"
    }
   },
   "outputs": [
    {
     "name": "stdout",
     "output_type": "stream",
     "text": [
      "더하기 결과 : 26\n",
      "빼기 결과 : 20\n",
      "곱하기 결과 : 69\n",
      "나누기 결과 : 7.666666666666667\n"
     ]
    }
   ],
   "source": [
    "num1 = 23\n",
    "num2 = 3\n",
    "print('더하기 결과 : {}'.format(num1 + num2))\n",
    "print('빼기 결과 : {}'.format(num1 - num2))\n",
    "print('곱하기 결과 : {}'.format(num1 *num2))\n",
    "print('나누기 결과 : {}'.format(num1 / num2))"
   ]
  },
  {
   "cell_type": "code",
   "execution_count": 26,
   "id": "a11095e7",
   "metadata": {
    "ExecuteTime": {
     "end_time": "2022-07-25T08:26:19.979452Z",
     "start_time": "2022-07-25T08:26:18.471463Z"
    }
   },
   "outputs": [
    {
     "name": "stdout",
     "output_type": "stream",
     "text": [
      "Enter Num1 : 23\n"
     ]
    }
   ],
   "source": [
    "num1 = input(\"Enter Num1 : \")"
   ]
  },
  {
   "cell_type": "code",
   "execution_count": 27,
   "id": "d9c3e60a",
   "metadata": {
    "ExecuteTime": {
     "end_time": "2022-07-25T08:26:22.247376Z",
     "start_time": "2022-07-25T08:26:21.607367Z"
    }
   },
   "outputs": [
    {
     "name": "stdout",
     "output_type": "stream",
     "text": [
      "Enter Num2 : 3\n"
     ]
    }
   ],
   "source": [
    "num2 = input(\"Enter Num2 : \")"
   ]
  },
  {
   "cell_type": "code",
   "execution_count": 29,
   "id": "6d734963",
   "metadata": {
    "ExecuteTime": {
     "end_time": "2022-07-25T08:26:38.065343Z",
     "start_time": "2022-07-25T08:26:38.049758Z"
    }
   },
   "outputs": [],
   "source": [
    "num1 = int(num1)\n",
    "num2 = int(num2)"
   ]
  },
  {
   "cell_type": "code",
   "execution_count": 30,
   "id": "57f58ee0",
   "metadata": {
    "ExecuteTime": {
     "end_time": "2022-07-25T08:26:38.220568Z",
     "start_time": "2022-07-25T08:26:38.207576Z"
    }
   },
   "outputs": [
    {
     "name": "stdout",
     "output_type": "stream",
     "text": [
      "더하기 결과 : 26\n",
      "빼기 결과 : 20\n",
      "곱하기 결과 : 69\n",
      "나누기 결과 : 7.666666666666667\n"
     ]
    }
   ],
   "source": [
    "print('더하기 결과 : {}'.format(num1 + num2))\n",
    "print('빼기 결과 : {}'.format(num1 - num2))\n",
    "print('곱하기 결과 : {}'.format(num1 * num2))\n",
    "print('나누기 결과 : {}'.format(num1 / num2))"
   ]
  },
  {
   "cell_type": "code",
   "execution_count": null,
   "id": "066232b0",
   "metadata": {},
   "outputs": [],
   "source": []
  },
  {
   "cell_type": "code",
   "execution_count": null,
   "id": "276551e8",
   "metadata": {},
   "outputs": [],
   "source": []
  },
  {
   "cell_type": "code",
   "execution_count": null,
   "id": "1fd884ff",
   "metadata": {},
   "outputs": [],
   "source": []
  },
  {
   "cell_type": "code",
   "execution_count": null,
   "id": "d0e9f1af",
   "metadata": {},
   "outputs": [],
   "source": []
  },
  {
   "cell_type": "code",
   "execution_count": null,
   "id": "37661c22",
   "metadata": {},
   "outputs": [],
   "source": []
  }
 ],
 "metadata": {
  "gist": {
   "data": {
    "description": "20220725/first.ipynb",
    "public": true
   },
   "id": ""
  },
  "kernelspec": {
   "display_name": "Python 3 (ipykernel)",
   "language": "python",
   "name": "python3"
  },
  "language_info": {
   "codemirror_mode": {
    "name": "ipython",
    "version": 3
   },
   "file_extension": ".py",
   "mimetype": "text/x-python",
   "name": "python",
   "nbconvert_exporter": "python",
   "pygments_lexer": "ipython3",
   "version": "3.9.7"
  },
  "toc": {
   "base_numbering": 1,
   "nav_menu": {},
   "number_sections": false,
   "sideBar": true,
   "skip_h1_title": false,
   "title_cell": "Table of Contents",
   "title_sidebar": "Contents",
   "toc_cell": false,
   "toc_position": {
    "height": "calc(100% - 180px)",
    "left": "10px",
    "top": "150px",
    "width": "208px"
   },
   "toc_section_display": true,
   "toc_window_display": true
  }
 },
 "nbformat": 4,
 "nbformat_minor": 5
}
