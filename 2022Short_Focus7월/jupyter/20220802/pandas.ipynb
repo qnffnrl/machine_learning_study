{
 "cells": [
  {
   "cell_type": "code",
   "execution_count": 1,
   "id": "9e6d7539",
   "metadata": {
    "ExecuteTime": {
     "end_time": "2022-08-03T05:11:50.412263Z",
     "start_time": "2022-08-03T05:11:48.056957Z"
    }
   },
   "outputs": [],
   "source": [
    "import pandas as pd"
   ]
  },
  {
   "cell_type": "code",
   "execution_count": 2,
   "id": "1d716ebb",
   "metadata": {
    "ExecuteTime": {
     "end_time": "2022-08-03T05:11:50.442703Z",
     "start_time": "2022-08-03T05:11:50.412263Z"
    }
   },
   "outputs": [
    {
     "data": {
      "text/plain": [
       "a    4\n",
       "b    7\n",
       "c   -5\n",
       "d    3\n",
       "dtype: int64"
      ]
     },
     "execution_count": 2,
     "metadata": {},
     "output_type": "execute_result"
    }
   ],
   "source": [
    "obj = pd.Series([4, 7, -5, 3], index=['a', 'b', 'c', 'd'])\n",
    "obj"
   ]
  },
  {
   "cell_type": "code",
   "execution_count": 3,
   "id": "f6fec84f",
   "metadata": {
    "ExecuteTime": {
     "end_time": "2022-08-03T05:11:50.458806Z",
     "start_time": "2022-08-03T05:11:50.443701Z"
    }
   },
   "outputs": [
    {
     "data": {
      "text/plain": [
       "array([ 4,  7, -5,  3], dtype=int64)"
      ]
     },
     "execution_count": 3,
     "metadata": {},
     "output_type": "execute_result"
    }
   ],
   "source": [
    "obj.values"
   ]
  },
  {
   "cell_type": "code",
   "execution_count": 4,
   "id": "322e94ea",
   "metadata": {
    "ExecuteTime": {
     "end_time": "2022-08-03T05:11:50.474788Z",
     "start_time": "2022-08-03T05:11:50.460773Z"
    }
   },
   "outputs": [
    {
     "data": {
      "text/plain": [
       "Index(['a', 'b', 'c', 'd'], dtype='object')"
      ]
     },
     "execution_count": 4,
     "metadata": {},
     "output_type": "execute_result"
    }
   ],
   "source": [
    "obj.index"
   ]
  },
  {
   "cell_type": "code",
   "execution_count": 5,
   "id": "f61ca7a0",
   "metadata": {
    "ExecuteTime": {
     "end_time": "2022-08-03T05:11:50.490745Z",
     "start_time": "2022-08-03T05:11:50.476784Z"
    }
   },
   "outputs": [
    {
     "data": {
      "text/plain": [
       "dtype('int64')"
      ]
     },
     "execution_count": 5,
     "metadata": {},
     "output_type": "execute_result"
    }
   ],
   "source": [
    "obj.dtype"
   ]
  },
  {
   "cell_type": "code",
   "execution_count": 6,
   "id": "9855e309",
   "metadata": {
    "ExecuteTime": {
     "end_time": "2022-08-03T05:11:50.505705Z",
     "start_time": "2022-08-03T05:11:50.493737Z"
    }
   },
   "outputs": [],
   "source": [
    "s = pd.Series([9904312, 3448737, 2890451, 2466052], index=['서울', '부산', '인천', '대구'])"
   ]
  },
  {
   "cell_type": "code",
   "execution_count": 7,
   "id": "1113c284",
   "metadata": {
    "ExecuteTime": {
     "end_time": "2022-08-03T05:11:50.521670Z",
     "start_time": "2022-08-03T05:11:50.509694Z"
    }
   },
   "outputs": [
    {
     "data": {
      "text/plain": [
       "서울    9904312\n",
       "부산    3448737\n",
       "인천    2890451\n",
       "대구    2466052\n",
       "dtype: int64"
      ]
     },
     "execution_count": 7,
     "metadata": {},
     "output_type": "execute_result"
    }
   ],
   "source": [
    "s"
   ]
  },
  {
   "cell_type": "code",
   "execution_count": 8,
   "id": "5b67876d",
   "metadata": {
    "ExecuteTime": {
     "end_time": "2022-08-03T05:11:50.536683Z",
     "start_time": "2022-08-03T05:11:50.523671Z"
    }
   },
   "outputs": [
    {
     "data": {
      "text/plain": [
       "서울    9904312\n",
       "부산    3448737\n",
       "인천    2890451\n",
       "대구    2466052\n",
       "Name: 인구, dtype: int64"
      ]
     },
     "execution_count": 8,
     "metadata": {},
     "output_type": "execute_result"
    }
   ],
   "source": [
    "s.name = \"인구\"\n",
    "s"
   ]
  },
  {
   "cell_type": "code",
   "execution_count": 9,
   "id": "b4b6c6f3",
   "metadata": {
    "ExecuteTime": {
     "end_time": "2022-08-03T05:11:50.552628Z",
     "start_time": "2022-08-03T05:11:50.537644Z"
    }
   },
   "outputs": [
    {
     "data": {
      "text/plain": [
       "도시\n",
       "서울    9904312\n",
       "부산    3448737\n",
       "인천    2890451\n",
       "대구    2466052\n",
       "Name: 인구, dtype: int64"
      ]
     },
     "execution_count": 9,
     "metadata": {},
     "output_type": "execute_result"
    }
   ],
   "source": [
    "s.index.name = '도시'\n",
    "s"
   ]
  },
  {
   "cell_type": "code",
   "execution_count": 10,
   "id": "6841dd0c",
   "metadata": {
    "ExecuteTime": {
     "end_time": "2022-08-03T05:11:50.568563Z",
     "start_time": "2022-08-03T05:11:50.554625Z"
    }
   },
   "outputs": [
    {
     "data": {
      "text/plain": [
       "9904312"
      ]
     },
     "execution_count": 10,
     "metadata": {},
     "output_type": "execute_result"
    }
   ],
   "source": [
    "s['서울']"
   ]
  },
  {
   "cell_type": "code",
   "execution_count": 11,
   "id": "4348db11",
   "metadata": {
    "ExecuteTime": {
     "end_time": "2022-08-03T05:11:50.584519Z",
     "start_time": "2022-08-03T05:11:50.570556Z"
    }
   },
   "outputs": [
    {
     "data": {
      "text/plain": [
       "도시\n",
       "부산    3448737\n",
       "인천    2890451\n",
       "Name: 인구, dtype: int64"
      ]
     },
     "execution_count": 11,
     "metadata": {},
     "output_type": "execute_result"
    }
   ],
   "source": [
    "s[(s >= 2500000) & (s <= 5000000)]"
   ]
  },
  {
   "cell_type": "code",
   "execution_count": 12,
   "id": "244c6574",
   "metadata": {
    "ExecuteTime": {
     "end_time": "2022-08-03T05:11:50.600476Z",
     "start_time": "2022-08-03T05:11:50.585517Z"
    }
   },
   "outputs": [],
   "source": [
    "data = {'서울' : 9804312, '부산' : 3418737, '인천' : 2690451, '대전' : 1466052}"
   ]
  },
  {
   "cell_type": "code",
   "execution_count": 13,
   "id": "13f28b40",
   "metadata": {
    "ExecuteTime": {
     "end_time": "2022-08-03T05:11:50.616434Z",
     "start_time": "2022-08-03T05:11:50.602470Z"
    }
   },
   "outputs": [
    {
     "data": {
      "text/plain": [
       "서울    9804312\n",
       "부산    3418737\n",
       "인천    2690451\n",
       "대전    1466052\n",
       "dtype: int64"
      ]
     },
     "execution_count": 13,
     "metadata": {},
     "output_type": "execute_result"
    }
   ],
   "source": [
    "s2 = pd.Series(data)\n",
    "s2"
   ]
  },
  {
   "cell_type": "code",
   "execution_count": 14,
   "id": "20cbf156",
   "metadata": {
    "ExecuteTime": {
     "end_time": "2022-08-03T05:11:50.632422Z",
     "start_time": "2022-08-03T05:11:50.617431Z"
    }
   },
   "outputs": [
    {
     "data": {
      "text/plain": [
       "대구         NaN\n",
       "대전         NaN\n",
       "부산     30000.0\n",
       "서울    100000.0\n",
       "인천    200000.0\n",
       "dtype: float64"
      ]
     },
     "execution_count": 14,
     "metadata": {},
     "output_type": "execute_result"
    }
   ],
   "source": [
    "ds = s - s2\n",
    "ds"
   ]
  },
  {
   "cell_type": "code",
   "execution_count": 15,
   "id": "30ff3f13",
   "metadata": {
    "ExecuteTime": {
     "end_time": "2022-08-03T05:11:50.648349Z",
     "start_time": "2022-08-03T05:11:50.634387Z"
    }
   },
   "outputs": [
    {
     "data": {
      "text/plain": [
       "부산     30000.0\n",
       "서울    100000.0\n",
       "인천    200000.0\n",
       "dtype: float64"
      ]
     },
     "execution_count": 15,
     "metadata": {},
     "output_type": "execute_result"
    }
   ],
   "source": [
    "ds[ds.notnull()]"
   ]
  },
  {
   "cell_type": "code",
   "execution_count": 16,
   "id": "e6e6a85e",
   "metadata": {
    "ExecuteTime": {
     "end_time": "2022-08-03T05:11:50.664305Z",
     "start_time": "2022-08-03T05:11:50.649345Z"
    }
   },
   "outputs": [
    {
     "data": {
      "text/plain": [
       "대구   NaN\n",
       "대전   NaN\n",
       "dtype: float64"
      ]
     },
     "execution_count": 16,
     "metadata": {},
     "output_type": "execute_result"
    }
   ],
   "source": [
    "ds[ds.isnull()]"
   ]
  },
  {
   "cell_type": "code",
   "execution_count": 17,
   "id": "27072aa0",
   "metadata": {
    "ExecuteTime": {
     "end_time": "2022-08-03T05:11:50.680288Z",
     "start_time": "2022-08-03T05:11:50.665303Z"
    }
   },
   "outputs": [
    {
     "data": {
      "text/plain": [
       "대구         NaN\n",
       "대전         NaN\n",
       "부산    0.877517\n",
       "서울    1.019959\n",
       "인천    7.433698\n",
       "dtype: float64"
      ]
     },
     "execution_count": 17,
     "metadata": {},
     "output_type": "execute_result"
    }
   ],
   "source": [
    "(s - s2)/s2*100"
   ]
  },
  {
   "cell_type": "code",
   "execution_count": 18,
   "id": "cd9d6d4d",
   "metadata": {
    "ExecuteTime": {
     "end_time": "2022-08-03T05:11:50.696307Z",
     "start_time": "2022-08-03T05:11:50.682257Z"
    }
   },
   "outputs": [],
   "source": [
    "s['부산'] = 4000000"
   ]
  },
  {
   "cell_type": "code",
   "execution_count": 19,
   "id": "4421bdd2",
   "metadata": {
    "ExecuteTime": {
     "end_time": "2022-08-03T05:11:50.712239Z",
     "start_time": "2022-08-03T05:11:50.698277Z"
    }
   },
   "outputs": [
    {
     "data": {
      "text/plain": [
       "도시\n",
       "서울    9904312\n",
       "부산    4000000\n",
       "인천    2890451\n",
       "대구    2466052\n",
       "Name: 인구, dtype: int64"
      ]
     },
     "execution_count": 19,
     "metadata": {},
     "output_type": "execute_result"
    }
   ],
   "source": [
    "s"
   ]
  },
  {
   "cell_type": "code",
   "execution_count": 20,
   "id": "9e2eb20d",
   "metadata": {
    "ExecuteTime": {
     "end_time": "2022-08-03T05:11:50.728220Z",
     "start_time": "2022-08-03T05:11:50.713236Z"
    }
   },
   "outputs": [
    {
     "data": {
      "text/plain": [
       "도시\n",
       "서울    9904312\n",
       "부산    4000000\n",
       "인천    2890451\n",
       "대구    2466052\n",
       "광주    2000000\n",
       "Name: 인구, dtype: int64"
      ]
     },
     "execution_count": 20,
     "metadata": {},
     "output_type": "execute_result"
    }
   ],
   "source": [
    "s['광주'] = 2000000\n",
    "s"
   ]
  },
  {
   "cell_type": "code",
   "execution_count": 21,
   "id": "b61b9693",
   "metadata": {
    "ExecuteTime": {
     "end_time": "2022-08-03T05:11:50.744154Z",
     "start_time": "2022-08-03T05:11:50.729226Z"
    }
   },
   "outputs": [
    {
     "data": {
      "text/plain": [
       "도시\n",
       "부산    4000000\n",
       "인천    2890451\n",
       "대구    2466052\n",
       "광주    2000000\n",
       "Name: 인구, dtype: int64"
      ]
     },
     "execution_count": 21,
     "metadata": {},
     "output_type": "execute_result"
    }
   ],
   "source": [
    "del s['서울']\n",
    "s"
   ]
  },
  {
   "cell_type": "code",
   "execution_count": 22,
   "id": "2c2eb323",
   "metadata": {
    "ExecuteTime": {
     "end_time": "2022-08-03T05:11:50.760214Z",
     "start_time": "2022-08-03T05:11:50.745150Z"
    }
   },
   "outputs": [
    {
     "data": {
      "text/plain": [
       "{'2015': [9904312, 3448737, 2890451, 2466052],\n",
       " '2010': [9631482, 3393191, 2632035, 2431774]}"
      ]
     },
     "execution_count": 22,
     "metadata": {},
     "output_type": "execute_result"
    }
   ],
   "source": [
    "data = {\n",
    "    '2015':[9904312, 3448737, 2890451, 2466052],\n",
    "    '2010':[9631482, 3393191, 2632035, 2431774]\n",
    "}\n",
    "data"
   ]
  },
  {
   "cell_type": "code",
   "execution_count": 23,
   "id": "dce6afd2",
   "metadata": {
    "ExecuteTime": {
     "end_time": "2022-08-03T05:11:53.232077Z",
     "start_time": "2022-08-03T05:11:53.209114Z"
    }
   },
   "outputs": [
    {
     "data": {
      "text/html": [
       "<div>\n",
       "<style scoped>\n",
       "    .dataframe tbody tr th:only-of-type {\n",
       "        vertical-align: middle;\n",
       "    }\n",
       "\n",
       "    .dataframe tbody tr th {\n",
       "        vertical-align: top;\n",
       "    }\n",
       "\n",
       "    .dataframe thead th {\n",
       "        text-align: right;\n",
       "    }\n",
       "</style>\n",
       "<table border=\"1\" class=\"dataframe\">\n",
       "  <thead>\n",
       "    <tr style=\"text-align: right;\">\n",
       "      <th></th>\n",
       "      <th>2015</th>\n",
       "      <th>2010</th>\n",
       "    </tr>\n",
       "  </thead>\n",
       "  <tbody>\n",
       "    <tr>\n",
       "      <th>0</th>\n",
       "      <td>9904312</td>\n",
       "      <td>9631482</td>\n",
       "    </tr>\n",
       "    <tr>\n",
       "      <th>1</th>\n",
       "      <td>3448737</td>\n",
       "      <td>3393191</td>\n",
       "    </tr>\n",
       "    <tr>\n",
       "      <th>2</th>\n",
       "      <td>2890451</td>\n",
       "      <td>2632035</td>\n",
       "    </tr>\n",
       "    <tr>\n",
       "      <th>3</th>\n",
       "      <td>2466052</td>\n",
       "      <td>2431774</td>\n",
       "    </tr>\n",
       "  </tbody>\n",
       "</table>\n",
       "</div>"
      ],
      "text/plain": [
       "      2015     2010\n",
       "0  9904312  9631482\n",
       "1  3448737  3393191\n",
       "2  2890451  2632035\n",
       "3  2466052  2431774"
      ]
     },
     "execution_count": 23,
     "metadata": {},
     "output_type": "execute_result"
    }
   ],
   "source": [
    "df = pd.DataFrame(data)\n",
    "df"
   ]
  },
  {
   "cell_type": "code",
   "execution_count": 24,
   "id": "79ac0349",
   "metadata": {
    "ExecuteTime": {
     "end_time": "2022-08-03T05:11:53.717420Z",
     "start_time": "2022-08-03T05:11:53.705902Z"
    }
   },
   "outputs": [
    {
     "data": {
      "text/html": [
       "<div>\n",
       "<style scoped>\n",
       "    .dataframe tbody tr th:only-of-type {\n",
       "        vertical-align: middle;\n",
       "    }\n",
       "\n",
       "    .dataframe tbody tr th {\n",
       "        vertical-align: top;\n",
       "    }\n",
       "\n",
       "    .dataframe thead th {\n",
       "        text-align: right;\n",
       "    }\n",
       "</style>\n",
       "<table border=\"1\" class=\"dataframe\">\n",
       "  <thead>\n",
       "    <tr style=\"text-align: right;\">\n",
       "      <th></th>\n",
       "      <th>2015</th>\n",
       "      <th>2010</th>\n",
       "    </tr>\n",
       "  </thead>\n",
       "  <tbody>\n",
       "    <tr>\n",
       "      <th>seoul</th>\n",
       "      <td>9904312</td>\n",
       "      <td>9631482</td>\n",
       "    </tr>\n",
       "    <tr>\n",
       "      <th>busan</th>\n",
       "      <td>3448737</td>\n",
       "      <td>3393191</td>\n",
       "    </tr>\n",
       "    <tr>\n",
       "      <th>incheon</th>\n",
       "      <td>2890451</td>\n",
       "      <td>2632035</td>\n",
       "    </tr>\n",
       "    <tr>\n",
       "      <th>daegu</th>\n",
       "      <td>2466052</td>\n",
       "      <td>2431774</td>\n",
       "    </tr>\n",
       "  </tbody>\n",
       "</table>\n",
       "</div>"
      ],
      "text/plain": [
       "            2015     2010\n",
       "seoul    9904312  9631482\n",
       "busan    3448737  3393191\n",
       "incheon  2890451  2632035\n",
       "daegu    2466052  2431774"
      ]
     },
     "execution_count": 24,
     "metadata": {},
     "output_type": "execute_result"
    }
   ],
   "source": [
    "df.index = ['seoul', 'busan', 'incheon', 'daegu']\n",
    "df"
   ]
  },
  {
   "cell_type": "code",
   "execution_count": 25,
   "id": "18cc6936",
   "metadata": {
    "ExecuteTime": {
     "end_time": "2022-08-03T05:11:53.749465Z",
     "start_time": "2022-08-03T05:11:53.737467Z"
    }
   },
   "outputs": [],
   "source": [
    "data = [\n",
    "    [9904312, 3448737, 2890451, 2466052],\n",
    "    [9631482, 3393191, 2632035, 2431774]\n",
    "]\n",
    "ind = ['2015', '2010']\n",
    "col = ['seoul', 'busan', 'incheon', 'daegu']"
   ]
  },
  {
   "cell_type": "code",
   "execution_count": 26,
   "id": "2f39030e",
   "metadata": {
    "ExecuteTime": {
     "end_time": "2022-08-03T05:11:53.781376Z",
     "start_time": "2022-08-03T05:11:53.769408Z"
    }
   },
   "outputs": [
    {
     "data": {
      "text/html": [
       "<div>\n",
       "<style scoped>\n",
       "    .dataframe tbody tr th:only-of-type {\n",
       "        vertical-align: middle;\n",
       "    }\n",
       "\n",
       "    .dataframe tbody tr th {\n",
       "        vertical-align: top;\n",
       "    }\n",
       "\n",
       "    .dataframe thead th {\n",
       "        text-align: right;\n",
       "    }\n",
       "</style>\n",
       "<table border=\"1\" class=\"dataframe\">\n",
       "  <thead>\n",
       "    <tr style=\"text-align: right;\">\n",
       "      <th></th>\n",
       "      <th>seoul</th>\n",
       "      <th>busan</th>\n",
       "      <th>incheon</th>\n",
       "      <th>daegu</th>\n",
       "    </tr>\n",
       "  </thead>\n",
       "  <tbody>\n",
       "    <tr>\n",
       "      <th>2015</th>\n",
       "      <td>9904312</td>\n",
       "      <td>3448737</td>\n",
       "      <td>2890451</td>\n",
       "      <td>2466052</td>\n",
       "    </tr>\n",
       "    <tr>\n",
       "      <th>2010</th>\n",
       "      <td>9631482</td>\n",
       "      <td>3393191</td>\n",
       "      <td>2632035</td>\n",
       "      <td>2431774</td>\n",
       "    </tr>\n",
       "  </tbody>\n",
       "</table>\n",
       "</div>"
      ],
      "text/plain": [
       "        seoul    busan  incheon    daegu\n",
       "2015  9904312  3448737  2890451  2466052\n",
       "2010  9631482  3393191  2632035  2431774"
      ]
     },
     "execution_count": 26,
     "metadata": {},
     "output_type": "execute_result"
    }
   ],
   "source": [
    "df2 = pd.DataFrame(data, index=ind, columns=col)\n",
    "df2"
   ]
  },
  {
   "cell_type": "code",
   "execution_count": 27,
   "id": "2a9f6da3",
   "metadata": {
    "ExecuteTime": {
     "end_time": "2022-08-03T05:11:53.812936Z",
     "start_time": "2022-08-03T05:11:53.801964Z"
    }
   },
   "outputs": [
    {
     "data": {
      "text/html": [
       "<div>\n",
       "<style scoped>\n",
       "    .dataframe tbody tr th:only-of-type {\n",
       "        vertical-align: middle;\n",
       "    }\n",
       "\n",
       "    .dataframe tbody tr th {\n",
       "        vertical-align: top;\n",
       "    }\n",
       "\n",
       "    .dataframe thead th {\n",
       "        text-align: right;\n",
       "    }\n",
       "</style>\n",
       "<table border=\"1\" class=\"dataframe\">\n",
       "  <thead>\n",
       "    <tr style=\"text-align: right;\">\n",
       "      <th></th>\n",
       "      <th>2015</th>\n",
       "      <th>2010</th>\n",
       "    </tr>\n",
       "  </thead>\n",
       "  <tbody>\n",
       "    <tr>\n",
       "      <th>seoul</th>\n",
       "      <td>9904312</td>\n",
       "      <td>9631482</td>\n",
       "    </tr>\n",
       "    <tr>\n",
       "      <th>busan</th>\n",
       "      <td>3448737</td>\n",
       "      <td>3393191</td>\n",
       "    </tr>\n",
       "    <tr>\n",
       "      <th>incheon</th>\n",
       "      <td>2890451</td>\n",
       "      <td>2632035</td>\n",
       "    </tr>\n",
       "    <tr>\n",
       "      <th>daegu</th>\n",
       "      <td>2466052</td>\n",
       "      <td>2431774</td>\n",
       "    </tr>\n",
       "  </tbody>\n",
       "</table>\n",
       "</div>"
      ],
      "text/plain": [
       "            2015     2010\n",
       "seoul    9904312  9631482\n",
       "busan    3448737  3393191\n",
       "incheon  2890451  2632035\n",
       "daegu    2466052  2431774"
      ]
     },
     "execution_count": 27,
     "metadata": {},
     "output_type": "execute_result"
    }
   ],
   "source": [
    "df2.T"
   ]
  },
  {
   "cell_type": "code",
   "execution_count": 28,
   "id": "adb5c7a7",
   "metadata": {
    "ExecuteTime": {
     "end_time": "2022-08-03T05:11:53.844878Z",
     "start_time": "2022-08-03T05:11:53.833879Z"
    }
   },
   "outputs": [],
   "source": [
    "data = [\n",
    "    [175.3, 180.2, 178.6],\n",
    "    [66.2, 78.9, 55.1],\n",
    "    [27.0, 49.0, 35.0]\n",
    "]\n",
    "index = ['height', 'weight', 'age']\n",
    "col = ['Hong', 'Kim', 'Lim']"
   ]
  },
  {
   "cell_type": "code",
   "execution_count": 29,
   "id": "d0bacf35",
   "metadata": {
    "ExecuteTime": {
     "end_time": "2022-08-03T05:11:53.891102Z",
     "start_time": "2022-08-03T05:11:53.868319Z"
    }
   },
   "outputs": [
    {
     "data": {
      "text/html": [
       "<div>\n",
       "<style scoped>\n",
       "    .dataframe tbody tr th:only-of-type {\n",
       "        vertical-align: middle;\n",
       "    }\n",
       "\n",
       "    .dataframe tbody tr th {\n",
       "        vertical-align: top;\n",
       "    }\n",
       "\n",
       "    .dataframe thead th {\n",
       "        text-align: right;\n",
       "    }\n",
       "</style>\n",
       "<table border=\"1\" class=\"dataframe\">\n",
       "  <thead>\n",
       "    <tr style=\"text-align: right;\">\n",
       "      <th></th>\n",
       "      <th>Hong</th>\n",
       "      <th>Kim</th>\n",
       "      <th>Lim</th>\n",
       "    </tr>\n",
       "  </thead>\n",
       "  <tbody>\n",
       "    <tr>\n",
       "      <th>height</th>\n",
       "      <td>175.3</td>\n",
       "      <td>180.2</td>\n",
       "      <td>178.6</td>\n",
       "    </tr>\n",
       "    <tr>\n",
       "      <th>weight</th>\n",
       "      <td>66.2</td>\n",
       "      <td>78.9</td>\n",
       "      <td>55.1</td>\n",
       "    </tr>\n",
       "    <tr>\n",
       "      <th>age</th>\n",
       "      <td>27.0</td>\n",
       "      <td>49.0</td>\n",
       "      <td>35.0</td>\n",
       "    </tr>\n",
       "  </tbody>\n",
       "</table>\n",
       "</div>"
      ],
      "text/plain": [
       "         Hong    Kim    Lim\n",
       "height  175.3  180.2  178.6\n",
       "weight   66.2   78.9   55.1\n",
       "age      27.0   49.0   35.0"
      ]
     },
     "execution_count": 29,
     "metadata": {},
     "output_type": "execute_result"
    }
   ],
   "source": [
    "df3 = pd.DataFrame(data, index=index, columns=col)\n",
    "df3"
   ]
  },
  {
   "cell_type": "code",
   "execution_count": 36,
   "id": "53b4d3ca",
   "metadata": {
    "ExecuteTime": {
     "end_time": "2022-08-03T05:15:23.985582Z",
     "start_time": "2022-08-03T05:15:23.968626Z"
    }
   },
   "outputs": [],
   "source": [
    "df['2005'] = [6545584, 6549854, 4561215, 2658466]"
   ]
  },
  {
   "cell_type": "code",
   "execution_count": 37,
   "id": "e7f9be1a",
   "metadata": {
    "ExecuteTime": {
     "end_time": "2022-08-03T05:15:24.124483Z",
     "start_time": "2022-08-03T05:15:24.104923Z"
    }
   },
   "outputs": [
    {
     "data": {
      "text/html": [
       "<div>\n",
       "<style scoped>\n",
       "    .dataframe tbody tr th:only-of-type {\n",
       "        vertical-align: middle;\n",
       "    }\n",
       "\n",
       "    .dataframe tbody tr th {\n",
       "        vertical-align: top;\n",
       "    }\n",
       "\n",
       "    .dataframe thead th {\n",
       "        text-align: right;\n",
       "    }\n",
       "</style>\n",
       "<table border=\"1\" class=\"dataframe\">\n",
       "  <thead>\n",
       "    <tr style=\"text-align: right;\">\n",
       "      <th></th>\n",
       "      <th>2015</th>\n",
       "      <th>2010</th>\n",
       "      <th>2005</th>\n",
       "    </tr>\n",
       "  </thead>\n",
       "  <tbody>\n",
       "    <tr>\n",
       "      <th>seoul</th>\n",
       "      <td>9904312</td>\n",
       "      <td>9631482</td>\n",
       "      <td>6545584</td>\n",
       "    </tr>\n",
       "    <tr>\n",
       "      <th>busan</th>\n",
       "      <td>3448737</td>\n",
       "      <td>3393191</td>\n",
       "      <td>6549854</td>\n",
       "    </tr>\n",
       "    <tr>\n",
       "      <th>incheon</th>\n",
       "      <td>2890451</td>\n",
       "      <td>2632035</td>\n",
       "      <td>4561215</td>\n",
       "    </tr>\n",
       "    <tr>\n",
       "      <th>daegu</th>\n",
       "      <td>2466052</td>\n",
       "      <td>2431774</td>\n",
       "      <td>2658466</td>\n",
       "    </tr>\n",
       "  </tbody>\n",
       "</table>\n",
       "</div>"
      ],
      "text/plain": [
       "            2015     2010     2005\n",
       "seoul    9904312  9631482  6545584\n",
       "busan    3448737  3393191  6549854\n",
       "incheon  2890451  2632035  4561215\n",
       "daegu    2466052  2431774  2658466"
      ]
     },
     "execution_count": 37,
     "metadata": {},
     "output_type": "execute_result"
    }
   ],
   "source": [
    "df"
   ]
  },
  {
   "cell_type": "code",
   "execution_count": 38,
   "id": "393b3f47",
   "metadata": {
    "ExecuteTime": {
     "end_time": "2022-08-03T05:15:24.262540Z",
     "start_time": "2022-08-03T05:15:24.240624Z"
    }
   },
   "outputs": [
    {
     "data": {
      "text/html": [
       "<div>\n",
       "<style scoped>\n",
       "    .dataframe tbody tr th:only-of-type {\n",
       "        vertical-align: middle;\n",
       "    }\n",
       "\n",
       "    .dataframe tbody tr th {\n",
       "        vertical-align: top;\n",
       "    }\n",
       "\n",
       "    .dataframe thead th {\n",
       "        text-align: right;\n",
       "    }\n",
       "</style>\n",
       "<table border=\"1\" class=\"dataframe\">\n",
       "  <thead>\n",
       "    <tr style=\"text-align: right;\">\n",
       "      <th></th>\n",
       "      <th>2015</th>\n",
       "      <th>2010</th>\n",
       "    </tr>\n",
       "  </thead>\n",
       "  <tbody>\n",
       "    <tr>\n",
       "      <th>seoul</th>\n",
       "      <td>9904312</td>\n",
       "      <td>9631482</td>\n",
       "    </tr>\n",
       "    <tr>\n",
       "      <th>busan</th>\n",
       "      <td>3448737</td>\n",
       "      <td>3393191</td>\n",
       "    </tr>\n",
       "  </tbody>\n",
       "</table>\n",
       "</div>"
      ],
      "text/plain": [
       "          2015     2010\n",
       "seoul  9904312  9631482\n",
       "busan  3448737  3393191"
      ]
     },
     "execution_count": 38,
     "metadata": {},
     "output_type": "execute_result"
    }
   ],
   "source": [
    "df.loc['seoul' : 'busan', '2015' : '2010']"
   ]
  },
  {
   "cell_type": "code",
   "execution_count": 40,
   "id": "b3b7cf67",
   "metadata": {
    "ExecuteTime": {
     "end_time": "2022-08-03T05:16:37.130533Z",
     "start_time": "2022-08-03T05:16:37.112580Z"
    }
   },
   "outputs": [
    {
     "data": {
      "text/plain": [
       "2015    2466052\n",
       "2010    2431774\n",
       "2005    2658466\n",
       "Name: daegu, dtype: int64"
      ]
     },
     "execution_count": 40,
     "metadata": {},
     "output_type": "execute_result"
    }
   ],
   "source": [
    "df.iloc[3]"
   ]
  },
  {
   "cell_type": "code",
   "execution_count": 41,
   "id": "5c3aee88",
   "metadata": {
    "ExecuteTime": {
     "end_time": "2022-08-03T05:19:04.943882Z",
     "start_time": "2022-08-03T05:19:04.928922Z"
    }
   },
   "outputs": [
    {
     "data": {
      "text/html": [
       "<div>\n",
       "<style scoped>\n",
       "    .dataframe tbody tr th:only-of-type {\n",
       "        vertical-align: middle;\n",
       "    }\n",
       "\n",
       "    .dataframe tbody tr th {\n",
       "        vertical-align: top;\n",
       "    }\n",
       "\n",
       "    .dataframe thead th {\n",
       "        text-align: right;\n",
       "    }\n",
       "</style>\n",
       "<table border=\"1\" class=\"dataframe\">\n",
       "  <thead>\n",
       "    <tr style=\"text-align: right;\">\n",
       "      <th></th>\n",
       "      <th>2015</th>\n",
       "    </tr>\n",
       "  </thead>\n",
       "  <tbody>\n",
       "    <tr>\n",
       "      <th>incheon</th>\n",
       "      <td>2890451</td>\n",
       "    </tr>\n",
       "  </tbody>\n",
       "</table>\n",
       "</div>"
      ],
      "text/plain": [
       "            2015\n",
       "incheon  2890451"
      ]
     },
     "execution_count": 41,
     "metadata": {},
     "output_type": "execute_result"
    }
   ],
   "source": [
    "df.iloc[2:3, 0:1]"
   ]
  },
  {
   "cell_type": "code",
   "execution_count": 42,
   "id": "debc4053",
   "metadata": {
    "ExecuteTime": {
     "end_time": "2022-08-03T05:19:22.017790Z",
     "start_time": "2022-08-03T05:19:22.007789Z"
    }
   },
   "outputs": [
    {
     "data": {
      "text/html": [
       "<div>\n",
       "<style scoped>\n",
       "    .dataframe tbody tr th:only-of-type {\n",
       "        vertical-align: middle;\n",
       "    }\n",
       "\n",
       "    .dataframe tbody tr th {\n",
       "        vertical-align: top;\n",
       "    }\n",
       "\n",
       "    .dataframe thead th {\n",
       "        text-align: right;\n",
       "    }\n",
       "</style>\n",
       "<table border=\"1\" class=\"dataframe\">\n",
       "  <thead>\n",
       "    <tr style=\"text-align: right;\">\n",
       "      <th></th>\n",
       "      <th>2015</th>\n",
       "      <th>2010</th>\n",
       "      <th>2005</th>\n",
       "    </tr>\n",
       "  </thead>\n",
       "  <tbody>\n",
       "    <tr>\n",
       "      <th>seoul</th>\n",
       "      <td>9904312</td>\n",
       "      <td>9631482</td>\n",
       "      <td>6545584</td>\n",
       "    </tr>\n",
       "    <tr>\n",
       "      <th>busan</th>\n",
       "      <td>3448737</td>\n",
       "      <td>3393191</td>\n",
       "      <td>6549854</td>\n",
       "    </tr>\n",
       "    <tr>\n",
       "      <th>incheon</th>\n",
       "      <td>2890451</td>\n",
       "      <td>2632035</td>\n",
       "      <td>4561215</td>\n",
       "    </tr>\n",
       "    <tr>\n",
       "      <th>daegu</th>\n",
       "      <td>2466052</td>\n",
       "      <td>2431774</td>\n",
       "      <td>2658466</td>\n",
       "    </tr>\n",
       "  </tbody>\n",
       "</table>\n",
       "</div>"
      ],
      "text/plain": [
       "            2015     2010     2005\n",
       "seoul    9904312  9631482  6545584\n",
       "busan    3448737  3393191  6549854\n",
       "incheon  2890451  2632035  4561215\n",
       "daegu    2466052  2431774  2658466"
      ]
     },
     "execution_count": 42,
     "metadata": {},
     "output_type": "execute_result"
    }
   ],
   "source": [
    "df"
   ]
  },
  {
   "cell_type": "code",
   "execution_count": 44,
   "id": "6534ee8a",
   "metadata": {
    "ExecuteTime": {
     "end_time": "2022-08-03T05:20:58.395041Z",
     "start_time": "2022-08-03T05:20:58.385097Z"
    }
   },
   "outputs": [
    {
     "data": {
      "text/plain": [
       "seoul       True\n",
       "busan       True\n",
       "incheon     True\n",
       "daegu      False\n",
       "Name: 2010, dtype: bool"
      ]
     },
     "execution_count": 44,
     "metadata": {},
     "output_type": "execute_result"
    }
   ],
   "source": [
    "df['2010'] >= 2500000"
   ]
  },
  {
   "cell_type": "code",
   "execution_count": 45,
   "id": "2d6fadaf",
   "metadata": {
    "ExecuteTime": {
     "end_time": "2022-08-03T05:21:07.490316Z",
     "start_time": "2022-08-03T05:21:07.480286Z"
    }
   },
   "outputs": [
    {
     "data": {
      "text/html": [
       "<div>\n",
       "<style scoped>\n",
       "    .dataframe tbody tr th:only-of-type {\n",
       "        vertical-align: middle;\n",
       "    }\n",
       "\n",
       "    .dataframe tbody tr th {\n",
       "        vertical-align: top;\n",
       "    }\n",
       "\n",
       "    .dataframe thead th {\n",
       "        text-align: right;\n",
       "    }\n",
       "</style>\n",
       "<table border=\"1\" class=\"dataframe\">\n",
       "  <thead>\n",
       "    <tr style=\"text-align: right;\">\n",
       "      <th></th>\n",
       "      <th>2015</th>\n",
       "      <th>2010</th>\n",
       "      <th>2005</th>\n",
       "    </tr>\n",
       "  </thead>\n",
       "  <tbody>\n",
       "    <tr>\n",
       "      <th>seoul</th>\n",
       "      <td>9904312</td>\n",
       "      <td>9631482</td>\n",
       "      <td>6545584</td>\n",
       "    </tr>\n",
       "    <tr>\n",
       "      <th>busan</th>\n",
       "      <td>3448737</td>\n",
       "      <td>3393191</td>\n",
       "      <td>6549854</td>\n",
       "    </tr>\n",
       "    <tr>\n",
       "      <th>incheon</th>\n",
       "      <td>2890451</td>\n",
       "      <td>2632035</td>\n",
       "      <td>4561215</td>\n",
       "    </tr>\n",
       "  </tbody>\n",
       "</table>\n",
       "</div>"
      ],
      "text/plain": [
       "            2015     2010     2005\n",
       "seoul    9904312  9631482  6545584\n",
       "busan    3448737  3393191  6549854\n",
       "incheon  2890451  2632035  4561215"
      ]
     },
     "execution_count": 45,
     "metadata": {},
     "output_type": "execute_result"
    }
   ],
   "source": [
    "df[df['2010'] >= 2500000]"
   ]
  },
  {
   "cell_type": "code",
   "execution_count": null,
   "id": "56b63fa7",
   "metadata": {},
   "outputs": [],
   "source": []
  },
  {
   "cell_type": "code",
   "execution_count": null,
   "id": "cef9eb6e",
   "metadata": {},
   "outputs": [],
   "source": []
  },
  {
   "cell_type": "code",
   "execution_count": null,
   "id": "a8b5614b",
   "metadata": {},
   "outputs": [],
   "source": []
  },
  {
   "cell_type": "code",
   "execution_count": null,
   "id": "f072626c",
   "metadata": {},
   "outputs": [],
   "source": []
  }
 ],
 "metadata": {
  "kernelspec": {
   "display_name": "Python 3 (ipykernel)",
   "language": "python",
   "name": "python3"
  },
  "language_info": {
   "codemirror_mode": {
    "name": "ipython",
    "version": 3
   },
   "file_extension": ".py",
   "mimetype": "text/x-python",
   "name": "python",
   "nbconvert_exporter": "python",
   "pygments_lexer": "ipython3",
   "version": "3.9.12"
  },
  "toc": {
   "base_numbering": 1,
   "nav_menu": {},
   "number_sections": true,
   "sideBar": true,
   "skip_h1_title": false,
   "title_cell": "Table of Contents",
   "title_sidebar": "Contents",
   "toc_cell": false,
   "toc_position": {},
   "toc_section_display": true,
   "toc_window_display": false
  }
 },
 "nbformat": 4,
 "nbformat_minor": 5
}
