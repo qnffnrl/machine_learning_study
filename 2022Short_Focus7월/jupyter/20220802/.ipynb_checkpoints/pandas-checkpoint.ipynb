{
 "cells": [
  {
   "cell_type": "code",
   "execution_count": 1,
   "id": "61d3b106",
   "metadata": {
    "ExecuteTime": {
     "end_time": "2022-08-02T06:07:50.304734Z",
     "start_time": "2022-08-02T06:07:49.671124Z"
    }
   },
   "outputs": [],
   "source": [
    "import pandas as pd"
   ]
  },
  {
   "cell_type": "code",
   "execution_count": 3,
   "id": "ae77c8e9",
   "metadata": {
    "ExecuteTime": {
     "end_time": "2022-08-02T06:09:21.098673Z",
     "start_time": "2022-08-02T06:09:21.091665Z"
    }
   },
   "outputs": [
    {
     "data": {
      "text/plain": [
       "a    4\n",
       "b    7\n",
       "c   -5\n",
       "d    3\n",
       "dtype: int64"
      ]
     },
     "execution_count": 3,
     "metadata": {},
     "output_type": "execute_result"
    }
   ],
   "source": [
    "obj = pd.Series([4, 7, -5, 3], index=['a', 'b', 'c', 'd'])\n",
    "obj"
   ]
  },
  {
   "cell_type": "code",
   "execution_count": 5,
   "id": "c5b28374",
   "metadata": {
    "ExecuteTime": {
     "end_time": "2022-08-02T06:09:41.892459Z",
     "start_time": "2022-08-02T06:09:41.875591Z"
    }
   },
   "outputs": [
    {
     "data": {
      "text/plain": [
       "array([ 4,  7, -5,  3], dtype=int64)"
      ]
     },
     "execution_count": 5,
     "metadata": {},
     "output_type": "execute_result"
    }
   ],
   "source": [
    "obj.values"
   ]
  },
  {
   "cell_type": "code",
   "execution_count": 6,
   "id": "b6390112",
   "metadata": {
    "ExecuteTime": {
     "end_time": "2022-08-02T06:09:57.699532Z",
     "start_time": "2022-08-02T06:09:57.683607Z"
    }
   },
   "outputs": [
    {
     "data": {
      "text/plain": [
       "Index(['a', 'b', 'c', 'd'], dtype='object')"
      ]
     },
     "execution_count": 6,
     "metadata": {},
     "output_type": "execute_result"
    }
   ],
   "source": [
    "obj.index"
   ]
  },
  {
   "cell_type": "code",
   "execution_count": 7,
   "id": "27c41052",
   "metadata": {
    "ExecuteTime": {
     "end_time": "2022-08-02T06:10:03.124748Z",
     "start_time": "2022-08-02T06:10:03.107795Z"
    }
   },
   "outputs": [
    {
     "data": {
      "text/plain": [
       "dtype('int64')"
      ]
     },
     "execution_count": 7,
     "metadata": {},
     "output_type": "execute_result"
    }
   ],
   "source": [
    "obj.dtype"
   ]
  },
  {
   "cell_type": "code",
   "execution_count": 8,
   "id": "c79c7ab1",
   "metadata": {
    "ExecuteTime": {
     "end_time": "2022-08-02T06:11:10.994018Z",
     "start_time": "2022-08-02T06:11:10.988034Z"
    }
   },
   "outputs": [],
   "source": [
    "s = pd.Series([9904312, 3448737, 2890451, 2466052], index=['서울', '부산', '인천', '대구'])"
   ]
  },
  {
   "cell_type": "code",
   "execution_count": 9,
   "id": "11a20b47",
   "metadata": {
    "ExecuteTime": {
     "end_time": "2022-08-02T06:11:12.408820Z",
     "start_time": "2022-08-02T06:11:12.403812Z"
    }
   },
   "outputs": [
    {
     "data": {
      "text/plain": [
       "서울    9904312\n",
       "부산    3448737\n",
       "인천    2890451\n",
       "대구    2466052\n",
       "dtype: int64"
      ]
     },
     "execution_count": 9,
     "metadata": {},
     "output_type": "execute_result"
    }
   ],
   "source": [
    "s"
   ]
  },
  {
   "cell_type": "code",
   "execution_count": 11,
   "id": "dcd5ee5f",
   "metadata": {
    "ExecuteTime": {
     "end_time": "2022-08-02T06:12:08.460293Z",
     "start_time": "2022-08-02T06:12:08.443766Z"
    }
   },
   "outputs": [
    {
     "data": {
      "text/plain": [
       "서울    9904312\n",
       "부산    3448737\n",
       "인천    2890451\n",
       "대구    2466052\n",
       "Name: 인구, dtype: int64"
      ]
     },
     "execution_count": 11,
     "metadata": {},
     "output_type": "execute_result"
    }
   ],
   "source": [
    "s.name = \"인구\"\n",
    "s"
   ]
  },
  {
   "cell_type": "code",
   "execution_count": 12,
   "id": "54d0600a",
   "metadata": {
    "ExecuteTime": {
     "end_time": "2022-08-02T06:12:19.958852Z",
     "start_time": "2022-08-02T06:12:19.939904Z"
    }
   },
   "outputs": [
    {
     "data": {
      "text/plain": [
       "도시\n",
       "서울    9904312\n",
       "부산    3448737\n",
       "인천    2890451\n",
       "대구    2466052\n",
       "Name: 인구, dtype: int64"
      ]
     },
     "execution_count": 12,
     "metadata": {},
     "output_type": "execute_result"
    }
   ],
   "source": [
    "s.index.name = '도시'\n",
    "s"
   ]
  },
  {
   "cell_type": "code",
   "execution_count": 14,
   "id": "f7684d03",
   "metadata": {
    "ExecuteTime": {
     "end_time": "2022-08-02T06:13:25.730258Z",
     "start_time": "2022-08-02T06:13:25.726243Z"
    }
   },
   "outputs": [
    {
     "data": {
      "text/plain": [
       "9904312"
      ]
     },
     "execution_count": 14,
     "metadata": {},
     "output_type": "execute_result"
    }
   ],
   "source": [
    "s['서울']"
   ]
  },
  {
   "cell_type": "code",
   "execution_count": 20,
   "id": "630ac8b2",
   "metadata": {
    "ExecuteTime": {
     "end_time": "2022-08-02T06:16:14.864256Z",
     "start_time": "2022-08-02T06:16:14.852288Z"
    }
   },
   "outputs": [
    {
     "data": {
      "text/plain": [
       "도시\n",
       "부산    3448737\n",
       "인천    2890451\n",
       "Name: 인구, dtype: int64"
      ]
     },
     "execution_count": 20,
     "metadata": {},
     "output_type": "execute_result"
    }
   ],
   "source": [
    "s[(s >= 2500000) & (s <= 5000000)]"
   ]
  },
  {
   "cell_type": "code",
   "execution_count": 34,
   "id": "1b3430c7",
   "metadata": {
    "ExecuteTime": {
     "end_time": "2022-08-02T06:20:54.014376Z",
     "start_time": "2022-08-02T06:20:53.997317Z"
    }
   },
   "outputs": [],
   "source": [
    "data = {'서울' : 9804312, '부산' : 3418737, '인천' : 2690451, '대전' : 1466052}"
   ]
  },
  {
   "cell_type": "code",
   "execution_count": 35,
   "id": "a469ac5f",
   "metadata": {
    "ExecuteTime": {
     "end_time": "2022-08-02T06:20:54.155686Z",
     "start_time": "2022-08-02T06:20:54.140701Z"
    }
   },
   "outputs": [
    {
     "data": {
      "text/plain": [
       "서울    9804312\n",
       "부산    3418737\n",
       "인천    2690451\n",
       "대전    1466052\n",
       "dtype: int64"
      ]
     },
     "execution_count": 35,
     "metadata": {},
     "output_type": "execute_result"
    }
   ],
   "source": [
    "s2 = pd.Series(data)\n",
    "s2"
   ]
  },
  {
   "cell_type": "code",
   "execution_count": 36,
   "id": "d2c74ab0",
   "metadata": {
    "ExecuteTime": {
     "end_time": "2022-08-02T06:20:54.326361Z",
     "start_time": "2022-08-02T06:20:54.316386Z"
    }
   },
   "outputs": [
    {
     "data": {
      "text/plain": [
       "대구         NaN\n",
       "대전         NaN\n",
       "부산     30000.0\n",
       "서울    100000.0\n",
       "인천    200000.0\n",
       "dtype: float64"
      ]
     },
     "execution_count": 36,
     "metadata": {},
     "output_type": "execute_result"
    }
   ],
   "source": [
    "ds = s - s2\n",
    "ds"
   ]
  },
  {
   "cell_type": "code",
   "execution_count": 38,
   "id": "1db2c9ab",
   "metadata": {
    "ExecuteTime": {
     "end_time": "2022-08-02T06:21:54.361848Z",
     "start_time": "2022-08-02T06:21:54.348912Z"
    }
   },
   "outputs": [
    {
     "data": {
      "text/plain": [
       "부산     30000.0\n",
       "서울    100000.0\n",
       "인천    200000.0\n",
       "dtype: float64"
      ]
     },
     "execution_count": 38,
     "metadata": {},
     "output_type": "execute_result"
    }
   ],
   "source": [
    "ds[ds.notnull()]"
   ]
  },
  {
   "cell_type": "code",
   "execution_count": 39,
   "id": "1d1c4e21",
   "metadata": {
    "ExecuteTime": {
     "end_time": "2022-08-02T06:22:12.152007Z",
     "start_time": "2022-08-02T06:22:12.133085Z"
    }
   },
   "outputs": [
    {
     "data": {
      "text/plain": [
       "대구   NaN\n",
       "대전   NaN\n",
       "dtype: float64"
      ]
     },
     "execution_count": 39,
     "metadata": {},
     "output_type": "execute_result"
    }
   ],
   "source": [
    "ds[ds.isnull()]"
   ]
  },
  {
   "cell_type": "code",
   "execution_count": 42,
   "id": "e9e66256",
   "metadata": {
    "ExecuteTime": {
     "end_time": "2022-08-02T06:23:28.943952Z",
     "start_time": "2022-08-02T06:23:28.925023Z"
    }
   },
   "outputs": [
    {
     "data": {
      "text/plain": [
       "대구         NaN\n",
       "대전         NaN\n",
       "부산    0.877517\n",
       "서울    1.019959\n",
       "인천    7.433698\n",
       "dtype: float64"
      ]
     },
     "execution_count": 42,
     "metadata": {},
     "output_type": "execute_result"
    }
   ],
   "source": [
    "(s - s2)/s2*100"
   ]
  },
  {
   "cell_type": "code",
   "execution_count": 44,
   "id": "d93d0c82",
   "metadata": {
    "ExecuteTime": {
     "end_time": "2022-08-02T06:24:27.859166Z",
     "start_time": "2022-08-02T06:24:27.853160Z"
    }
   },
   "outputs": [],
   "source": [
    "s['부산'] = 4000000"
   ]
  },
  {
   "cell_type": "code",
   "execution_count": 45,
   "id": "fd87fd95",
   "metadata": {
    "ExecuteTime": {
     "end_time": "2022-08-02T06:24:30.421116Z",
     "start_time": "2022-08-02T06:24:30.413137Z"
    }
   },
   "outputs": [
    {
     "data": {
      "text/plain": [
       "도시\n",
       "서울    9904312\n",
       "부산    4000000\n",
       "인천    2890451\n",
       "대구    2466052\n",
       "Name: 인구, dtype: int64"
      ]
     },
     "execution_count": 45,
     "metadata": {},
     "output_type": "execute_result"
    }
   ],
   "source": [
    "s"
   ]
  },
  {
   "cell_type": "code",
   "execution_count": 46,
   "id": "fce6d28f",
   "metadata": {
    "ExecuteTime": {
     "end_time": "2022-08-02T06:24:54.379274Z",
     "start_time": "2022-08-02T06:24:54.365310Z"
    }
   },
   "outputs": [
    {
     "data": {
      "text/plain": [
       "도시\n",
       "서울    9904312\n",
       "부산    4000000\n",
       "인천    2890451\n",
       "대구    2466052\n",
       "광주    2000000\n",
       "Name: 인구, dtype: int64"
      ]
     },
     "execution_count": 46,
     "metadata": {},
     "output_type": "execute_result"
    }
   ],
   "source": [
    "s['광주'] = 2000000\n",
    "s"
   ]
  },
  {
   "cell_type": "code",
   "execution_count": 47,
   "id": "78f98639",
   "metadata": {
    "ExecuteTime": {
     "end_time": "2022-08-02T06:25:23.086494Z",
     "start_time": "2022-08-02T06:25:23.069542Z"
    }
   },
   "outputs": [
    {
     "data": {
      "text/plain": [
       "도시\n",
       "부산    4000000\n",
       "인천    2890451\n",
       "대구    2466052\n",
       "광주    2000000\n",
       "Name: 인구, dtype: int64"
      ]
     },
     "execution_count": 47,
     "metadata": {},
     "output_type": "execute_result"
    }
   ],
   "source": [
    "del s['서울']\n",
    "s"
   ]
  },
  {
   "cell_type": "code",
   "execution_count": 48,
   "id": "b8223f91",
   "metadata": {
    "ExecuteTime": {
     "end_time": "2022-08-02T06:27:29.868800Z",
     "start_time": "2022-08-02T06:27:29.853647Z"
    }
   },
   "outputs": [
    {
     "data": {
      "text/plain": [
       "{'2015': [9904312, 3448737, 2890451, 2466052],\n",
       " '2010': [9631482, 3393191, 2632035, 2431774]}"
      ]
     },
     "execution_count": 48,
     "metadata": {},
     "output_type": "execute_result"
    }
   ],
   "source": [
    "data = {\n",
    "    '2015':[9904312, 3448737, 2890451, 2466052],\n",
    "    '2010':[9631482, 3393191, 2632035, 2431774]\n",
    "}\n",
    "data"
   ]
  },
  {
   "cell_type": "code",
   "execution_count": 49,
   "id": "d48ae217",
   "metadata": {
    "ExecuteTime": {
     "end_time": "2022-08-02T06:28:00.987781Z",
     "start_time": "2022-08-02T06:28:00.965841Z"
    }
   },
   "outputs": [
    {
     "data": {
      "text/html": [
       "<div>\n",
       "<style scoped>\n",
       "    .dataframe tbody tr th:only-of-type {\n",
       "        vertical-align: middle;\n",
       "    }\n",
       "\n",
       "    .dataframe tbody tr th {\n",
       "        vertical-align: top;\n",
       "    }\n",
       "\n",
       "    .dataframe thead th {\n",
       "        text-align: right;\n",
       "    }\n",
       "</style>\n",
       "<table border=\"1\" class=\"dataframe\">\n",
       "  <thead>\n",
       "    <tr style=\"text-align: right;\">\n",
       "      <th></th>\n",
       "      <th>2015</th>\n",
       "      <th>2010</th>\n",
       "    </tr>\n",
       "  </thead>\n",
       "  <tbody>\n",
       "    <tr>\n",
       "      <th>0</th>\n",
       "      <td>9904312</td>\n",
       "      <td>9631482</td>\n",
       "    </tr>\n",
       "    <tr>\n",
       "      <th>1</th>\n",
       "      <td>3448737</td>\n",
       "      <td>3393191</td>\n",
       "    </tr>\n",
       "    <tr>\n",
       "      <th>2</th>\n",
       "      <td>2890451</td>\n",
       "      <td>2632035</td>\n",
       "    </tr>\n",
       "    <tr>\n",
       "      <th>3</th>\n",
       "      <td>2466052</td>\n",
       "      <td>2431774</td>\n",
       "    </tr>\n",
       "  </tbody>\n",
       "</table>\n",
       "</div>"
      ],
      "text/plain": [
       "      2015     2010\n",
       "0  9904312  9631482\n",
       "1  3448737  3393191\n",
       "2  2890451  2632035\n",
       "3  2466052  2431774"
      ]
     },
     "execution_count": 49,
     "metadata": {},
     "output_type": "execute_result"
    }
   ],
   "source": [
    "df = pd.DataFrame(data)\n",
    "df"
   ]
  },
  {
   "cell_type": "code",
   "execution_count": 53,
   "id": "ac92d81c",
   "metadata": {
    "ExecuteTime": {
     "end_time": "2022-08-02T06:30:52.076510Z",
     "start_time": "2022-08-02T06:30:52.069532Z"
    }
   },
   "outputs": [
    {
     "data": {
      "text/html": [
       "<div>\n",
       "<style scoped>\n",
       "    .dataframe tbody tr th:only-of-type {\n",
       "        vertical-align: middle;\n",
       "    }\n",
       "\n",
       "    .dataframe tbody tr th {\n",
       "        vertical-align: top;\n",
       "    }\n",
       "\n",
       "    .dataframe thead th {\n",
       "        text-align: right;\n",
       "    }\n",
       "</style>\n",
       "<table border=\"1\" class=\"dataframe\">\n",
       "  <thead>\n",
       "    <tr style=\"text-align: right;\">\n",
       "      <th></th>\n",
       "      <th>2015</th>\n",
       "      <th>2010</th>\n",
       "    </tr>\n",
       "  </thead>\n",
       "  <tbody>\n",
       "    <tr>\n",
       "      <th>seoul</th>\n",
       "      <td>9904312</td>\n",
       "      <td>9631482</td>\n",
       "    </tr>\n",
       "    <tr>\n",
       "      <th>busan</th>\n",
       "      <td>3448737</td>\n",
       "      <td>3393191</td>\n",
       "    </tr>\n",
       "    <tr>\n",
       "      <th>incheon</th>\n",
       "      <td>2890451</td>\n",
       "      <td>2632035</td>\n",
       "    </tr>\n",
       "    <tr>\n",
       "      <th>daegu</th>\n",
       "      <td>2466052</td>\n",
       "      <td>2431774</td>\n",
       "    </tr>\n",
       "  </tbody>\n",
       "</table>\n",
       "</div>"
      ],
      "text/plain": [
       "            2015     2010\n",
       "seoul    9904312  9631482\n",
       "busan    3448737  3393191\n",
       "incheon  2890451  2632035\n",
       "daegu    2466052  2431774"
      ]
     },
     "execution_count": 53,
     "metadata": {},
     "output_type": "execute_result"
    }
   ],
   "source": [
    "df.index = ['seoul', 'busan', 'incheon', 'daegu']\n",
    "df"
   ]
  },
  {
   "cell_type": "code",
   "execution_count": 54,
   "id": "89447901",
   "metadata": {
    "ExecuteTime": {
     "end_time": "2022-08-02T06:32:05.950860Z",
     "start_time": "2022-08-02T06:32:05.933907Z"
    }
   },
   "outputs": [],
   "source": [
    "data = [\n",
    "    [9904312, 3448737, 2890451, 2466052],\n",
    "    [9631482, 3393191, 2632035, 2431774]\n",
    "]\n",
    "ind = ['2015', '2010']\n",
    "col = ['seoul', 'busan', 'incheon', 'daegu']"
   ]
  },
  {
   "cell_type": "code",
   "execution_count": 55,
   "id": "4500f48a",
   "metadata": {
    "ExecuteTime": {
     "end_time": "2022-08-02T06:32:51.656902Z",
     "start_time": "2022-08-02T06:32:51.637952Z"
    }
   },
   "outputs": [
    {
     "data": {
      "text/html": [
       "<div>\n",
       "<style scoped>\n",
       "    .dataframe tbody tr th:only-of-type {\n",
       "        vertical-align: middle;\n",
       "    }\n",
       "\n",
       "    .dataframe tbody tr th {\n",
       "        vertical-align: top;\n",
       "    }\n",
       "\n",
       "    .dataframe thead th {\n",
       "        text-align: right;\n",
       "    }\n",
       "</style>\n",
       "<table border=\"1\" class=\"dataframe\">\n",
       "  <thead>\n",
       "    <tr style=\"text-align: right;\">\n",
       "      <th></th>\n",
       "      <th>seoul</th>\n",
       "      <th>busan</th>\n",
       "      <th>incheon</th>\n",
       "      <th>daegu</th>\n",
       "    </tr>\n",
       "  </thead>\n",
       "  <tbody>\n",
       "    <tr>\n",
       "      <th>2015</th>\n",
       "      <td>9904312</td>\n",
       "      <td>3448737</td>\n",
       "      <td>2890451</td>\n",
       "      <td>2466052</td>\n",
       "    </tr>\n",
       "    <tr>\n",
       "      <th>2010</th>\n",
       "      <td>9631482</td>\n",
       "      <td>3393191</td>\n",
       "      <td>2632035</td>\n",
       "      <td>2431774</td>\n",
       "    </tr>\n",
       "  </tbody>\n",
       "</table>\n",
       "</div>"
      ],
      "text/plain": [
       "        seoul    busan  incheon    daegu\n",
       "2015  9904312  3448737  2890451  2466052\n",
       "2010  9631482  3393191  2632035  2431774"
      ]
     },
     "execution_count": 55,
     "metadata": {},
     "output_type": "execute_result"
    }
   ],
   "source": [
    "df2 = pd.DataFrame(data, index=ind, columns=col)\n",
    "df2"
   ]
  },
  {
   "cell_type": "code",
   "execution_count": 56,
   "id": "960b39f6",
   "metadata": {
    "ExecuteTime": {
     "end_time": "2022-08-02T06:33:31.772942Z",
     "start_time": "2022-08-02T06:33:31.757984Z"
    }
   },
   "outputs": [
    {
     "data": {
      "text/html": [
       "<div>\n",
       "<style scoped>\n",
       "    .dataframe tbody tr th:only-of-type {\n",
       "        vertical-align: middle;\n",
       "    }\n",
       "\n",
       "    .dataframe tbody tr th {\n",
       "        vertical-align: top;\n",
       "    }\n",
       "\n",
       "    .dataframe thead th {\n",
       "        text-align: right;\n",
       "    }\n",
       "</style>\n",
       "<table border=\"1\" class=\"dataframe\">\n",
       "  <thead>\n",
       "    <tr style=\"text-align: right;\">\n",
       "      <th></th>\n",
       "      <th>2015</th>\n",
       "      <th>2010</th>\n",
       "    </tr>\n",
       "  </thead>\n",
       "  <tbody>\n",
       "    <tr>\n",
       "      <th>seoul</th>\n",
       "      <td>9904312</td>\n",
       "      <td>9631482</td>\n",
       "    </tr>\n",
       "    <tr>\n",
       "      <th>busan</th>\n",
       "      <td>3448737</td>\n",
       "      <td>3393191</td>\n",
       "    </tr>\n",
       "    <tr>\n",
       "      <th>incheon</th>\n",
       "      <td>2890451</td>\n",
       "      <td>2632035</td>\n",
       "    </tr>\n",
       "    <tr>\n",
       "      <th>daegu</th>\n",
       "      <td>2466052</td>\n",
       "      <td>2431774</td>\n",
       "    </tr>\n",
       "  </tbody>\n",
       "</table>\n",
       "</div>"
      ],
      "text/plain": [
       "            2015     2010\n",
       "seoul    9904312  9631482\n",
       "busan    3448737  3393191\n",
       "incheon  2890451  2632035\n",
       "daegu    2466052  2431774"
      ]
     },
     "execution_count": 56,
     "metadata": {},
     "output_type": "execute_result"
    }
   ],
   "source": [
    "df2.T"
   ]
  },
  {
   "cell_type": "code",
   "execution_count": 57,
   "id": "3156ef86",
   "metadata": {
    "ExecuteTime": {
     "end_time": "2022-08-02T06:35:28.438495Z",
     "start_time": "2022-08-02T06:35:28.422566Z"
    }
   },
   "outputs": [],
   "source": [
    "data = [\n",
    "    [175.3, 180.2, 178.6],\n",
    "    [66.2, 78.9, 55.1],\n",
    "    [27.0, 49.0, 35.0]\n",
    "]\n",
    "index = ['height', 'weight', 'age']\n",
    "col = ['Hong', 'Kim', 'Lim']"
   ]
  },
  {
   "cell_type": "code",
   "execution_count": 58,
   "id": "31d4077e",
   "metadata": {
    "ExecuteTime": {
     "end_time": "2022-08-02T06:35:48.688200Z",
     "start_time": "2022-08-02T06:35:48.670273Z"
    }
   },
   "outputs": [
    {
     "data": {
      "text/html": [
       "<div>\n",
       "<style scoped>\n",
       "    .dataframe tbody tr th:only-of-type {\n",
       "        vertical-align: middle;\n",
       "    }\n",
       "\n",
       "    .dataframe tbody tr th {\n",
       "        vertical-align: top;\n",
       "    }\n",
       "\n",
       "    .dataframe thead th {\n",
       "        text-align: right;\n",
       "    }\n",
       "</style>\n",
       "<table border=\"1\" class=\"dataframe\">\n",
       "  <thead>\n",
       "    <tr style=\"text-align: right;\">\n",
       "      <th></th>\n",
       "      <th>Hong</th>\n",
       "      <th>Kim</th>\n",
       "      <th>Lim</th>\n",
       "    </tr>\n",
       "  </thead>\n",
       "  <tbody>\n",
       "    <tr>\n",
       "      <th>height</th>\n",
       "      <td>175.3</td>\n",
       "      <td>180.2</td>\n",
       "      <td>178.6</td>\n",
       "    </tr>\n",
       "    <tr>\n",
       "      <th>weight</th>\n",
       "      <td>66.2</td>\n",
       "      <td>78.9</td>\n",
       "      <td>55.1</td>\n",
       "    </tr>\n",
       "    <tr>\n",
       "      <th>age</th>\n",
       "      <td>27.0</td>\n",
       "      <td>49.0</td>\n",
       "      <td>35.0</td>\n",
       "    </tr>\n",
       "  </tbody>\n",
       "</table>\n",
       "</div>"
      ],
      "text/plain": [
       "         Hong    Kim    Lim\n",
       "height  175.3  180.2  178.6\n",
       "weight   66.2   78.9   55.1\n",
       "age      27.0   49.0   35.0"
      ]
     },
     "execution_count": 58,
     "metadata": {},
     "output_type": "execute_result"
    }
   ],
   "source": [
    "df3 = pd.DataFrame(data, index=index, columns=col)\n",
    "df3"
   ]
  },
  {
   "cell_type": "code",
   "execution_count": 61,
   "id": "1c53180c",
   "metadata": {
    "ExecuteTime": {
     "end_time": "2022-08-02T06:47:44.466092Z",
     "start_time": "2022-08-02T06:47:44.455128Z"
    }
   },
   "outputs": [
    {
     "data": {
      "text/html": [
       "<div>\n",
       "<style scoped>\n",
       "    .dataframe tbody tr th:only-of-type {\n",
       "        vertical-align: middle;\n",
       "    }\n",
       "\n",
       "    .dataframe tbody tr th {\n",
       "        vertical-align: top;\n",
       "    }\n",
       "\n",
       "    .dataframe thead th {\n",
       "        text-align: right;\n",
       "    }\n",
       "</style>\n",
       "<table border=\"1\" class=\"dataframe\">\n",
       "  <thead>\n",
       "    <tr style=\"text-align: right;\">\n",
       "      <th></th>\n",
       "      <th>2015</th>\n",
       "      <th>2010</th>\n",
       "    </tr>\n",
       "  </thead>\n",
       "  <tbody>\n",
       "    <tr>\n",
       "      <th>seoul</th>\n",
       "      <td>9904312</td>\n",
       "      <td>9631482</td>\n",
       "    </tr>\n",
       "    <tr>\n",
       "      <th>busan</th>\n",
       "      <td>3448737</td>\n",
       "      <td>3393191</td>\n",
       "    </tr>\n",
       "    <tr>\n",
       "      <th>incheon</th>\n",
       "      <td>2890451</td>\n",
       "      <td>2632035</td>\n",
       "    </tr>\n",
       "    <tr>\n",
       "      <th>daegu</th>\n",
       "      <td>2466052</td>\n",
       "      <td>2431774</td>\n",
       "    </tr>\n",
       "  </tbody>\n",
       "</table>\n",
       "</div>"
      ],
      "text/plain": [
       "            2015     2010\n",
       "seoul    9904312  9631482\n",
       "busan    3448737  3393191\n",
       "incheon  2890451  2632035\n",
       "daegu    2466052  2431774"
      ]
     },
     "execution_count": 61,
     "metadata": {},
     "output_type": "execute_result"
    }
   ],
   "source": [
    "ㅇㅇ"
   ]
  },
  {
   "cell_type": "code",
   "execution_count": null,
   "id": "20142709",
   "metadata": {},
   "outputs": [],
   "source": []
  },
  {
   "cell_type": "code",
   "execution_count": null,
   "id": "932c1d6c",
   "metadata": {},
   "outputs": [],
   "source": []
  },
  {
   "cell_type": "code",
   "execution_count": null,
   "id": "beb60c00",
   "metadata": {},
   "outputs": [],
   "source": []
  },
  {
   "cell_type": "code",
   "execution_count": null,
   "id": "0e37fdbb",
   "metadata": {},
   "outputs": [],
   "source": []
  },
  {
   "cell_type": "code",
   "execution_count": null,
   "id": "454afe12",
   "metadata": {},
   "outputs": [],
   "source": []
  }
 ],
 "metadata": {
  "kernelspec": {
   "display_name": "Python 3 (ipykernel)",
   "language": "python",
   "name": "python3"
  },
  "language_info": {
   "codemirror_mode": {
    "name": "ipython",
    "version": 3
   },
   "file_extension": ".py",
   "mimetype": "text/x-python",
   "name": "python",
   "nbconvert_exporter": "python",
   "pygments_lexer": "ipython3",
   "version": "3.9.12"
  },
  "toc": {
   "base_numbering": 1,
   "nav_menu": {},
   "number_sections": true,
   "sideBar": true,
   "skip_h1_title": false,
   "title_cell": "Table of Contents",
   "title_sidebar": "Contents",
   "toc_cell": false,
   "toc_position": {},
   "toc_section_display": true,
   "toc_window_display": false
  }
 },
 "nbformat": 4,
 "nbformat_minor": 5
}
