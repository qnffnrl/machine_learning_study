{
 "cells": [
  {
   "cell_type": "code",
   "execution_count": 1,
   "id": "cfcdba9e",
   "metadata": {
    "ExecuteTime": {
     "end_time": "2022-08-09T05:06:47.445635Z",
     "start_time": "2022-08-09T05:06:45.694851Z"
    }
   },
   "outputs": [],
   "source": [
    "import pandas as pd\n",
    "import matplotlib.pyplot as plt"
   ]
  },
  {
   "cell_type": "code",
   "execution_count": 2,
   "id": "42e3daf1",
   "metadata": {
    "ExecuteTime": {
     "end_time": "2022-08-09T05:07:13.426425Z",
     "start_time": "2022-08-09T05:07:13.379732Z"
    }
   },
   "outputs": [],
   "source": [
    "data = pd.read_csv('../20220804/data/bmi.csv', index_col='label')"
   ]
  },
  {
   "cell_type": "code",
   "execution_count": 3,
   "id": "9c07a23b",
   "metadata": {
    "ExecuteTime": {
     "end_time": "2022-08-09T05:07:14.736597Z",
     "start_time": "2022-08-09T05:07:14.675759Z"
    },
    "scrolled": true
   },
   "outputs": [
    {
     "data": {
      "text/html": [
       "<div>\n",
       "<style scoped>\n",
       "    .dataframe tbody tr th:only-of-type {\n",
       "        vertical-align: middle;\n",
       "    }\n",
       "\n",
       "    .dataframe tbody tr th {\n",
       "        vertical-align: top;\n",
       "    }\n",
       "\n",
       "    .dataframe thead th {\n",
       "        text-align: right;\n",
       "    }\n",
       "</style>\n",
       "<table border=\"1\" class=\"dataframe\">\n",
       "  <thead>\n",
       "    <tr style=\"text-align: right;\">\n",
       "      <th></th>\n",
       "      <th>height</th>\n",
       "      <th>weight</th>\n",
       "    </tr>\n",
       "    <tr>\n",
       "      <th>label</th>\n",
       "      <th></th>\n",
       "      <th></th>\n",
       "    </tr>\n",
       "  </thead>\n",
       "  <tbody>\n",
       "    <tr>\n",
       "      <th>normal</th>\n",
       "      <td>140</td>\n",
       "      <td>45</td>\n",
       "    </tr>\n",
       "    <tr>\n",
       "      <th>fat</th>\n",
       "      <td>145</td>\n",
       "      <td>72</td>\n",
       "    </tr>\n",
       "    <tr>\n",
       "      <th>fat</th>\n",
       "      <td>150</td>\n",
       "      <td>61</td>\n",
       "    </tr>\n",
       "    <tr>\n",
       "      <th>fat</th>\n",
       "      <td>137</td>\n",
       "      <td>56</td>\n",
       "    </tr>\n",
       "    <tr>\n",
       "      <th>thin</th>\n",
       "      <td>192</td>\n",
       "      <td>48</td>\n",
       "    </tr>\n",
       "    <tr>\n",
       "      <th>...</th>\n",
       "      <td>...</td>\n",
       "      <td>...</td>\n",
       "    </tr>\n",
       "    <tr>\n",
       "      <th>fat</th>\n",
       "      <td>157</td>\n",
       "      <td>67</td>\n",
       "    </tr>\n",
       "    <tr>\n",
       "      <th>normal</th>\n",
       "      <td>138</td>\n",
       "      <td>40</td>\n",
       "    </tr>\n",
       "    <tr>\n",
       "      <th>normal</th>\n",
       "      <td>163</td>\n",
       "      <td>62</td>\n",
       "    </tr>\n",
       "    <tr>\n",
       "      <th>normal</th>\n",
       "      <td>169</td>\n",
       "      <td>68</td>\n",
       "    </tr>\n",
       "    <tr>\n",
       "      <th>thin</th>\n",
       "      <td>183</td>\n",
       "      <td>39</td>\n",
       "    </tr>\n",
       "  </tbody>\n",
       "</table>\n",
       "<p>20000 rows × 2 columns</p>\n",
       "</div>"
      ],
      "text/plain": [
       "        height  weight\n",
       "label                 \n",
       "normal     140      45\n",
       "fat        145      72\n",
       "fat        150      61\n",
       "fat        137      56\n",
       "thin       192      48\n",
       "...        ...     ...\n",
       "fat        157      67\n",
       "normal     138      40\n",
       "normal     163      62\n",
       "normal     169      68\n",
       "thin       183      39\n",
       "\n",
       "[20000 rows x 2 columns]"
      ]
     },
     "execution_count": 3,
     "metadata": {},
     "output_type": "execute_result"
    }
   ],
   "source": [
    "data"
   ]
  },
  {
   "cell_type": "code",
   "execution_count": 4,
   "id": "fe74a939",
   "metadata": {
    "ExecuteTime": {
     "end_time": "2022-08-09T05:07:45.878040Z",
     "start_time": "2022-08-09T05:07:45.660021Z"
    }
   },
   "outputs": [
    {
     "data": {
      "text/plain": [
       "<matplotlib.collections.PathCollection at 0x257de314d60>"
      ]
     },
     "execution_count": 4,
     "metadata": {},
     "output_type": "execute_result"
    },
    {
     "data": {
      "image/png": "[encoded data removed]",
      "text/plain": [
       "<Figure size 432x288 with 1 Axes>"
      ]
     },
     "metadata": {
      "needs_background": "light"
     },
     "output_type": "display_data"
    }
   ],
   "source": [
    "plt.scatter(data.loc[:, 'weight'], data.loc[:, 'height'])"
   ]
  },
  {
   "cell_type": "code",
   "execution_count": 6,
   "id": "79229b07",
   "metadata": {
    "ExecuteTime": {
     "end_time": "2022-08-09T05:08:48.359459Z",
     "start_time": "2022-08-09T05:08:48.163873Z"
    }
   },
   "outputs": [
    {
     "data": {
      "text/plain": [
       "<matplotlib.collections.PathCollection at 0x257de868160>"
      ]
     },
     "execution_count": 6,
     "metadata": {},
     "output_type": "execute_result"
    },
    {
     "data": {
      "image/png": "[encoded data removed]",
      "text/plain": [
       "<Figure size 432x288 with 1 Axes>"
      ]
     },
     "metadata": {
      "needs_background": "light"
     },
     "output_type": "display_data"
    }
   ],
   "source": [
    "plt.scatter(data.loc['thin', 'weight'], data.loc['thin', 'height'])\n",
    "plt.scatter(data.loc['normal', 'weight'], data.loc['normal', 'height'])\n",
    "plt.scatter(data.loc['fat', 'weight'], data.loc['fat', 'height'])"
   ]
  },
  {
   "cell_type": "code",
   "execution_count": 7,
   "id": "a162d889",
   "metadata": {
    "ExecuteTime": {
     "end_time": "2022-08-09T05:11:45.555214Z",
     "start_time": "2022-08-09T05:11:45.532298Z"
    }
   },
   "outputs": [],
   "source": [
    "data = pd.read_csv('../20220804/data/bmi.csv')"
   ]
  },
  {
   "cell_type": "code",
   "execution_count": 8,
   "id": "33e692ad",
   "metadata": {
    "ExecuteTime": {
     "end_time": "2022-08-09T05:12:38.074448Z",
     "start_time": "2022-08-09T05:12:37.076349Z"
    }
   },
   "outputs": [],
   "source": [
    "from sklearn.model_selection import train_test_split"
   ]
  },
  {
   "cell_type": "code",
   "execution_count": 9,
   "id": "cf331c4a",
   "metadata": {
    "ExecuteTime": {
     "end_time": "2022-08-09T05:12:38.095546Z",
     "start_time": "2022-08-09T05:12:38.074448Z"
    }
   },
   "outputs": [],
   "source": [
    "X = data.iloc[:, :-1]\n",
    "y = data.iloc[:, -1]"
   ]
  },
  {
   "cell_type": "code",
   "execution_count": 10,
   "id": "b6629e8d",
   "metadata": {
    "ExecuteTime": {
     "end_time": "2022-08-09T05:12:38.111134Z",
     "start_time": "2022-08-09T05:12:38.095546Z"
    }
   },
   "outputs": [],
   "source": [
    "X_train, X_test, y_train, y_test = train_test_split(X, y, test_size=0.3)"
   ]
  },
  {
   "cell_type": "code",
   "execution_count": 11,
   "id": "68bfb03f",
   "metadata": {
    "ExecuteTime": {
     "end_time": "2022-08-09T05:12:38.126756Z",
     "start_time": "2022-08-09T05:12:38.111134Z"
    }
   },
   "outputs": [
    {
     "name": "stdout",
     "output_type": "stream",
     "text": [
      "(14000, 2)  (14000,) \n",
      "\n",
      "(6000, 2)  (6000,)\n"
     ]
    }
   ],
   "source": [
    "print(X_train.shape, end='')\n",
    "print(' ', y_train.shape, '\\n')\n",
    "\n",
    "print(X_test.shape, end='')\n",
    "print(' ', y_test.shape)"
   ]
  },
  {
   "cell_type": "markdown",
   "id": "34daafbd",
   "metadata": {},
   "source": [
    "# Model "
   ]
  },
  {
   "cell_type": "code",
   "execution_count": 12,
   "id": "86b60d80",
   "metadata": {
    "ExecuteTime": {
     "end_time": "2022-08-09T05:12:38.346163Z",
     "start_time": "2022-08-09T05:12:38.126756Z"
    }
   },
   "outputs": [],
   "source": [
    "from sklearn.neighbors import KNeighborsClassifier"
   ]
  },
  {
   "cell_type": "code",
   "execution_count": 13,
   "id": "aec8e90f",
   "metadata": {
    "ExecuteTime": {
     "end_time": "2022-08-09T05:12:38.361254Z",
     "start_time": "2022-08-09T05:12:38.347183Z"
    }
   },
   "outputs": [],
   "source": [
    "model = KNeighborsClassifier()"
   ]
  },
  {
   "cell_type": "markdown",
   "id": "255a2b8e",
   "metadata": {},
   "source": [
    "# Fit"
   ]
  },
  {
   "cell_type": "code",
   "execution_count": 14,
   "id": "a1f3bf93",
   "metadata": {
    "ExecuteTime": {
     "end_time": "2022-08-09T05:12:38.423130Z",
     "start_time": "2022-08-09T05:12:38.381165Z"
    }
   },
   "outputs": [
    {
     "data": {
      "text/plain": [
       "KNeighborsClassifier()"
      ]
     },
     "execution_count": 14,
     "metadata": {},
     "output_type": "execute_result"
    }
   ],
   "source": [
    "model.fit(X_train, y_train)"
   ]
  },
  {
   "cell_type": "markdown",
   "id": "03d5dd5c",
   "metadata": {},
   "source": [
    "# Model Evaluation"
   ]
  },
  {
   "cell_type": "code",
   "execution_count": 15,
   "id": "38387bdc",
   "metadata": {
    "ExecuteTime": {
     "end_time": "2022-08-09T05:12:38.851300Z",
     "start_time": "2022-08-09T05:12:38.627816Z"
    }
   },
   "outputs": [
    {
     "data": {
      "text/plain": [
       "array(['fat', 'fat', 'thin', ..., 'fat', 'fat', 'fat'], dtype=object)"
      ]
     },
     "execution_count": 15,
     "metadata": {},
     "output_type": "execute_result"
    }
   ],
   "source": [
    "pre = model.predict(X_test)\n",
    "pre"
   ]
  },
  {
   "cell_type": "code",
   "execution_count": 16,
   "id": "caeb2b69",
   "metadata": {
    "ExecuteTime": {
     "end_time": "2022-08-09T05:12:38.866778Z",
     "start_time": "2022-08-09T05:12:38.853269Z"
    }
   },
   "outputs": [],
   "source": [
    "from sklearn import metrics"
   ]
  },
  {
   "cell_type": "code",
   "execution_count": 17,
   "id": "6f1ecf9d",
   "metadata": {
    "ExecuteTime": {
     "end_time": "2022-08-09T05:12:38.898722Z",
     "start_time": "2022-08-09T05:12:38.875755Z"
    }
   },
   "outputs": [],
   "source": [
    "score = metrics.accuracy_score(y_test, pre)"
   ]
  },
  {
   "cell_type": "code",
   "execution_count": 18,
   "id": "4a5994bc",
   "metadata": {
    "ExecuteTime": {
     "end_time": "2022-08-09T05:12:39.022999Z",
     "start_time": "2022-08-09T05:12:39.004050Z"
    }
   },
   "outputs": [
    {
     "name": "stdout",
     "output_type": "stream",
     "text": [
      "Accuracy : 99.65%\n"
     ]
    }
   ],
   "source": [
    "print('Accuracy : {}%'.format(score*100))"
   ]
  },
  {
   "cell_type": "code",
   "execution_count": 19,
   "id": "599aff38",
   "metadata": {
    "ExecuteTime": {
     "end_time": "2022-08-09T05:12:39.131755Z",
     "start_time": "2022-08-09T05:12:39.116796Z"
    },
    "scrolled": true
   },
   "outputs": [
    {
     "name": "stderr",
     "output_type": "stream",
     "text": [
      "C:\\Users\\pc\\anaconda3\\lib\\site-packages\\sklearn\\base.py:450: UserWarning: X does not have valid feature names, but KNeighborsClassifier was fitted with feature names\n",
      "  warnings.warn(\n"
     ]
    },
    {
     "data": {
      "text/plain": [
       "array(['normal'], dtype=object)"
      ]
     },
     "execution_count": 19,
     "metadata": {},
     "output_type": "execute_result"
    }
   ],
   "source": [
    "model.predict([[176, 70]])"
   ]
  },
  {
   "cell_type": "code",
   "execution_count": null,
   "id": "1edb294f",
   "metadata": {},
   "outputs": [],
   "source": []
  },
  {
   "cell_type": "code",
   "execution_count": null,
   "id": "dd17cab2",
   "metadata": {},
   "outputs": [],
   "source": []
  },
  {
   "cell_type": "code",
   "execution_count": null,
   "id": "ba6a06f1",
   "metadata": {},
   "outputs": [],
   "source": []
  },
  {
   "cell_type": "code",
   "execution_count": null,
   "id": "11ab7064",
   "metadata": {},
   "outputs": [],
   "source": []
  },
  {
   "cell_type": "code",
   "execution_count": null,
   "id": "c5a7241b",
   "metadata": {},
   "outputs": [],
   "source": []
  },
  {
   "cell_type": "code",
   "execution_count": null,
   "id": "e34c9943",
   "metadata": {},
   "outputs": [],
   "source": []
  },
  {
   "cell_type": "code",
   "execution_count": null,
   "id": "934d6772",
   "metadata": {},
   "outputs": [],
   "source": []
  },
  {
   "cell_type": "code",
   "execution_count": null,
   "id": "7ff0c99d",
   "metadata": {},
   "outputs": [],
   "source": []
  },
  {
   "cell_type": "code",
   "execution_count": null,
   "id": "98b689fe",
   "metadata": {},
   "outputs": [],
   "source": []
  },
  {
   "cell_type": "code",
   "execution_count": null,
   "id": "ac262c14",
   "metadata": {},
   "outputs": [],
   "source": []
  }
 ],
 "metadata": {
  "kernelspec": {
   "display_name": "Python 3 (ipykernel)",
   "language": "python",
   "name": "python3"
  },
  "language_info": {
   "codemirror_mode": {
    "name": "ipython",
    "version": 3
   },
   "file_extension": ".py",
   "mimetype": "text/x-python",
   "name": "python",
   "nbconvert_exporter": "python",
   "pygments_lexer": "ipython3",
   "version": "3.9.12"
  },
  "toc": {
   "base_numbering": 1,
   "nav_menu": {},
   "number_sections": true,
   "sideBar": true,
   "skip_h1_title": false,
   "title_cell": "Table of Contents",
   "title_sidebar": "Contents",
   "toc_cell": false,
   "toc_position": {},
   "toc_section_display": true,
   "toc_window_display": false
  }
 },
 "nbformat": 4,
 "nbformat_minor": 5
}
