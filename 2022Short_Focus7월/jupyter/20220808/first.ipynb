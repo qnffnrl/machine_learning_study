{
 "cells": [
  {
   "cell_type": "code",
   "execution_count": 94,
   "id": "f6201056",
   "metadata": {
    "ExecuteTime": {
     "end_time": "2022-08-08T05:58:19.517592Z",
     "start_time": "2022-08-08T05:58:19.512582Z"
    }
   },
   "outputs": [],
   "source": [
    "import pandas as pd\n",
    "import matplotlib.pyplot as plt"
   ]
  },
  {
   "cell_type": "code",
   "execution_count": 96,
   "id": "2637d9cf",
   "metadata": {
    "ExecuteTime": {
     "end_time": "2022-08-08T06:12:42.501391Z",
     "start_time": "2022-08-08T06:12:42.480894Z"
    }
   },
   "outputs": [],
   "source": [
    "data = pd.read_csv('../20220804/data/bmi.csv', encoding='euc-kr', index_col='label')"
   ]
  },
  {
   "cell_type": "markdown",
   "id": "75f386ba",
   "metadata": {},
   "source": [
    "# Predict label by Height,  Weight\n",
    "## Categorical Crossentropy"
   ]
  },
  {
   "cell_type": "code",
   "execution_count": 98,
   "id": "540e7db9",
   "metadata": {
    "ExecuteTime": {
     "end_time": "2022-08-08T06:13:00.771307Z",
     "start_time": "2022-08-08T06:13:00.752359Z"
    }
   },
   "outputs": [
    {
     "data": {
      "text/html": [
       "<div>\n",
       "<style scoped>\n",
       "    .dataframe tbody tr th:only-of-type {\n",
       "        vertical-align: middle;\n",
       "    }\n",
       "\n",
       "    .dataframe tbody tr th {\n",
       "        vertical-align: top;\n",
       "    }\n",
       "\n",
       "    .dataframe thead th {\n",
       "        text-align: right;\n",
       "    }\n",
       "</style>\n",
       "<table border=\"1\" class=\"dataframe\">\n",
       "  <thead>\n",
       "    <tr style=\"text-align: right;\">\n",
       "      <th></th>\n",
       "      <th>height</th>\n",
       "      <th>weight</th>\n",
       "    </tr>\n",
       "    <tr>\n",
       "      <th>label</th>\n",
       "      <th></th>\n",
       "      <th></th>\n",
       "    </tr>\n",
       "  </thead>\n",
       "  <tbody>\n",
       "    <tr>\n",
       "      <th>normal</th>\n",
       "      <td>140</td>\n",
       "      <td>45</td>\n",
       "    </tr>\n",
       "    <tr>\n",
       "      <th>fat</th>\n",
       "      <td>145</td>\n",
       "      <td>72</td>\n",
       "    </tr>\n",
       "    <tr>\n",
       "      <th>fat</th>\n",
       "      <td>150</td>\n",
       "      <td>61</td>\n",
       "    </tr>\n",
       "    <tr>\n",
       "      <th>fat</th>\n",
       "      <td>137</td>\n",
       "      <td>56</td>\n",
       "    </tr>\n",
       "    <tr>\n",
       "      <th>thin</th>\n",
       "      <td>192</td>\n",
       "      <td>48</td>\n",
       "    </tr>\n",
       "    <tr>\n",
       "      <th>...</th>\n",
       "      <td>...</td>\n",
       "      <td>...</td>\n",
       "    </tr>\n",
       "    <tr>\n",
       "      <th>fat</th>\n",
       "      <td>157</td>\n",
       "      <td>67</td>\n",
       "    </tr>\n",
       "    <tr>\n",
       "      <th>normal</th>\n",
       "      <td>138</td>\n",
       "      <td>40</td>\n",
       "    </tr>\n",
       "    <tr>\n",
       "      <th>normal</th>\n",
       "      <td>163</td>\n",
       "      <td>62</td>\n",
       "    </tr>\n",
       "    <tr>\n",
       "      <th>normal</th>\n",
       "      <td>169</td>\n",
       "      <td>68</td>\n",
       "    </tr>\n",
       "    <tr>\n",
       "      <th>thin</th>\n",
       "      <td>183</td>\n",
       "      <td>39</td>\n",
       "    </tr>\n",
       "  </tbody>\n",
       "</table>\n",
       "<p>20000 rows × 2 columns</p>\n",
       "</div>"
      ],
      "text/plain": [
       "        height  weight\n",
       "label                 \n",
       "normal     140      45\n",
       "fat        145      72\n",
       "fat        150      61\n",
       "fat        137      56\n",
       "thin       192      48\n",
       "...        ...     ...\n",
       "fat        157      67\n",
       "normal     138      40\n",
       "normal     163      62\n",
       "normal     169      68\n",
       "thin       183      39\n",
       "\n",
       "[20000 rows x 2 columns]"
      ]
     },
     "execution_count": 98,
     "metadata": {},
     "output_type": "execute_result"
    }
   ],
   "source": [
    "data"
   ]
  },
  {
   "cell_type": "markdown",
   "id": "912c380e",
   "metadata": {},
   "source": [
    "# Data Analysis"
   ]
  },
  {
   "cell_type": "code",
   "execution_count": 117,
   "id": "eddf6067",
   "metadata": {
    "ExecuteTime": {
     "end_time": "2022-08-08T06:20:42.143533Z",
     "start_time": "2022-08-08T06:20:41.968524Z"
    }
   },
   "outputs": [
    {
     "data": {
      "text/plain": [
       "<matplotlib.collections.PathCollection at 0x22ccedfc610>"
      ]
     },
     "execution_count": 117,
     "metadata": {},
     "output_type": "execute_result"
    },
    {
     "data": {
      "image/png": "[encoded data removed]",
      "text/plain": [
       "<Figure size 432x288 with 1 Axes>"
      ]
     },
     "metadata": {
      "needs_background": "light"
     },
     "output_type": "display_data"
    }
   ],
   "source": [
    "plt.scatter(data.loc['thin', 'weight'], data.loc['thin', 'height'], c='r')\n",
    "\n",
    "plt.scatter(data.loc['normal', 'weight'], data.loc['normal', 'height'], c='g')\n",
    "\n",
    "plt.scatter(data.loc['fat', 'weight'], data.loc['fat', 'height'], c='b')"
   ]
  },
  {
   "cell_type": "code",
   "execution_count": 118,
   "id": "fd074c91",
   "metadata": {
    "ExecuteTime": {
     "end_time": "2022-08-08T06:20:42.316671Z",
     "start_time": "2022-08-08T06:20:42.304546Z"
    }
   },
   "outputs": [],
   "source": [
    "def scatter(index, color):\n",
    "    b = data.loc[index]\n",
    "    plt.scatter(b['weight'], b['height'], c=color, label=index)"
   ]
  },
  {
   "cell_type": "code",
   "execution_count": 119,
   "id": "c995a3ae",
   "metadata": {
    "ExecuteTime": {
     "end_time": "2022-08-08T06:20:42.693645Z",
     "start_time": "2022-08-08T06:20:42.520595Z"
    },
    "scrolled": true
   },
   "outputs": [
    {
     "data": {
      "image/png": "[encoded data removed]",
      "text/plain": [
       "<Figure size 432x288 with 1 Axes>"
      ]
     },
     "metadata": {
      "needs_background": "light"
     },
     "output_type": "display_data"
    }
   ],
   "source": [
    "scatter('thin', 'r')\n",
    "scatter('normal', 'g')\n",
    "scatter('fat', 'b')"
   ]
  },
  {
   "cell_type": "code",
   "execution_count": 120,
   "id": "9be60aa5",
   "metadata": {
    "ExecuteTime": {
     "end_time": "2022-08-08T06:21:35.717249Z",
     "start_time": "2022-08-08T06:21:35.696975Z"
    }
   },
   "outputs": [],
   "source": [
    "data = pd.read_csv('../20220804/data/bmi.csv')"
   ]
  },
  {
   "cell_type": "code",
   "execution_count": 121,
   "id": "a29023f5",
   "metadata": {
    "ExecuteTime": {
     "end_time": "2022-08-08T06:21:39.098843Z",
     "start_time": "2022-08-08T06:21:39.080859Z"
    }
   },
   "outputs": [
    {
     "data": {
      "text/html": [
       "<div>\n",
       "<style scoped>\n",
       "    .dataframe tbody tr th:only-of-type {\n",
       "        vertical-align: middle;\n",
       "    }\n",
       "\n",
       "    .dataframe tbody tr th {\n",
       "        vertical-align: top;\n",
       "    }\n",
       "\n",
       "    .dataframe thead th {\n",
       "        text-align: right;\n",
       "    }\n",
       "</style>\n",
       "<table border=\"1\" class=\"dataframe\">\n",
       "  <thead>\n",
       "    <tr style=\"text-align: right;\">\n",
       "      <th></th>\n",
       "      <th>height</th>\n",
       "      <th>weight</th>\n",
       "      <th>label</th>\n",
       "    </tr>\n",
       "  </thead>\n",
       "  <tbody>\n",
       "    <tr>\n",
       "      <th>0</th>\n",
       "      <td>140</td>\n",
       "      <td>45</td>\n",
       "      <td>normal</td>\n",
       "    </tr>\n",
       "    <tr>\n",
       "      <th>1</th>\n",
       "      <td>145</td>\n",
       "      <td>72</td>\n",
       "      <td>fat</td>\n",
       "    </tr>\n",
       "    <tr>\n",
       "      <th>2</th>\n",
       "      <td>150</td>\n",
       "      <td>61</td>\n",
       "      <td>fat</td>\n",
       "    </tr>\n",
       "    <tr>\n",
       "      <th>3</th>\n",
       "      <td>137</td>\n",
       "      <td>56</td>\n",
       "      <td>fat</td>\n",
       "    </tr>\n",
       "    <tr>\n",
       "      <th>4</th>\n",
       "      <td>192</td>\n",
       "      <td>48</td>\n",
       "      <td>thin</td>\n",
       "    </tr>\n",
       "  </tbody>\n",
       "</table>\n",
       "</div>"
      ],
      "text/plain": [
       "   height  weight   label\n",
       "0     140      45  normal\n",
       "1     145      72     fat\n",
       "2     150      61     fat\n",
       "3     137      56     fat\n",
       "4     192      48    thin"
      ]
     },
     "execution_count": 121,
     "metadata": {},
     "output_type": "execute_result"
    }
   ],
   "source": [
    "data.head()"
   ]
  },
  {
   "cell_type": "code",
   "execution_count": 123,
   "id": "61a1262f",
   "metadata": {
    "ExecuteTime": {
     "end_time": "2022-08-08T06:23:02.989436Z",
     "start_time": "2022-08-08T06:23:02.968516Z"
    }
   },
   "outputs": [
    {
     "data": {
      "text/plain": [
       "fat       7712\n",
       "thin      6338\n",
       "normal    5950\n",
       "Name: label, dtype: int64"
      ]
     },
     "execution_count": 123,
     "metadata": {},
     "output_type": "execute_result"
    }
   ],
   "source": [
    "data['label'].value_counts()"
   ]
  },
  {
   "cell_type": "code",
   "execution_count": 125,
   "id": "21f58c7f",
   "metadata": {
    "ExecuteTime": {
     "end_time": "2022-08-08T06:23:13.675653Z",
     "start_time": "2022-08-08T06:23:13.664708Z"
    }
   },
   "outputs": [
    {
     "data": {
      "text/plain": [
       "(20000, 3)"
      ]
     },
     "execution_count": 125,
     "metadata": {},
     "output_type": "execute_result"
    }
   ],
   "source": [
    "data.shape"
   ]
  },
  {
   "cell_type": "code",
   "execution_count": 126,
   "id": "be88863a",
   "metadata": {
    "ExecuteTime": {
     "end_time": "2022-08-08T06:23:53.230652Z",
     "start_time": "2022-08-08T06:23:53.216689Z"
    }
   },
   "outputs": [
    {
     "name": "stdout",
     "output_type": "stream",
     "text": [
      "<class 'pandas.core.frame.DataFrame'>\n",
      "RangeIndex: 20000 entries, 0 to 19999\n",
      "Data columns (total 3 columns):\n",
      " #   Column  Non-Null Count  Dtype \n",
      "---  ------  --------------  ----- \n",
      " 0   height  20000 non-null  int64 \n",
      " 1   weight  20000 non-null  int64 \n",
      " 2   label   20000 non-null  object\n",
      "dtypes: int64(2), object(1)\n",
      "memory usage: 468.9+ KB\n"
     ]
    }
   ],
   "source": [
    "data.info()"
   ]
  },
  {
   "cell_type": "markdown",
   "id": "02ec190f",
   "metadata": {},
   "source": [
    "# Data Split"
   ]
  },
  {
   "cell_type": "code",
   "execution_count": 128,
   "id": "c4edb15a",
   "metadata": {
    "ExecuteTime": {
     "end_time": "2022-08-08T06:29:56.305500Z",
     "start_time": "2022-08-08T06:29:56.288546Z"
    }
   },
   "outputs": [
    {
     "data": {
      "text/html": [
       "<div>\n",
       "<style scoped>\n",
       "    .dataframe tbody tr th:only-of-type {\n",
       "        vertical-align: middle;\n",
       "    }\n",
       "\n",
       "    .dataframe tbody tr th {\n",
       "        vertical-align: top;\n",
       "    }\n",
       "\n",
       "    .dataframe thead th {\n",
       "        text-align: right;\n",
       "    }\n",
       "</style>\n",
       "<table border=\"1\" class=\"dataframe\">\n",
       "  <thead>\n",
       "    <tr style=\"text-align: right;\">\n",
       "      <th></th>\n",
       "      <th>height</th>\n",
       "      <th>weight</th>\n",
       "      <th>label</th>\n",
       "    </tr>\n",
       "  </thead>\n",
       "  <tbody>\n",
       "    <tr>\n",
       "      <th>0</th>\n",
       "      <td>140</td>\n",
       "      <td>45</td>\n",
       "      <td>normal</td>\n",
       "    </tr>\n",
       "    <tr>\n",
       "      <th>1</th>\n",
       "      <td>145</td>\n",
       "      <td>72</td>\n",
       "      <td>fat</td>\n",
       "    </tr>\n",
       "    <tr>\n",
       "      <th>2</th>\n",
       "      <td>150</td>\n",
       "      <td>61</td>\n",
       "      <td>fat</td>\n",
       "    </tr>\n",
       "    <tr>\n",
       "      <th>3</th>\n",
       "      <td>137</td>\n",
       "      <td>56</td>\n",
       "      <td>fat</td>\n",
       "    </tr>\n",
       "    <tr>\n",
       "      <th>4</th>\n",
       "      <td>192</td>\n",
       "      <td>48</td>\n",
       "      <td>thin</td>\n",
       "    </tr>\n",
       "    <tr>\n",
       "      <th>...</th>\n",
       "      <td>...</td>\n",
       "      <td>...</td>\n",
       "      <td>...</td>\n",
       "    </tr>\n",
       "    <tr>\n",
       "      <th>19995</th>\n",
       "      <td>157</td>\n",
       "      <td>67</td>\n",
       "      <td>fat</td>\n",
       "    </tr>\n",
       "    <tr>\n",
       "      <th>19996</th>\n",
       "      <td>138</td>\n",
       "      <td>40</td>\n",
       "      <td>normal</td>\n",
       "    </tr>\n",
       "    <tr>\n",
       "      <th>19997</th>\n",
       "      <td>163</td>\n",
       "      <td>62</td>\n",
       "      <td>normal</td>\n",
       "    </tr>\n",
       "    <tr>\n",
       "      <th>19998</th>\n",
       "      <td>169</td>\n",
       "      <td>68</td>\n",
       "      <td>normal</td>\n",
       "    </tr>\n",
       "    <tr>\n",
       "      <th>19999</th>\n",
       "      <td>183</td>\n",
       "      <td>39</td>\n",
       "      <td>thin</td>\n",
       "    </tr>\n",
       "  </tbody>\n",
       "</table>\n",
       "<p>20000 rows × 3 columns</p>\n",
       "</div>"
      ],
      "text/plain": [
       "       height  weight   label\n",
       "0         140      45  normal\n",
       "1         145      72     fat\n",
       "2         150      61     fat\n",
       "3         137      56     fat\n",
       "4         192      48    thin\n",
       "...       ...     ...     ...\n",
       "19995     157      67     fat\n",
       "19996     138      40  normal\n",
       "19997     163      62  normal\n",
       "19998     169      68  normal\n",
       "19999     183      39    thin\n",
       "\n",
       "[20000 rows x 3 columns]"
      ]
     },
     "execution_count": 128,
     "metadata": {},
     "output_type": "execute_result"
    }
   ],
   "source": [
    "data"
   ]
  },
  {
   "cell_type": "code",
   "execution_count": 131,
   "id": "e19304e3",
   "metadata": {
    "ExecuteTime": {
     "end_time": "2022-08-08T06:30:49.611733Z",
     "start_time": "2022-08-08T06:30:49.608729Z"
    }
   },
   "outputs": [],
   "source": [
    "train_data = data.iloc[:14000, :]\n",
    "test_data = data.iloc[14000:, :]"
   ]
  },
  {
   "cell_type": "code",
   "execution_count": 140,
   "id": "9cf05103",
   "metadata": {
    "ExecuteTime": {
     "end_time": "2022-08-08T06:35:34.724542Z",
     "start_time": "2022-08-08T06:35:34.712574Z"
    }
   },
   "outputs": [
    {
     "data": {
      "text/html": [
       "<div>\n",
       "<style scoped>\n",
       "    .dataframe tbody tr th:only-of-type {\n",
       "        vertical-align: middle;\n",
       "    }\n",
       "\n",
       "    .dataframe tbody tr th {\n",
       "        vertical-align: top;\n",
       "    }\n",
       "\n",
       "    .dataframe thead th {\n",
       "        text-align: right;\n",
       "    }\n",
       "</style>\n",
       "<table border=\"1\" class=\"dataframe\">\n",
       "  <thead>\n",
       "    <tr style=\"text-align: right;\">\n",
       "      <th></th>\n",
       "      <th>height</th>\n",
       "      <th>weight</th>\n",
       "      <th>label</th>\n",
       "    </tr>\n",
       "  </thead>\n",
       "  <tbody>\n",
       "    <tr>\n",
       "      <th>0</th>\n",
       "      <td>140</td>\n",
       "      <td>45</td>\n",
       "      <td>normal</td>\n",
       "    </tr>\n",
       "    <tr>\n",
       "      <th>1</th>\n",
       "      <td>145</td>\n",
       "      <td>72</td>\n",
       "      <td>fat</td>\n",
       "    </tr>\n",
       "    <tr>\n",
       "      <th>2</th>\n",
       "      <td>150</td>\n",
       "      <td>61</td>\n",
       "      <td>fat</td>\n",
       "    </tr>\n",
       "    <tr>\n",
       "      <th>3</th>\n",
       "      <td>137</td>\n",
       "      <td>56</td>\n",
       "      <td>fat</td>\n",
       "    </tr>\n",
       "    <tr>\n",
       "      <th>4</th>\n",
       "      <td>192</td>\n",
       "      <td>48</td>\n",
       "      <td>thin</td>\n",
       "    </tr>\n",
       "    <tr>\n",
       "      <th>...</th>\n",
       "      <td>...</td>\n",
       "      <td>...</td>\n",
       "      <td>...</td>\n",
       "    </tr>\n",
       "    <tr>\n",
       "      <th>13995</th>\n",
       "      <td>167</td>\n",
       "      <td>56</td>\n",
       "      <td>normal</td>\n",
       "    </tr>\n",
       "    <tr>\n",
       "      <th>13996</th>\n",
       "      <td>142</td>\n",
       "      <td>45</td>\n",
       "      <td>normal</td>\n",
       "    </tr>\n",
       "    <tr>\n",
       "      <th>13997</th>\n",
       "      <td>160</td>\n",
       "      <td>44</td>\n",
       "      <td>thin</td>\n",
       "    </tr>\n",
       "    <tr>\n",
       "      <th>13998</th>\n",
       "      <td>158</td>\n",
       "      <td>80</td>\n",
       "      <td>fat</td>\n",
       "    </tr>\n",
       "    <tr>\n",
       "      <th>13999</th>\n",
       "      <td>131</td>\n",
       "      <td>53</td>\n",
       "      <td>fat</td>\n",
       "    </tr>\n",
       "  </tbody>\n",
       "</table>\n",
       "<p>14000 rows × 3 columns</p>\n",
       "</div>"
      ],
      "text/plain": [
       "       height  weight   label\n",
       "0         140      45  normal\n",
       "1         145      72     fat\n",
       "2         150      61     fat\n",
       "3         137      56     fat\n",
       "4         192      48    thin\n",
       "...       ...     ...     ...\n",
       "13995     167      56  normal\n",
       "13996     142      45  normal\n",
       "13997     160      44    thin\n",
       "13998     158      80     fat\n",
       "13999     131      53     fat\n",
       "\n",
       "[14000 rows x 3 columns]"
      ]
     },
     "execution_count": 140,
     "metadata": {},
     "output_type": "execute_result"
    }
   ],
   "source": [
    "train_data"
   ]
  },
  {
   "cell_type": "code",
   "execution_count": 172,
   "id": "925a202d",
   "metadata": {
    "ExecuteTime": {
     "end_time": "2022-08-08T06:50:41.951518Z",
     "start_time": "2022-08-08T06:50:41.944536Z"
    }
   },
   "outputs": [
    {
     "name": "stdout",
     "output_type": "stream",
     "text": [
      "(14000, 2)  (14000,) \n",
      "\n",
      "(6000, 2)  (6000,)\n"
     ]
    }
   ],
   "source": [
    "X_train = train_data.iloc[:, :2]\n",
    "y_train = train_data.iloc[:, 2]\n",
    "\n",
    "X_test = test_data.iloc[:, :2]\n",
    "y_test = test_data.iloc[:, 2]\n",
    "\n",
    "print(X_train.shape, end='')\n",
    "print(' ', y_train.shape, '\\n')\n",
    "\n",
    "print(X_test.shape, end='')\n",
    "print(' ', y_test.shape)"
   ]
  },
  {
   "cell_type": "code",
   "execution_count": 161,
   "id": "32307067",
   "metadata": {
    "ExecuteTime": {
     "end_time": "2022-08-08T06:44:42.427268Z",
     "start_time": "2022-08-08T06:44:42.408347Z"
    }
   },
   "outputs": [],
   "source": [
    "data = pd.read_csv('../20220804/data/bmi.csv')"
   ]
  },
  {
   "cell_type": "code",
   "execution_count": 163,
   "id": "33e692ad",
   "metadata": {
    "ExecuteTime": {
     "end_time": "2022-08-08T06:45:09.036382Z",
     "start_time": "2022-08-08T06:45:09.032417Z"
    }
   },
   "outputs": [],
   "source": [
    "from sklearn.model_selection import train_test_split"
   ]
  },
  {
   "cell_type": "code",
   "execution_count": 167,
   "id": "cf331c4a",
   "metadata": {
    "ExecuteTime": {
     "end_time": "2022-08-08T06:47:03.291955Z",
     "start_time": "2022-08-08T06:47:03.279951Z"
    }
   },
   "outputs": [],
   "source": [
    "X = data.iloc[:, :-1]\n",
    "y = data.iloc[:, -1]"
   ]
  },
  {
   "cell_type": "code",
   "execution_count": 168,
   "id": "b6629e8d",
   "metadata": {
    "ExecuteTime": {
     "end_time": "2022-08-08T06:48:50.007378Z",
     "start_time": "2022-08-08T06:48:50.000371Z"
    }
   },
   "outputs": [],
   "source": [
    "X_train, X_test, y_train, y_test = train_test_split(X, y, test_size=0.3)"
   ]
  },
  {
   "cell_type": "code",
   "execution_count": 171,
   "id": "68bfb03f",
   "metadata": {
    "ExecuteTime": {
     "end_time": "2022-08-08T06:50:36.516214Z",
     "start_time": "2022-08-08T06:50:36.497265Z"
    }
   },
   "outputs": [
    {
     "name": "stdout",
     "output_type": "stream",
     "text": [
      "(14000, 2)  (14000,) \n",
      "\n",
      "(6000, 2)  (6000,)\n"
     ]
    }
   ],
   "source": [
    "print(X_train.shape, end='')\n",
    "print(' ', y_train.shape, '\\n')\n",
    "\n",
    "print(X_test.shape, end='')\n",
    "print(' ', y_test.shape)"
   ]
  },
  {
   "cell_type": "markdown",
   "id": "34daafbd",
   "metadata": {},
   "source": [
    "# Model "
   ]
  },
  {
   "cell_type": "code",
   "execution_count": 170,
   "id": "86b60d80",
   "metadata": {
    "ExecuteTime": {
     "end_time": "2022-08-08T06:50:12.862319Z",
     "start_time": "2022-08-08T06:50:12.856304Z"
    }
   },
   "outputs": [],
   "source": [
    "from sklearn.neighbors import KNeighborsClassifier"
   ]
  },
  {
   "cell_type": "code",
   "execution_count": 179,
   "id": "aec8e90f",
   "metadata": {
    "ExecuteTime": {
     "end_time": "2022-08-08T06:52:46.171041Z",
     "start_time": "2022-08-08T06:52:46.162040Z"
    }
   },
   "outputs": [],
   "source": [
    "model = KNeighborsClassifier()"
   ]
  },
  {
   "cell_type": "markdown",
   "id": "255a2b8e",
   "metadata": {},
   "source": [
    "# Fit"
   ]
  },
  {
   "cell_type": "code",
   "execution_count": 182,
   "id": "a1f3bf93",
   "metadata": {
    "ExecuteTime": {
     "end_time": "2022-08-08T06:53:53.919099Z",
     "start_time": "2022-08-08T06:53:53.888585Z"
    }
   },
   "outputs": [
    {
     "data": {
      "text/plain": [
       "KNeighborsClassifier()"
      ]
     },
     "execution_count": 182,
     "metadata": {},
     "output_type": "execute_result"
    }
   ],
   "source": [
    "model.fit(X_train, y_train)"
   ]
  },
  {
   "cell_type": "markdown",
   "id": "03d5dd5c",
   "metadata": {},
   "source": [
    "# Model Evaluation"
   ]
  },
  {
   "cell_type": "code",
   "execution_count": 184,
   "id": "38387bdc",
   "metadata": {
    "ExecuteTime": {
     "end_time": "2022-08-08T06:53:56.802911Z",
     "start_time": "2022-08-08T06:53:56.600453Z"
    }
   },
   "outputs": [
    {
     "data": {
      "text/plain": [
       "array(['normal', 'thin', 'normal', ..., 'normal', 'normal', 'thin'],\n",
       "      dtype=object)"
      ]
     },
     "execution_count": 184,
     "metadata": {},
     "output_type": "execute_result"
    }
   ],
   "source": [
    "pre = model.predict(X_test)\n",
    "pre"
   ]
  },
  {
   "cell_type": "code",
   "execution_count": 185,
   "id": "caeb2b69",
   "metadata": {
    "ExecuteTime": {
     "end_time": "2022-08-08T06:54:32.822843Z",
     "start_time": "2022-08-08T06:54:32.808881Z"
    }
   },
   "outputs": [],
   "source": [
    "from sklearn import metrics"
   ]
  },
  {
   "cell_type": "code",
   "execution_count": 186,
   "id": "6f1ecf9d",
   "metadata": {
    "ExecuteTime": {
     "end_time": "2022-08-08T06:54:59.264297Z",
     "start_time": "2022-08-08T06:54:59.249361Z"
    }
   },
   "outputs": [],
   "source": [
    "score = metrics.accuracy_score(y_test, pre)"
   ]
  },
  {
   "cell_type": "code",
   "execution_count": 191,
   "id": "4a5994bc",
   "metadata": {
    "ExecuteTime": {
     "end_time": "2022-08-08T06:55:55.558340Z",
     "start_time": "2022-08-08T06:55:55.552356Z"
    }
   },
   "outputs": [
    {
     "name": "stdout",
     "output_type": "stream",
     "text": [
      "Accuracy : 99.48333333333333%\n"
     ]
    }
   ],
   "source": [
    "print('Accuracy : {}%'.format(score*100))"
   ]
  },
  {
   "cell_type": "code",
   "execution_count": 192,
   "id": "599aff38",
   "metadata": {
    "ExecuteTime": {
     "end_time": "2022-08-08T06:56:21.581607Z",
     "start_time": "2022-08-08T06:56:21.561660Z"
    }
   },
   "outputs": [
    {
     "name": "stderr",
     "output_type": "stream",
     "text": [
      "C:\\Users\\pc\\anaconda3\\lib\\site-packages\\sklearn\\base.py:450: UserWarning: X does not have valid feature names, but KNeighborsClassifier was fitted with feature names\n",
      "  warnings.warn(\n"
     ]
    },
    {
     "data": {
      "text/plain": [
       "array(['normal'], dtype=object)"
      ]
     },
     "execution_count": 192,
     "metadata": {},
     "output_type": "execute_result"
    }
   ],
   "source": [
    "model.predict([[176, 70]])"
   ]
  },
  {
   "cell_type": "code",
   "execution_count": null,
   "id": "da597a7c",
   "metadata": {},
   "outputs": [],
   "source": []
  },
  {
   "cell_type": "code",
   "execution_count": null,
   "id": "9832526c",
   "metadata": {},
   "outputs": [],
   "source": []
  },
  {
   "cell_type": "code",
   "execution_count": null,
   "id": "175b0a37",
   "metadata": {},
   "outputs": [],
   "source": []
  },
  {
   "cell_type": "code",
   "execution_count": null,
   "id": "27963022",
   "metadata": {},
   "outputs": [],
   "source": []
  },
  {
   "cell_type": "code",
   "execution_count": null,
   "id": "e36657c1",
   "metadata": {},
   "outputs": [],
   "source": []
  },
  {
   "cell_type": "code",
   "execution_count": null,
   "id": "e915fedc",
   "metadata": {},
   "outputs": [],
   "source": []
  }
 ],
 "metadata": {
  "kernelspec": {
   "display_name": "Python 3 (ipykernel)",
   "language": "python",
   "name": "python3"
  },
  "language_info": {
   "codemirror_mode": {
    "name": "ipython",
    "version": 3
   },
   "file_extension": ".py",
   "mimetype": "text/x-python",
   "name": "python",
   "nbconvert_exporter": "python",
   "pygments_lexer": "ipython3",
   "version": "3.9.12"
  },
  "toc": {
   "base_numbering": 1,
   "nav_menu": {},
   "number_sections": false,
   "sideBar": true,
   "skip_h1_title": false,
   "title_cell": "Table of Contents",
   "title_sidebar": "Contents",
   "toc_cell": false,
   "toc_position": {
    "height": "calc(100% - 180px)",
    "left": "10px",
    "top": "150px",
    "width": "384px"
   },
   "toc_section_display": true,
   "toc_window_display": false
  }
 },
 "nbformat": 4,
 "nbformat_minor": 5
}
