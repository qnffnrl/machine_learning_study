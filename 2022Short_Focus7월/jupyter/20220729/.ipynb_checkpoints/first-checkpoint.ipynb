{
 "cells": [
  {
   "cell_type": "code",
   "execution_count": 2,
   "id": "06a30ea7",
   "metadata": {
    "ExecuteTime": {
     "end_time": "2022-07-29T05:19:04.253904Z",
     "start_time": "2022-07-29T05:19:04.248916Z"
    }
   },
   "outputs": [
    {
     "name": "stdout",
     "output_type": "stream",
     "text": [
      "파이썬 최고\n",
      "파이썬 최고\n",
      "파이썬 최고\n",
      "파이썬 최고\n",
      "파이썬 최고\n",
      "파이썬 최고\n",
      "파이썬 최고\n",
      "파이썬 최고\n",
      "파이썬 최고\n",
      "파이썬 최고\n",
      "파이썬 최고\n",
      "파이썬 최고\n",
      "파이썬 최고\n"
     ]
    }
   ],
   "source": [
    "num = 1\n",
    "while num <= 13:\n",
    "    print(\"파이썬 최고\")\n",
    "    num += 1"
   ]
  },
  {
   "cell_type": "code",
   "execution_count": 10,
   "id": "0eeda394",
   "metadata": {
    "ExecuteTime": {
     "end_time": "2022-07-29T05:26:07.941515Z",
     "start_time": "2022-07-29T05:26:04.288099Z"
    }
   },
   "outputs": [
    {
     "name": "stdout",
     "output_type": "stream",
     "text": [
      "Enter Number : 5\n",
      "Result : 5\n",
      "Enter Number : 5\n",
      "Result : 10\n",
      "Enter Number : 5\n",
      "Result : 15\n",
      "Enter Number : 5\n",
      "Result : 20\n",
      "Enter Number : 종료\n"
     ]
    }
   ],
   "source": [
    "sumNum = 0\n",
    "while True:\n",
    "    num = input(\"Enter Number : \")\n",
    "    if num == '종료':\n",
    "        break\n",
    "    else:\n",
    "        num = int(num)\n",
    "        sumNum = sumNum + num\n",
    "        print(\"Result : {}\".format(sumNum))"
   ]
  },
  {
   "cell_type": "code",
   "execution_count": 2,
   "id": "05da8111",
   "metadata": {
    "ExecuteTime": {
     "end_time": "2022-07-29T05:43:57.066367Z",
     "start_time": "2022-07-29T05:43:57.057905Z"
    }
   },
   "outputs": [],
   "source": [
    "import random"
   ]
  },
  {
   "cell_type": "code",
   "execution_count": 3,
   "id": "c047e5d9",
   "metadata": {
    "ExecuteTime": {
     "end_time": "2022-07-29T05:44:05.819452Z",
     "start_time": "2022-07-29T05:43:57.173886Z"
    }
   },
   "outputs": [
    {
     "name": "stdout",
     "output_type": "stream",
     "text": [
      "Enter Number : 25\n",
      "Smaller than 25\n",
      "Enter Number : 20\n",
      "Smaller than 20\n",
      "Enter Number : 10\n",
      "Smaller than 10\n",
      "Enter Number : 5\n",
      "Smaller than 5\n",
      "Enter Number : 4\n",
      "Right\n"
     ]
    }
   ],
   "source": [
    "randomNum = random.randint(1, 50)\n",
    "while True:\n",
    "    num = int(input(\"Enter Number : \"))\n",
    "    if num > randomNum:\n",
    "        print(\"Smaller than {}\".format(num))\n",
    "    elif num < randomNum:\n",
    "        print(\"Bigger than {}\".format(num))\n",
    "    else:\n",
    "        print(\"Right\")\n",
    "        break"
   ]
  },
  {
   "cell_type": "code",
   "execution_count": 7,
   "id": "889555a2",
   "metadata": {
    "ExecuteTime": {
     "end_time": "2022-07-29T06:09:32.745003Z",
     "start_time": "2022-07-29T06:09:32.732065Z"
    }
   },
   "outputs": [
    {
     "name": "stdout",
     "output_type": "stream",
     "text": [
      "1번 학생은 합격\n",
      "2번 학생은 불합격\n",
      "3번 학생은 합격\n",
      "4번 학생은 합격\n",
      "5번 학생은 불합격\n"
     ]
    }
   ],
   "source": [
    "num = 0\n",
    "score_list = [90, 45, 70, 60, 55]\n",
    "for i in score_list:\n",
    "    num += 1\n",
    "    if i >= 60:\n",
    "        print(\"{}번 학생은 합격\".format(num))\n",
    "    else:\n",
    "        print(\"{}번 학생은 불합격\".format(num))"
   ]
  },
  {
   "cell_type": "code",
   "execution_count": 14,
   "id": "08aaf2bd",
   "metadata": {
    "ExecuteTime": {
     "end_time": "2022-07-29T06:23:02.595733Z",
     "start_time": "2022-07-29T06:23:02.586759Z"
    }
   },
   "outputs": [
    {
     "ename": "AttributeError",
     "evalue": "'str' object has no attribute 'append'",
     "output_type": "error",
     "traceback": [
      "\u001b[1;31m---------------------------------------------------------------------------\u001b[0m",
      "\u001b[1;31mAttributeError\u001b[0m                            Traceback (most recent call last)",
      "\u001b[1;32m~\\AppData\\Local\\Temp/ipykernel_10536/3758455957.py\u001b[0m in \u001b[0;36m<module>\u001b[1;34m\u001b[0m\n\u001b[0;32m      1\u001b[0m \u001b[0mstr\u001b[0m \u001b[1;33m=\u001b[0m \u001b[1;34m\"\"\u001b[0m\u001b[1;33m\u001b[0m\u001b[1;33m\u001b[0m\u001b[0m\n\u001b[0;32m      2\u001b[0m \u001b[1;32mfor\u001b[0m \u001b[0mi\u001b[0m \u001b[1;32min\u001b[0m \u001b[0mrange\u001b[0m\u001b[1;33m(\u001b[0m\u001b[1;36m97\u001b[0m\u001b[1;33m,\u001b[0m \u001b[1;36m77\u001b[0m\u001b[1;33m,\u001b[0m \u001b[1;33m-\u001b[0m\u001b[1;36m1\u001b[0m\u001b[1;33m)\u001b[0m\u001b[1;33m:\u001b[0m\u001b[1;33m\u001b[0m\u001b[1;33m\u001b[0m\u001b[0m\n\u001b[1;32m----> 3\u001b[1;33m     \u001b[0mstr\u001b[0m\u001b[1;33m.\u001b[0m\u001b[0mappend\u001b[0m\u001b[1;33m(\u001b[0m\u001b[0mstr\u001b[0m\u001b[1;33m(\u001b[0m\u001b[0mi\u001b[0m\u001b[1;33m)\u001b[0m\u001b[1;33m)\u001b[0m\u001b[1;33m\u001b[0m\u001b[1;33m\u001b[0m\u001b[0m\n\u001b[0m",
      "\u001b[1;31mAttributeError\u001b[0m: 'str' object has no attribute 'append'"
     ]
    }
   ],
   "source": [
    "str = ''\n",
    "for i in range(97, 77, -1):\n",
    "    "
   ]
  },
  {
   "cell_type": "code",
   "execution_count": null,
   "id": "c11b59fb",
   "metadata": {},
   "outputs": [],
   "source": []
  },
  {
   "cell_type": "code",
   "execution_count": null,
   "id": "b1350b87",
   "metadata": {},
   "outputs": [],
   "source": []
  },
  {
   "cell_type": "code",
   "execution_count": null,
   "id": "5939f18b",
   "metadata": {},
   "outputs": [],
   "source": []
  },
  {
   "cell_type": "code",
   "execution_count": null,
   "id": "e1f0f704",
   "metadata": {},
   "outputs": [],
   "source": []
  },
  {
   "cell_type": "code",
   "execution_count": null,
   "id": "9e438962",
   "metadata": {},
   "outputs": [],
   "source": []
  },
  {
   "cell_type": "code",
   "execution_count": null,
   "id": "05b6adc8",
   "metadata": {},
   "outputs": [],
   "source": []
  },
  {
   "cell_type": "code",
   "execution_count": null,
   "id": "fdbcba93",
   "metadata": {},
   "outputs": [],
   "source": []
  },
  {
   "cell_type": "code",
   "execution_count": null,
   "id": "bd27aed4",
   "metadata": {},
   "outputs": [],
   "source": []
  },
  {
   "cell_type": "code",
   "execution_count": null,
   "id": "011f3ef3",
   "metadata": {},
   "outputs": [],
   "source": []
  }
 ],
 "metadata": {
  "kernelspec": {
   "display_name": "Python 3 (ipykernel)",
   "language": "python",
   "name": "python3"
  },
  "language_info": {
   "codemirror_mode": {
    "name": "ipython",
    "version": 3
   },
   "file_extension": ".py",
   "mimetype": "text/x-python",
   "name": "python",
   "nbconvert_exporter": "python",
   "pygments_lexer": "ipython3",
   "version": "3.9.7"
  },
  "toc": {
   "base_numbering": 1,
   "nav_menu": {},
   "number_sections": false,
   "sideBar": true,
   "skip_h1_title": false,
   "title_cell": "Table of Contents",
   "title_sidebar": "Contents",
   "toc_cell": false,
   "toc_position": {
    "height": "calc(100% - 180px)",
    "left": "10px",
    "top": "150px",
    "width": "271px"
   },
   "toc_section_display": true,
   "toc_window_display": true
  }
 },
 "nbformat": 4,
 "nbformat_minor": 5
}
