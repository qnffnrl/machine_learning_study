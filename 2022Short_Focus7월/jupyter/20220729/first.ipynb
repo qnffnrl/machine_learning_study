{
 "cells": [
  {
   "cell_type": "code",
   "execution_count": 2,
   "id": "06a30ea7",
   "metadata": {
    "ExecuteTime": {
     "end_time": "2022-07-29T05:19:04.253904Z",
     "start_time": "2022-07-29T05:19:04.248916Z"
    }
   },
   "outputs": [
    {
     "name": "stdout",
     "output_type": "stream",
     "text": [
      "파이썬 최고\n",
      "파이썬 최고\n",
      "파이썬 최고\n",
      "파이썬 최고\n",
      "파이썬 최고\n",
      "파이썬 최고\n",
      "파이썬 최고\n",
      "파이썬 최고\n",
      "파이썬 최고\n",
      "파이썬 최고\n",
      "파이썬 최고\n",
      "파이썬 최고\n",
      "파이썬 최고\n"
     ]
    }
   ],
   "source": [
    "num = 1\n",
    "while num <= 13:\n",
    "    print(\"파이썬 최고\")\n",
    "    num += 1"
   ]
  },
  {
   "cell_type": "code",
   "execution_count": 10,
   "id": "ed91f083",
   "metadata": {
    "ExecuteTime": {
     "end_time": "2022-07-29T05:26:07.941515Z",
     "start_time": "2022-07-29T05:26:04.288099Z"
    }
   },
   "outputs": [
    {
     "name": "stdout",
     "output_type": "stream",
     "text": [
      "Enter Number : 5\n",
      "Result : 5\n",
      "Enter Number : 5\n",
      "Result : 10\n",
      "Enter Number : 5\n",
      "Result : 15\n",
      "Enter Number : 5\n",
      "Result : 20\n",
      "Enter Number : 종료\n"
     ]
    }
   ],
   "source": [
    "sumNum = 0\n",
    "while True:\n",
    "    num = input(\"Enter Number : \")\n",
    "    if num == '종료':\n",
    "        break\n",
    "    else:\n",
    "        num = int(num)\n",
    "        sumNum = sumNum + num\n",
    "        print(\"Result : {}\".format(sumNum))"
   ]
  },
  {
   "cell_type": "code",
   "execution_count": 2,
   "id": "874aca52",
   "metadata": {
    "ExecuteTime": {
     "end_time": "2022-07-29T05:43:57.066367Z",
     "start_time": "2022-07-29T05:43:57.057905Z"
    }
   },
   "outputs": [],
   "source": [
    "import random"
   ]
  },
  {
   "cell_type": "code",
   "execution_count": 3,
   "id": "ceeb28ac",
   "metadata": {
    "ExecuteTime": {
     "end_time": "2022-07-29T05:44:05.819452Z",
     "start_time": "2022-07-29T05:43:57.173886Z"
    }
   },
   "outputs": [
    {
     "name": "stdout",
     "output_type": "stream",
     "text": [
      "Enter Number : 25\n",
      "Smaller than 25\n",
      "Enter Number : 20\n",
      "Smaller than 20\n",
      "Enter Number : 10\n",
      "Smaller than 10\n",
      "Enter Number : 5\n",
      "Smaller than 5\n",
      "Enter Number : 4\n",
      "Right\n"
     ]
    }
   ],
   "source": [
    "randomNum = random.randint(1, 50)\n",
    "while True:\n",
    "    num = int(input(\"Enter Number : \"))\n",
    "    if num > randomNum:\n",
    "        print(\"Smaller than {}\".format(num))\n",
    "    elif num < randomNum:\n",
    "        print(\"Bigger than {}\".format(num))\n",
    "    else:\n",
    "        print(\"Right\")\n",
    "        break"
   ]
  },
  {
   "cell_type": "code",
   "execution_count": 7,
   "id": "15fcc3f4",
   "metadata": {
    "ExecuteTime": {
     "end_time": "2022-07-29T06:09:32.745003Z",
     "start_time": "2022-07-29T06:09:32.732065Z"
    }
   },
   "outputs": [
    {
     "name": "stdout",
     "output_type": "stream",
     "text": [
      "1번 학생은 합격\n",
      "2번 학생은 불합격\n",
      "3번 학생은 합격\n",
      "4번 학생은 합격\n",
      "5번 학생은 불합격\n"
     ]
    }
   ],
   "source": [
    "num = 0\n",
    "score_list = [90, 45, 70, 60, 55]\n",
    "for i in score_list:\n",
    "    num += 1\n",
    "    if i >= 60:\n",
    "        print(\"{}번 학생은 합격\".format(num))\n",
    "    else:\n",
    "        print(\"{}번 학생은 불합격\".format(num))"
   ]
  },
  {
   "cell_type": "code",
   "execution_count": 21,
   "id": "7f086cd5",
   "metadata": {
    "ExecuteTime": {
     "end_time": "2022-07-29T06:26:08.703428Z",
     "start_time": "2022-07-29T06:26:08.698442Z"
    }
   },
   "outputs": [
    {
     "name": "stdout",
     "output_type": "stream",
     "text": [
      "97  96  95  94  93  92  91  90  89  88  87  86  85  84  83  82  81  80  79  78  77  "
     ]
    }
   ],
   "source": [
    "str = ''\n",
    "for i in range(97, 76, -1):\n",
    "    print(i, ' ', end='')"
   ]
  },
  {
   "cell_type": "code",
   "execution_count": 26,
   "id": "989ba1c0",
   "metadata": {
    "ExecuteTime": {
     "end_time": "2022-07-29T06:30:19.020783Z",
     "start_time": "2022-07-29T06:30:17.954004Z"
    }
   },
   "outputs": [
    {
     "name": "stdout",
     "output_type": "stream",
     "text": [
      "Enter Number : 10\n",
      "*\n",
      "**\n",
      "***\n",
      "****\n",
      "*****\n",
      "******\n",
      "*******\n",
      "********\n",
      "*********\n"
     ]
    }
   ],
   "source": [
    "num = int(input('Enter Number : '))\n",
    "for i in range(1, num, 1):\n",
    "    print('*'*i)"
   ]
  },
  {
   "cell_type": "code",
   "execution_count": 50,
   "id": "8a750dce",
   "metadata": {
    "ExecuteTime": {
     "end_time": "2022-07-29T06:41:29.406400Z",
     "start_time": "2022-07-29T06:41:28.601071Z"
    }
   },
   "outputs": [
    {
     "name": "stdout",
     "output_type": "stream",
     "text": [
      "Enter Number : 10\n",
      "         *\n",
      "        **\n",
      "       ***\n",
      "      ****\n",
      "     *****\n",
      "    ******\n",
      "   *******\n",
      "  ********\n",
      " *********\n",
      "**********\n"
     ]
    }
   ],
   "source": [
    "num = int(input('Enter Number : '))\n",
    "for i in range(1, num+1, 1):\n",
    "    print((\" \"*(num-i)) + \"*\" * i)"
   ]
  },
  {
   "cell_type": "code",
   "execution_count": 53,
   "id": "3d4dd3ad",
   "metadata": {
    "ExecuteTime": {
     "end_time": "2022-07-29T06:45:19.987170Z",
     "start_time": "2022-07-29T06:45:18.432731Z"
    }
   },
   "outputs": [
    {
     "name": "stdout",
     "output_type": "stream",
     "text": [
      "Enter Number : 12\n",
      "[1, 2, 3, 4, 6, 12]\n"
     ]
    }
   ],
   "source": [
    "num = int(input('Enter Number : '))\n",
    "answer = []\n",
    "for i in range(1, num+1):\n",
    "    if num % i == 0:\n",
    "        answer.append(i)\n",
    "print(answer)"
   ]
  },
  {
   "cell_type": "code",
   "execution_count": null,
   "id": "65676cdc",
   "metadata": {},
   "outputs": [],
   "source": []
  },
  {
   "cell_type": "code",
   "execution_count": null,
   "id": "11b545cc",
   "metadata": {},
   "outputs": [],
   "source": []
  },
  {
   "cell_type": "code",
   "execution_count": null,
   "id": "4b913326",
   "metadata": {},
   "outputs": [],
   "source": []
  },
  {
   "cell_type": "code",
   "execution_count": null,
   "id": "4f076d9b",
   "metadata": {},
   "outputs": [],
   "source": []
  },
  {
   "cell_type": "code",
   "execution_count": null,
   "id": "4a1976af",
   "metadata": {},
   "outputs": [],
   "source": []
  },
  {
   "cell_type": "code",
   "execution_count": null,
   "id": "06bf2098",
   "metadata": {},
   "outputs": [],
   "source": []
  }
 ],
 "metadata": {
  "kernelspec": {
   "display_name": "Python 3 (ipykernel)",
   "language": "python",
   "name": "python3"
  },
  "language_info": {
   "codemirror_mode": {
    "name": "ipython",
    "version": 3
   },
   "file_extension": ".py",
   "mimetype": "text/x-python",
   "name": "python",
   "nbconvert_exporter": "python",
   "pygments_lexer": "ipython3",
   "version": "3.9.7"
  },
  "toc": {
   "base_numbering": 1,
   "nav_menu": {},
   "number_sections": false,
   "sideBar": true,
   "skip_h1_title": false,
   "title_cell": "Table of Contents",
   "title_sidebar": "Contents",
   "toc_cell": false,
   "toc_position": {
    "height": "calc(100% - 180px)",
    "left": "10px",
    "top": "150px",
    "width": "271px"
   },
   "toc_section_display": true,
   "toc_window_display": true
  }
 },
 "nbformat": 4,
 "nbformat_minor": 5
}
