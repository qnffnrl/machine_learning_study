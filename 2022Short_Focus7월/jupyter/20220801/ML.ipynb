{
 "cells": [
  {
   "cell_type": "code",
<<<<<<< HEAD
   "execution_count": 82,
   "id": "1c73a708",
   "metadata": {
    "ExecuteTime": {
     "end_time": "2022-08-02T01:17:32.332485Z",
     "start_time": "2022-08-02T01:17:32.316527Z"
=======
   "execution_count": 48,
   "id": "1c73a708",
   "metadata": {
    "ExecuteTime": {
     "end_time": "2022-08-02T01:08:40.333150Z",
     "start_time": "2022-08-02T01:08:40.325172Z"
>>>>>>> f79a924c7ab1cef58fd10daf4648ef73ef815a03
    }
   },
   "outputs": [],
   "source": [
    "import pandas as pd"
   ]
  },
  {
   "cell_type": "code",
<<<<<<< HEAD
   "execution_count": 83,
   "id": "d7f29384",
   "metadata": {
    "ExecuteTime": {
     "end_time": "2022-08-02T01:17:32.521977Z",
     "start_time": "2022-08-02T01:17:32.510009Z"
=======
   "execution_count": 49,
   "id": "d7f29384",
   "metadata": {
    "ExecuteTime": {
     "end_time": "2022-08-02T01:08:40.458814Z",
     "start_time": "2022-08-02T01:08:40.444851Z"
>>>>>>> f79a924c7ab1cef58fd10daf4648ef73ef815a03
    }
   },
   "outputs": [],
   "source": [
    "xor_input = [\n",
    "    [0, 0, 0],\n",
    "    [0, 1, 1],\n",
    "    [1, 0, 1], \n",
    "    [1, 1, 0]\n",
    "]"
   ]
  },
  {
   "cell_type": "code",
<<<<<<< HEAD
   "execution_count": 84,
   "id": "a5960706",
   "metadata": {
    "ExecuteTime": {
     "end_time": "2022-08-02T01:17:32.696510Z",
     "start_time": "2022-08-02T01:17:32.676564Z"
=======
   "execution_count": 50,
   "id": "a5960706",
   "metadata": {
    "ExecuteTime": {
     "end_time": "2022-08-02T01:08:40.966458Z",
     "start_time": "2022-08-02T01:08:40.955486Z"
>>>>>>> f79a924c7ab1cef58fd10daf4648ef73ef815a03
    }
   },
   "outputs": [
    {
     "data": {
      "text/html": [
       "<div>\n",
       "<style scoped>\n",
       "    .dataframe tbody tr th:only-of-type {\n",
       "        vertical-align: middle;\n",
       "    }\n",
       "\n",
       "    .dataframe tbody tr th {\n",
       "        vertical-align: top;\n",
       "    }\n",
       "\n",
       "    .dataframe thead th {\n",
       "        text-align: right;\n",
       "    }\n",
       "</style>\n",
       "<table border=\"1\" class=\"dataframe\">\n",
       "  <thead>\n",
       "    <tr style=\"text-align: right;\">\n",
       "      <th></th>\n",
       "      <th>A</th>\n",
       "      <th>B</th>\n",
       "      <th>정답</th>\n",
       "    </tr>\n",
       "  </thead>\n",
       "  <tbody>\n",
       "    <tr>\n",
       "      <th>0</th>\n",
       "      <td>0</td>\n",
       "      <td>0</td>\n",
       "      <td>0</td>\n",
       "    </tr>\n",
       "    <tr>\n",
       "      <th>1</th>\n",
       "      <td>0</td>\n",
       "      <td>1</td>\n",
       "      <td>1</td>\n",
       "    </tr>\n",
       "    <tr>\n",
       "      <th>2</th>\n",
       "      <td>1</td>\n",
       "      <td>0</td>\n",
       "      <td>1</td>\n",
       "    </tr>\n",
       "    <tr>\n",
       "      <th>3</th>\n",
       "      <td>1</td>\n",
       "      <td>1</td>\n",
       "      <td>0</td>\n",
       "    </tr>\n",
       "  </tbody>\n",
       "</table>\n",
       "</div>"
      ],
      "text/plain": [
       "   A  B  정답\n",
       "0  0  0   0\n",
       "1  0  1   1\n",
       "2  1  0   1\n",
       "3  1  1   0"
      ]
     },
<<<<<<< HEAD
     "execution_count": 84,
=======
     "execution_count": 50,
>>>>>>> f79a924c7ab1cef58fd10daf4648ef73ef815a03
     "metadata": {},
     "output_type": "execute_result"
    }
   ],
   "source": [
    "xor_df = pd.DataFrame(xor_input, columns=['A', 'B', \"정답\"])\n",
    "\n",
    "xor_df"
   ]
  },
  {
   "cell_type": "code",
<<<<<<< HEAD
   "execution_count": 85,
   "id": "b8cb6475",
   "metadata": {
    "ExecuteTime": {
     "end_time": "2022-08-02T01:17:32.760340Z",
     "start_time": "2022-08-02T01:17:32.749369Z"
=======
   "execution_count": 51,
   "id": "b8cb6475",
   "metadata": {
    "ExecuteTime": {
     "end_time": "2022-08-02T01:08:40.998371Z",
     "start_time": "2022-08-02T01:08:40.990392Z"
>>>>>>> f79a924c7ab1cef58fd10daf4648ef73ef815a03
    }
   },
   "outputs": [
    {
     "data": {
      "text/html": [
       "<div>\n",
       "<style scoped>\n",
       "    .dataframe tbody tr th:only-of-type {\n",
       "        vertical-align: middle;\n",
       "    }\n",
       "\n",
       "    .dataframe tbody tr th {\n",
       "        vertical-align: top;\n",
       "    }\n",
       "\n",
       "    .dataframe thead th {\n",
       "        text-align: right;\n",
       "    }\n",
       "</style>\n",
       "<table border=\"1\" class=\"dataframe\">\n",
       "  <thead>\n",
       "    <tr style=\"text-align: right;\">\n",
       "      <th></th>\n",
       "      <th>A</th>\n",
       "      <th>B</th>\n",
       "    </tr>\n",
       "  </thead>\n",
       "  <tbody>\n",
       "    <tr>\n",
       "      <th>0</th>\n",
       "      <td>0</td>\n",
       "      <td>0</td>\n",
       "    </tr>\n",
       "    <tr>\n",
       "      <th>1</th>\n",
       "      <td>0</td>\n",
       "      <td>1</td>\n",
       "    </tr>\n",
       "    <tr>\n",
       "      <th>2</th>\n",
       "      <td>1</td>\n",
       "      <td>0</td>\n",
       "    </tr>\n",
       "    <tr>\n",
       "      <th>3</th>\n",
       "      <td>1</td>\n",
       "      <td>1</td>\n",
       "    </tr>\n",
       "  </tbody>\n",
       "</table>\n",
       "</div>"
      ],
      "text/plain": [
       "   A  B\n",
       "0  0  0\n",
       "1  0  1\n",
       "2  1  0\n",
       "3  1  1"
      ]
     },
<<<<<<< HEAD
     "execution_count": 85,
=======
     "execution_count": 51,
>>>>>>> f79a924c7ab1cef58fd10daf4648ef73ef815a03
     "metadata": {},
     "output_type": "execute_result"
    }
   ],
   "source": [
    "xor_data = xor_df.iloc[:, 0:2]\n",
    "xor_label = xor_df.iloc[:, 2:3]\n",
    "xor_data"
   ]
  },
  {
   "cell_type": "code",
<<<<<<< HEAD
   "execution_count": 86,
   "id": "a560800c",
   "metadata": {
    "ExecuteTime": {
     "end_time": "2022-08-02T01:17:32.870048Z",
     "start_time": "2022-08-02T01:17:32.856084Z"
=======
   "execution_count": 52,
   "id": "a560800c",
   "metadata": {
    "ExecuteTime": {
     "end_time": "2022-08-02T01:08:41.029290Z",
     "start_time": "2022-08-02T01:08:41.021310Z"
>>>>>>> f79a924c7ab1cef58fd10daf4648ef73ef815a03
    }
   },
   "outputs": [
    {
     "data": {
      "text/html": [
       "<div>\n",
       "<style scoped>\n",
       "    .dataframe tbody tr th:only-of-type {\n",
       "        vertical-align: middle;\n",
       "    }\n",
       "\n",
       "    .dataframe tbody tr th {\n",
       "        vertical-align: top;\n",
       "    }\n",
       "\n",
       "    .dataframe thead th {\n",
       "        text-align: right;\n",
       "    }\n",
       "</style>\n",
       "<table border=\"1\" class=\"dataframe\">\n",
       "  <thead>\n",
       "    <tr style=\"text-align: right;\">\n",
       "      <th></th>\n",
       "      <th>정답</th>\n",
       "    </tr>\n",
       "  </thead>\n",
       "  <tbody>\n",
       "    <tr>\n",
       "      <th>0</th>\n",
       "      <td>0</td>\n",
       "    </tr>\n",
       "    <tr>\n",
       "      <th>1</th>\n",
       "      <td>1</td>\n",
       "    </tr>\n",
       "    <tr>\n",
       "      <th>2</th>\n",
       "      <td>1</td>\n",
       "    </tr>\n",
       "    <tr>\n",
       "      <th>3</th>\n",
       "      <td>0</td>\n",
       "    </tr>\n",
       "  </tbody>\n",
       "</table>\n",
       "</div>"
      ],
      "text/plain": [
       "   정답\n",
       "0   0\n",
       "1   1\n",
       "2   1\n",
       "3   0"
      ]
     },
<<<<<<< HEAD
     "execution_count": 86,
=======
     "execution_count": 52,
>>>>>>> f79a924c7ab1cef58fd10daf4648ef73ef815a03
     "metadata": {},
     "output_type": "execute_result"
    }
   ],
   "source": [
    "xor_label"
   ]
  },
  {
   "cell_type": "code",
<<<<<<< HEAD
   "execution_count": 87,
   "id": "fa7c7578",
   "metadata": {
    "ExecuteTime": {
     "end_time": "2022-08-02T01:17:32.949834Z",
     "start_time": "2022-08-02T01:17:32.944846Z"
=======
   "execution_count": 53,
   "id": "fa7c7578",
   "metadata": {
    "ExecuteTime": {
     "end_time": "2022-08-02T01:08:41.061203Z",
     "start_time": "2022-08-02T01:08:41.050232Z"
>>>>>>> f79a924c7ab1cef58fd10daf4648ef73ef815a03
    }
   },
   "outputs": [],
   "source": [
    "import matplotlib.pyplot as plt"
   ]
  },
  {
   "cell_type": "code",
<<<<<<< HEAD
   "execution_count": 118,
   "id": "f43575d9",
   "metadata": {
    "ExecuteTime": {
     "end_time": "2022-08-02T01:22:06.465881Z",
     "start_time": "2022-08-02T01:22:06.365150Z"
=======
   "execution_count": 54,
   "id": "f43575d9",
   "metadata": {
    "ExecuteTime": {
     "end_time": "2022-08-02T01:08:41.204818Z",
     "start_time": "2022-08-02T01:08:41.090126Z"
>>>>>>> f79a924c7ab1cef58fd10daf4648ef73ef815a03
    }
   },
   "outputs": [
    {
     "data": {
      "text/plain": [
<<<<<<< HEAD
       "<matplotlib.collections.PathCollection at 0x20ca7e76d30>"
      ]
     },
     "execution_count": 118,
=======
       "<matplotlib.collections.PathCollection at 0x20ca7d42f70>"
      ]
     },
     "execution_count": 54,
>>>>>>> f79a924c7ab1cef58fd10daf4648ef73ef815a03
     "metadata": {},
     "output_type": "execute_result"
    },
    {
     "data": {
      "image/png": "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\n",
      "text/plain": [
       "<Figure size 432x288 with 1 Axes>"
      ]
     },
     "metadata": {
      "needs_background": "light"
     },
     "output_type": "display_data"
    }
   ],
   "source": [
    "plt.scatter(xor_data.loc[:, 'A'], xor_label.loc[:, '정답'], c='r')"
   ]
  },
  {
   "cell_type": "code",
<<<<<<< HEAD
   "execution_count": 89,
   "id": "8901fc28",
   "metadata": {
    "ExecuteTime": {
     "end_time": "2022-08-02T01:17:33.171241Z",
     "start_time": "2022-08-02T01:17:33.157279Z"
=======
   "execution_count": 55,
   "id": "8901fc28",
   "metadata": {
    "ExecuteTime": {
     "end_time": "2022-08-02T01:08:41.219781Z",
     "start_time": "2022-08-02T01:08:41.206814Z"
>>>>>>> f79a924c7ab1cef58fd10daf4648ef73ef815a03
    }
   },
   "outputs": [],
   "source": [
    "from sklearn.neighbors import KNeighborsClassifier"
   ]
  },
  {
   "cell_type": "code",
<<<<<<< HEAD
   "execution_count": 119,
   "id": "1086aa07",
   "metadata": {
    "ExecuteTime": {
     "end_time": "2022-08-02T01:22:29.168167Z",
     "start_time": "2022-08-02T01:22:29.150216Z"
=======
   "execution_count": 56,
   "id": "1086aa07",
   "metadata": {
    "ExecuteTime": {
     "end_time": "2022-08-02T01:08:41.235736Z",
     "start_time": "2022-08-02T01:08:41.221775Z"
>>>>>>> f79a924c7ab1cef58fd10daf4648ef73ef815a03
    }
   },
   "outputs": [],
   "source": [
<<<<<<< HEAD
    "model = KNeighborsClassifier(n_neighbors=1)"
=======
    "clf = KNeighborsClassifier(n_neighbors=1)"
>>>>>>> f79a924c7ab1cef58fd10daf4648ef73ef815a03
   ]
  },
  {
   "cell_type": "code",
<<<<<<< HEAD
   "execution_count": 120,
   "id": "81c12e41",
   "metadata": {
    "ExecuteTime": {
     "end_time": "2022-08-02T01:22:32.110299Z",
     "start_time": "2022-08-02T01:22:32.090353Z"
=======
   "execution_count": 57,
   "id": "81c12e41",
   "metadata": {
    "ExecuteTime": {
     "end_time": "2022-08-02T01:08:41.251693Z",
     "start_time": "2022-08-02T01:08:41.237733Z"
>>>>>>> f79a924c7ab1cef58fd10daf4648ef73ef815a03
    }
   },
   "outputs": [
    {
     "name": "stderr",
     "output_type": "stream",
     "text": [
      "C:\\Users\\roakf\\anaconda3\\lib\\site-packages\\sklearn\\neighbors\\_classification.py:198: DataConversionWarning: A column-vector y was passed when a 1d array was expected. Please change the shape of y to (n_samples,), for example using ravel().\n",
      "  return self._fit(X, y)\n"
     ]
    },
    {
     "data": {
      "text/plain": [
       "KNeighborsClassifier(n_neighbors=1)"
      ]
     },
<<<<<<< HEAD
     "execution_count": 120,
=======
     "execution_count": 57,
>>>>>>> f79a924c7ab1cef58fd10daf4648ef73ef815a03
     "metadata": {},
     "output_type": "execute_result"
    }
   ],
   "source": [
<<<<<<< HEAD
    "model.fit(xor_data, xor_label)"
=======
    "clf.fit(xor_data, xor_label)"
>>>>>>> f79a924c7ab1cef58fd10daf4648ef73ef815a03
   ]
  },
  {
   "cell_type": "code",
<<<<<<< HEAD
   "execution_count": 121,
   "id": "bd389bec",
   "metadata": {
    "ExecuteTime": {
     "end_time": "2022-08-02T01:22:37.696361Z",
     "start_time": "2022-08-02T01:22:37.684393Z"
=======
   "execution_count": 58,
   "id": "bd389bec",
   "metadata": {
    "ExecuteTime": {
     "end_time": "2022-08-02T01:08:41.267651Z",
     "start_time": "2022-08-02T01:08:41.253689Z"
>>>>>>> f79a924c7ab1cef58fd10daf4648ef73ef815a03
    }
   },
   "outputs": [],
   "source": [
<<<<<<< HEAD
    "pre = model.predict(xor_data)"
=======
    "pre = clf.predict(xor_data)"
>>>>>>> f79a924c7ab1cef58fd10daf4648ef73ef815a03
   ]
  },
  {
   "cell_type": "code",
<<<<<<< HEAD
   "execution_count": 93,
   "id": "224bce76",
   "metadata": {
    "ExecuteTime": {
     "end_time": "2022-08-02T01:17:33.488393Z",
     "start_time": "2022-08-02T01:17:33.472436Z"
=======
   "execution_count": 59,
   "id": "224bce76",
   "metadata": {
    "ExecuteTime": {
     "end_time": "2022-08-02T01:08:41.283608Z",
     "start_time": "2022-08-02T01:08:41.269646Z"
>>>>>>> f79a924c7ab1cef58fd10daf4648ef73ef815a03
    }
   },
   "outputs": [],
   "source": [
    "from sklearn import metrics"
   ]
  },
  {
   "cell_type": "code",
<<<<<<< HEAD
   "execution_count": 94,
   "id": "3b3d70db",
   "metadata": {
    "ExecuteTime": {
     "end_time": "2022-08-02T01:17:33.584137Z",
     "start_time": "2022-08-02T01:17:33.576158Z"
=======
   "execution_count": 60,
   "id": "3b3d70db",
   "metadata": {
    "ExecuteTime": {
     "end_time": "2022-08-02T01:08:41.299566Z",
     "start_time": "2022-08-02T01:08:41.289592Z"
>>>>>>> f79a924c7ab1cef58fd10daf4648ef73ef815a03
    }
   },
   "outputs": [],
   "source": [
    "ac_score = metrics.accuracy_score(xor_label, pre)"
   ]
  },
  {
   "cell_type": "code",
<<<<<<< HEAD
   "execution_count": 95,
   "id": "4f861f63",
   "metadata": {
    "ExecuteTime": {
     "end_time": "2022-08-02T01:17:33.662926Z",
     "start_time": "2022-08-02T01:17:33.650958Z"
=======
   "execution_count": 61,
   "id": "4f861f63",
   "metadata": {
    "ExecuteTime": {
     "end_time": "2022-08-02T01:08:41.331480Z",
     "start_time": "2022-08-02T01:08:41.319513Z"
>>>>>>> f79a924c7ab1cef58fd10daf4648ef73ef815a03
    }
   },
   "outputs": [
    {
     "name": "stdout",
     "output_type": "stream",
     "text": [
      "정답률 :  1.0\n"
     ]
    }
   ],
   "source": [
    "print(\"정답률 : \", ac_score)"
   ]
  },
  {
   "cell_type": "code",
<<<<<<< HEAD
   "execution_count": 96,
   "id": "d2f83e6e",
   "metadata": {
    "ExecuteTime": {
     "end_time": "2022-08-02T01:17:33.772633Z",
     "start_time": "2022-08-02T01:17:33.754681Z"
=======
   "execution_count": 62,
   "id": "d2f83e6e",
   "metadata": {
    "ExecuteTime": {
     "end_time": "2022-08-02T01:08:41.363395Z",
     "start_time": "2022-08-02T01:08:41.355417Z"
>>>>>>> f79a924c7ab1cef58fd10daf4648ef73ef815a03
    }
   },
   "outputs": [],
   "source": [
    "import numpy as np"
   ]
  },
  {
   "cell_type": "code",
<<<<<<< HEAD
   "execution_count": 97,
   "id": "39a85fac",
   "metadata": {
    "ExecuteTime": {
     "end_time": "2022-08-02T01:17:33.819514Z",
     "start_time": "2022-08-02T01:17:33.815519Z"
=======
   "execution_count": 63,
   "id": "39a85fac",
   "metadata": {
    "ExecuteTime": {
     "end_time": "2022-08-02T01:08:41.775293Z",
     "start_time": "2022-08-02T01:08:41.765320Z"
>>>>>>> f79a924c7ab1cef58fd10daf4648ef73ef815a03
    }
   },
   "outputs": [],
   "source": [
    "list = [1, 2, 3, 4, 5]"
   ]
  },
  {
   "cell_type": "code",
<<<<<<< HEAD
   "execution_count": 98,
   "id": "0c43ce42",
   "metadata": {
    "ExecuteTime": {
     "end_time": "2022-08-02T01:17:33.947166Z",
     "start_time": "2022-08-02T01:17:33.935198Z"
=======
   "execution_count": 64,
   "id": "0c43ce42",
   "metadata": {
    "ExecuteTime": {
     "end_time": "2022-08-02T01:08:41.949828Z",
     "start_time": "2022-08-02T01:08:41.929884Z"
>>>>>>> f79a924c7ab1cef58fd10daf4648ef73ef815a03
    }
   },
   "outputs": [
    {
     "data": {
      "text/plain": [
       "array([1, 2, 3, 4, 5])"
      ]
     },
<<<<<<< HEAD
     "execution_count": 98,
=======
     "execution_count": 64,
>>>>>>> f79a924c7ab1cef58fd10daf4648ef73ef815a03
     "metadata": {},
     "output_type": "execute_result"
    }
   ],
   "source": [
    "arr = np.array(list)\n",
    "arr"
   ]
  },
  {
   "cell_type": "code",
<<<<<<< HEAD
   "execution_count": 99,
   "id": "e4fbcdef",
   "metadata": {
    "ExecuteTime": {
     "end_time": "2022-08-02T01:17:34.009998Z",
     "start_time": "2022-08-02T01:17:33.995038Z"
=======
   "execution_count": 65,
   "id": "e4fbcdef",
   "metadata": {
    "ExecuteTime": {
     "end_time": "2022-08-02T01:08:42.013656Z",
     "start_time": "2022-08-02T01:08:42.004680Z"
>>>>>>> f79a924c7ab1cef58fd10daf4648ef73ef815a03
    }
   },
   "outputs": [
    {
     "data": {
      "text/plain": [
       "array([1, 2, 3, 4, 5])"
      ]
     },
<<<<<<< HEAD
     "execution_count": 99,
=======
     "execution_count": 65,
>>>>>>> f79a924c7ab1cef58fd10daf4648ef73ef815a03
     "metadata": {},
     "output_type": "execute_result"
    }
   ],
   "source": [
    "array = np.arange(1, 6)\n",
    "array"
   ]
  },
  {
   "cell_type": "code",
<<<<<<< HEAD
   "execution_count": 100,
   "id": "4a350305",
   "metadata": {
    "ExecuteTime": {
     "end_time": "2022-08-02T01:17:34.121699Z",
     "start_time": "2022-08-02T01:17:34.114718Z"
=======
   "execution_count": 66,
   "id": "4a350305",
   "metadata": {
    "ExecuteTime": {
     "end_time": "2022-08-02T01:08:42.140318Z",
     "start_time": "2022-08-02T01:08:42.124360Z"
>>>>>>> f79a924c7ab1cef58fd10daf4648ef73ef815a03
    }
   },
   "outputs": [
    {
     "data": {
      "text/plain": [
       "array([[1, 2, 3],\n",
       "       [4, 5, 6]])"
      ]
     },
<<<<<<< HEAD
     "execution_count": 100,
=======
     "execution_count": 66,
>>>>>>> f79a924c7ab1cef58fd10daf4648ef73ef815a03
     "metadata": {},
     "output_type": "execute_result"
    }
   ],
   "source": [
    "arr = np.array([[1, 2, 3], [4, 5, 6]])\n",
    "arr"
   ]
  },
  {
   "cell_type": "code",
<<<<<<< HEAD
   "execution_count": 101,
   "id": "298f1e31",
   "metadata": {
    "ExecuteTime": {
     "end_time": "2022-08-02T01:17:34.199491Z",
     "start_time": "2022-08-02T01:17:34.189518Z"
=======
   "execution_count": 67,
   "id": "298f1e31",
   "metadata": {
    "ExecuteTime": {
     "end_time": "2022-08-02T01:08:42.235064Z",
     "start_time": "2022-08-02T01:08:42.230078Z"
>>>>>>> f79a924c7ab1cef58fd10daf4648ef73ef815a03
    }
   },
   "outputs": [
    {
     "data": {
      "text/plain": [
       "array([1, 2, 3, 4, 5])"
      ]
     },
<<<<<<< HEAD
     "execution_count": 101,
=======
     "execution_count": 67,
>>>>>>> f79a924c7ab1cef58fd10daf4648ef73ef815a03
     "metadata": {},
     "output_type": "execute_result"
    }
   ],
   "source": [
    "array = np.arange(1, 6)\n",
    "array"
   ]
  },
  {
   "cell_type": "code",
<<<<<<< HEAD
   "execution_count": 102,
   "id": "103685bc",
   "metadata": {
    "ExecuteTime": {
     "end_time": "2022-08-02T01:17:34.278280Z",
     "start_time": "2022-08-02T01:17:34.264318Z"
=======
   "execution_count": 68,
   "id": "103685bc",
   "metadata": {
    "ExecuteTime": {
     "end_time": "2022-08-02T01:08:42.346765Z",
     "start_time": "2022-08-02T01:08:42.334797Z"
>>>>>>> f79a924c7ab1cef58fd10daf4648ef73ef815a03
    }
   },
   "outputs": [
    {
     "data": {
      "text/plain": [
       "5"
      ]
     },
<<<<<<< HEAD
     "execution_count": 102,
=======
     "execution_count": 68,
>>>>>>> f79a924c7ab1cef58fd10daf4648ef73ef815a03
     "metadata": {},
     "output_type": "execute_result"
    }
   ],
   "source": [
    "array.size"
   ]
  },
  {
   "cell_type": "code",
<<<<<<< HEAD
   "execution_count": 103,
   "id": "26456db8",
   "metadata": {
    "ExecuteTime": {
     "end_time": "2022-08-02T01:17:34.404942Z",
     "start_time": "2022-08-02T01:17:34.384995Z"
=======
   "execution_count": 69,
   "id": "26456db8",
   "metadata": {
    "ExecuteTime": {
     "end_time": "2022-08-02T01:08:42.458466Z",
     "start_time": "2022-08-02T01:08:42.440515Z"
>>>>>>> f79a924c7ab1cef58fd10daf4648ef73ef815a03
    }
   },
   "outputs": [
    {
     "data": {
      "text/plain": [
       "dtype('int32')"
      ]
     },
<<<<<<< HEAD
     "execution_count": 103,
=======
     "execution_count": 69,
>>>>>>> f79a924c7ab1cef58fd10daf4648ef73ef815a03
     "metadata": {},
     "output_type": "execute_result"
    }
   ],
   "source": [
    "array.dtype"
   ]
  },
  {
   "cell_type": "code",
<<<<<<< HEAD
   "execution_count": 104,
   "id": "8b6bba3a",
   "metadata": {
    "ExecuteTime": {
     "end_time": "2022-08-02T01:17:34.484728Z",
     "start_time": "2022-08-02T01:17:34.475753Z"
=======
   "execution_count": 70,
   "id": "8b6bba3a",
   "metadata": {
    "ExecuteTime": {
     "end_time": "2022-08-02T01:08:42.552215Z",
     "start_time": "2022-08-02T01:08:42.544237Z"
>>>>>>> f79a924c7ab1cef58fd10daf4648ef73ef815a03
    }
   },
   "outputs": [
    {
     "data": {
      "text/plain": [
       "array([[1, 2, 3],\n",
       "       [4, 5, 6]])"
      ]
     },
<<<<<<< HEAD
     "execution_count": 104,
=======
     "execution_count": 70,
>>>>>>> f79a924c7ab1cef58fd10daf4648ef73ef815a03
     "metadata": {},
     "output_type": "execute_result"
    }
   ],
   "source": [
    "arr = np.array([[1, 2, 3], [4, 5, 6]])\n",
    "arr"
   ]
  },
  {
   "cell_type": "code",
<<<<<<< HEAD
   "execution_count": 105,
   "id": "a4f8d86b",
   "metadata": {
    "ExecuteTime": {
     "end_time": "2022-08-02T01:17:34.563517Z",
     "start_time": "2022-08-02T01:17:34.549555Z"
=======
   "execution_count": 71,
   "id": "a4f8d86b",
   "metadata": {
    "ExecuteTime": {
     "end_time": "2022-08-02T01:08:42.663917Z",
     "start_time": "2022-08-02T01:08:42.650953Z"
>>>>>>> f79a924c7ab1cef58fd10daf4648ef73ef815a03
    }
   },
   "outputs": [
    {
     "data": {
      "text/plain": [
       "2"
      ]
     },
<<<<<<< HEAD
     "execution_count": 105,
=======
     "execution_count": 71,
>>>>>>> f79a924c7ab1cef58fd10daf4648ef73ef815a03
     "metadata": {},
     "output_type": "execute_result"
    }
   ],
   "source": [
    "arr.ndim"
   ]
  },
  {
   "cell_type": "code",
<<<<<<< HEAD
   "execution_count": 106,
   "id": "ca064a11",
   "metadata": {
    "ExecuteTime": {
     "end_time": "2022-08-02T01:17:34.674222Z",
     "start_time": "2022-08-02T01:17:34.655272Z"
=======
   "execution_count": 72,
   "id": "ca064a11",
   "metadata": {
    "ExecuteTime": {
     "end_time": "2022-08-02T01:08:42.742706Z",
     "start_time": "2022-08-02T01:08:42.725751Z"
>>>>>>> f79a924c7ab1cef58fd10daf4648ef73ef815a03
    }
   },
   "outputs": [
    {
     "data": {
      "text/plain": [
       "array([[0., 0., 0., 0.],\n",
       "       [0., 0., 0., 0.],\n",
       "       [0., 0., 0., 0.]])"
      ]
     },
<<<<<<< HEAD
     "execution_count": 106,
=======
     "execution_count": 72,
>>>>>>> f79a924c7ab1cef58fd10daf4648ef73ef815a03
     "metadata": {},
     "output_type": "execute_result"
    }
   ],
   "source": [
    "arr_zero = np.zeros((3, 4))\n",
    "arr_zero"
   ]
  },
  {
   "cell_type": "code",
<<<<<<< HEAD
   "execution_count": 107,
   "id": "e40bf01b",
   "metadata": {
    "ExecuteTime": {
     "end_time": "2022-08-02T01:17:34.768968Z",
     "start_time": "2022-08-02T01:17:34.759992Z"
=======
   "execution_count": 73,
   "id": "e40bf01b",
   "metadata": {
    "ExecuteTime": {
     "end_time": "2022-08-02T01:08:42.853410Z",
     "start_time": "2022-08-02T01:08:42.844435Z"
>>>>>>> f79a924c7ab1cef58fd10daf4648ef73ef815a03
    }
   },
   "outputs": [
    {
     "data": {
      "text/plain": [
       "array([[1., 1., 1., 1.],\n",
       "       [1., 1., 1., 1.],\n",
       "       [1., 1., 1., 1.]])"
      ]
     },
<<<<<<< HEAD
     "execution_count": 107,
=======
     "execution_count": 73,
>>>>>>> f79a924c7ab1cef58fd10daf4648ef73ef815a03
     "metadata": {},
     "output_type": "execute_result"
    }
   ],
   "source": [
    "arr_one = np.ones((3, 4))\n",
    "arr_one"
   ]
  },
  {
   "cell_type": "code",
<<<<<<< HEAD
   "execution_count": 108,
   "id": "f0321130",
   "metadata": {
    "ExecuteTime": {
     "end_time": "2022-08-02T01:17:35.039245Z",
     "start_time": "2022-08-02T01:17:35.030270Z"
=======
   "execution_count": 74,
   "id": "f0321130",
   "metadata": {
    "ExecuteTime": {
     "end_time": "2022-08-02T01:08:42.980072Z",
     "start_time": "2022-08-02T01:08:42.965112Z"
>>>>>>> f79a924c7ab1cef58fd10daf4648ef73ef815a03
    }
   },
   "outputs": [
    {
     "data": {
      "text/plain": [
       "array([[8, 8, 8, 8, 8],\n",
       "       [8, 8, 8, 8, 8],\n",
       "       [8, 8, 8, 8, 8],\n",
       "       [8, 8, 8, 8, 8],\n",
       "       [8, 8, 8, 8, 8]])"
      ]
     },
<<<<<<< HEAD
     "execution_count": 108,
=======
     "execution_count": 74,
>>>>>>> f79a924c7ab1cef58fd10daf4648ef73ef815a03
     "metadata": {},
     "output_type": "execute_result"
    }
   ],
   "source": [
    "arr = np.full((5, 5), 8)\n",
    "arr"
   ]
  },
  {
   "cell_type": "code",
<<<<<<< HEAD
   "execution_count": 109,
   "id": "7d44b117",
   "metadata": {
    "ExecuteTime": {
     "end_time": "2022-08-02T01:17:35.116040Z",
     "start_time": "2022-08-02T01:17:35.105070Z"
=======
   "execution_count": 75,
   "id": "7d44b117",
   "metadata": {
    "ExecuteTime": {
     "end_time": "2022-08-02T01:08:43.074818Z",
     "start_time": "2022-08-02T01:08:43.069831Z"
>>>>>>> f79a924c7ab1cef58fd10daf4648ef73ef815a03
    }
   },
   "outputs": [
    {
     "data": {
      "text/plain": [
       "array([ 1,  2,  3,  4,  5,  6,  7,  8,  9, 10, 11, 12, 13, 14, 15, 16, 17,\n",
       "       18, 19, 20, 21, 22, 23, 24, 25, 26, 27, 28, 29, 30, 31, 32, 33, 34,\n",
       "       35, 36, 37, 38, 39, 40, 41, 42, 43, 44, 45, 46, 47, 48, 49, 50])"
      ]
     },
<<<<<<< HEAD
     "execution_count": 109,
=======
     "execution_count": 75,
>>>>>>> f79a924c7ab1cef58fd10daf4648ef73ef815a03
     "metadata": {},
     "output_type": "execute_result"
    }
   ],
   "source": [
    "arr = np.arange(1, 51)\n",
    "arr"
   ]
  },
  {
   "cell_type": "code",
<<<<<<< HEAD
   "execution_count": 110,
   "id": "48f64bbd",
   "metadata": {
    "ExecuteTime": {
     "end_time": "2022-08-02T01:17:35.226744Z",
     "start_time": "2022-08-02T01:17:35.209789Z"
=======
   "execution_count": 76,
   "id": "48f64bbd",
   "metadata": {
    "ExecuteTime": {
     "end_time": "2022-08-02T01:08:43.185523Z",
     "start_time": "2022-08-02T01:08:43.175549Z"
>>>>>>> f79a924c7ab1cef58fd10daf4648ef73ef815a03
    }
   },
   "outputs": [
    {
     "data": {
      "text/plain": [
       "array([1, 2, 3], dtype=int64)"
      ]
     },
<<<<<<< HEAD
     "execution_count": 110,
=======
     "execution_count": 76,
>>>>>>> f79a924c7ab1cef58fd10daf4648ef73ef815a03
     "metadata": {},
     "output_type": "execute_result"
    }
   ],
   "source": [
    "arr_type = np.array([1.2, 2.3, 3.4], dtype=np.int64)\n",
    "arr_type"
   ]
  },
  {
   "cell_type": "code",
<<<<<<< HEAD
   "execution_count": 111,
   "id": "1b684b82",
   "metadata": {
    "ExecuteTime": {
     "end_time": "2022-08-02T01:17:35.370360Z",
     "start_time": "2022-08-02T01:17:35.360387Z"
=======
   "execution_count": 77,
   "id": "1b684b82",
   "metadata": {
    "ExecuteTime": {
     "end_time": "2022-08-02T01:08:43.295229Z",
     "start_time": "2022-08-02T01:08:43.280269Z"
>>>>>>> f79a924c7ab1cef58fd10daf4648ef73ef815a03
    }
   },
   "outputs": [
    {
     "data": {
      "text/plain": [
       "array([1., 2., 3.])"
      ]
     },
<<<<<<< HEAD
     "execution_count": 111,
=======
     "execution_count": 77,
>>>>>>> f79a924c7ab1cef58fd10daf4648ef73ef815a03
     "metadata": {},
     "output_type": "execute_result"
    }
   ],
   "source": [
    "arr_type = arr_type.astype(\"float64\")\n",
    "arr_type"
   ]
  },
  {
   "cell_type": "code",
<<<<<<< HEAD
   "execution_count": 112,
   "id": "6d6f8361",
   "metadata": {
    "ExecuteTime": {
     "end_time": "2022-08-02T01:17:35.496025Z",
     "start_time": "2022-08-02T01:17:35.480066Z"
=======
   "execution_count": 78,
   "id": "6d6f8361",
   "metadata": {
    "ExecuteTime": {
     "end_time": "2022-08-02T01:08:43.390972Z",
     "start_time": "2022-08-02T01:08:43.384989Z"
>>>>>>> f79a924c7ab1cef58fd10daf4648ef73ef815a03
    }
   },
   "outputs": [
    {
     "data": {
      "text/plain": [
       "dtype('float64')"
      ]
     },
<<<<<<< HEAD
     "execution_count": 112,
=======
     "execution_count": 78,
>>>>>>> f79a924c7ab1cef58fd10daf4648ef73ef815a03
     "metadata": {},
     "output_type": "execute_result"
    }
   ],
   "source": [
    "arr_type.dtype"
   ]
  },
  {
   "cell_type": "code",
<<<<<<< HEAD
   "execution_count": 113,
   "id": "a103f8ae",
   "metadata": {
    "ExecuteTime": {
     "end_time": "2022-08-02T01:17:35.590771Z",
     "start_time": "2022-08-02T01:17:35.584786Z"
=======
   "execution_count": 79,
   "id": "a103f8ae",
   "metadata": {
    "ExecuteTime": {
     "end_time": "2022-08-02T01:08:43.501676Z",
     "start_time": "2022-08-02T01:08:43.489709Z"
>>>>>>> f79a924c7ab1cef58fd10daf4648ef73ef815a03
    }
   },
   "outputs": [
    {
     "data": {
      "text/plain": [
<<<<<<< HEAD
       "array([[0.31699005, 0.91032824, 0.35776216],\n",
       "       [0.37833238, 0.31438167, 0.17662021]])"
      ]
     },
     "execution_count": 113,
=======
       "array([[0.54258229, 0.1513059 , 0.04411998],\n",
       "       [0.24645406, 0.07658651, 0.02074891]])"
      ]
     },
     "execution_count": 79,
>>>>>>> f79a924c7ab1cef58fd10daf4648ef73ef815a03
     "metadata": {},
     "output_type": "execute_result"
    }
   ],
   "source": [
    "arr = np.random.rand(2, 3)\n",
    "arr"
   ]
  },
  {
   "cell_type": "code",
<<<<<<< HEAD
   "execution_count": 114,
   "id": "ad20d52c",
   "metadata": {
    "ExecuteTime": {
     "end_time": "2022-08-02T01:17:35.750344Z",
     "start_time": "2022-08-02T01:17:35.734387Z"
=======
   "execution_count": 80,
   "id": "ad20d52c",
   "metadata": {
    "ExecuteTime": {
     "end_time": "2022-08-02T01:08:43.597421Z",
     "start_time": "2022-08-02T01:08:43.580466Z"
>>>>>>> f79a924c7ab1cef58fd10daf4648ef73ef815a03
    }
   },
   "outputs": [
    {
     "data": {
      "text/plain": [
       "array([2, 4, 6, 8])"
      ]
     },
<<<<<<< HEAD
     "execution_count": 114,
=======
     "execution_count": 80,
>>>>>>> f79a924c7ab1cef58fd10daf4648ef73ef815a03
     "metadata": {},
     "output_type": "execute_result"
    }
   ],
   "source": [
    "arr = np.arange(2, 10, 2)\n",
    "arr"
   ]
  },
  {
   "cell_type": "code",
<<<<<<< HEAD
=======
   "execution_count": 81,
   "id": "a2859661",
   "metadata": {
    "ExecuteTime": {
     "end_time": "2022-08-02T01:08:43.708124Z",
     "start_time": "2022-08-02T01:08:43.701143Z"
    }
   },
   "outputs": [
    {
     "data": {
      "text/plain": [
       "array([1., 2., 3., 4.])"
      ]
     },
     "execution_count": 81,
     "metadata": {},
     "output_type": "execute_result"
    }
   ],
   "source": [
    "arr/2"
   ]
  },
  {
   "cell_type": "code",
>>>>>>> f79a924c7ab1cef58fd10daf4648ef73ef815a03
   "execution_count": null,
   "id": "d3b5acdf",
   "metadata": {},
   "outputs": [],
   "source": []
  },
  {
   "cell_type": "code",
   "execution_count": null,
   "id": "0dbf629e",
   "metadata": {},
   "outputs": [],
   "source": []
  },
  {
   "cell_type": "code",
   "execution_count": null,
   "id": "60292b3d",
   "metadata": {},
   "outputs": [],
   "source": []
  },
  {
   "cell_type": "code",
   "execution_count": null,
   "id": "6a54b3a1",
   "metadata": {},
   "outputs": [],
   "source": []
  },
  {
   "cell_type": "code",
   "execution_count": null,
   "id": "1f864625",
   "metadata": {},
   "outputs": [],
   "source": []
  },
  {
   "cell_type": "code",
   "execution_count": null,
   "id": "5d624ee3",
   "metadata": {},
   "outputs": [],
   "source": []
  },
  {
   "cell_type": "code",
   "execution_count": null,
   "id": "8a6da42f",
   "metadata": {},
   "outputs": [],
   "source": []
  },
  {
   "cell_type": "code",
   "execution_count": null,
   "id": "59eb8d97",
   "metadata": {},
   "outputs": [],
   "source": []
  },
  {
   "cell_type": "code",
   "execution_count": null,
   "id": "cb8c824e",
   "metadata": {},
   "outputs": [],
   "source": []
  },
  {
   "cell_type": "code",
   "execution_count": null,
   "id": "4941d39e",
   "metadata": {},
   "outputs": [],
   "source": []
  },
  {
   "cell_type": "code",
   "execution_count": null,
   "id": "a639f1bb",
   "metadata": {},
   "outputs": [],
   "source": []
  }
 ],
 "metadata": {
  "kernelspec": {
   "display_name": "Python 3 (ipykernel)",
   "language": "python",
   "name": "python3"
  },
  "language_info": {
   "codemirror_mode": {
    "name": "ipython",
    "version": 3
   },
   "file_extension": ".py",
   "mimetype": "text/x-python",
   "name": "python",
   "nbconvert_exporter": "python",
   "pygments_lexer": "ipython3",
   "version": "3.9.12"
  },
  "toc": {
   "base_numbering": 1,
   "nav_menu": {},
   "number_sections": true,
   "sideBar": true,
   "skip_h1_title": false,
   "title_cell": "Table of Contents",
   "title_sidebar": "Contents",
   "toc_cell": false,
   "toc_position": {},
   "toc_section_display": true,
   "toc_window_display": false
  }
 },
 "nbformat": 4,
 "nbformat_minor": 5
}
