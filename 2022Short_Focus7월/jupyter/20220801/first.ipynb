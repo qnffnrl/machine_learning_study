{
 "cells": [
  {
   "cell_type": "code",
   "execution_count": 6,
   "id": "f34f14dc",
   "metadata": {
    "ExecuteTime": {
     "end_time": "2022-08-01T05:10:12.399448Z",
     "start_time": "2022-08-01T05:10:12.380498Z"
    }
   },
   "outputs": [
    {
     "data": {
      "text/plain": [
       "{'name': 'HW', 'age': 25, 'phone': '010-5635-5918'}"
      ]
     },
     "execution_count": 6,
     "metadata": {},
     "output_type": "execute_result"
    }
   ],
   "source": [
    "dic = {'name' : 'HW', 'age' : 25, 'phone' : '010-5635-5918'}\n",
    "dic"
   ]
  },
  {
   "cell_type": "code",
   "execution_count": 7,
   "id": "8f33245c",
   "metadata": {
    "ExecuteTime": {
     "end_time": "2022-08-01T05:10:40.436592Z",
     "start_time": "2022-08-01T05:10:40.420634Z"
    }
   },
   "outputs": [],
   "source": [
    "dic['birth'] = '08/07'"
   ]
  },
  {
   "cell_type": "code",
   "execution_count": 8,
   "id": "7af5b8ca",
   "metadata": {
    "ExecuteTime": {
     "end_time": "2022-08-01T05:10:42.945497Z",
     "start_time": "2022-08-01T05:10:42.932535Z"
    }
   },
   "outputs": [
    {
     "data": {
      "text/plain": [
       "{'name': 'HW', 'age': 25, 'phone': '010-5635-5918', 'birth': '08/07'}"
      ]
     },
     "execution_count": 8,
     "metadata": {},
     "output_type": "execute_result"
    }
   ],
   "source": [
    "dic"
   ]
  },
  {
   "cell_type": "code",
   "execution_count": 10,
   "id": "316220cf",
   "metadata": {
    "ExecuteTime": {
     "end_time": "2022-08-01T05:11:21.883619Z",
     "start_time": "2022-08-01T05:11:21.875667Z"
    }
   },
   "outputs": [
    {
     "data": {
      "text/plain": [
       "'HW'"
      ]
     },
     "execution_count": 10,
     "metadata": {},
     "output_type": "execute_result"
    }
   ],
   "source": [
    "dic['name']"
   ]
  },
  {
   "cell_type": "code",
   "execution_count": 11,
   "id": "11556865",
   "metadata": {
    "ExecuteTime": {
     "end_time": "2022-08-01T05:11:27.151754Z",
     "start_time": "2022-08-01T05:11:27.139788Z"
    }
   },
   "outputs": [
    {
     "data": {
      "text/plain": [
       "25"
      ]
     },
     "execution_count": 11,
     "metadata": {},
     "output_type": "execute_result"
    }
   ],
   "source": [
    "dic['age']"
   ]
  },
  {
   "cell_type": "code",
   "execution_count": 13,
   "id": "b3fa7340",
   "metadata": {
    "ExecuteTime": {
     "end_time": "2022-08-01T05:12:27.553433Z",
     "start_time": "2022-08-01T05:12:27.540492Z"
    }
   },
   "outputs": [
    {
     "data": {
      "text/plain": [
       "dict_keys(['name', 'age', 'phone', 'birth'])"
      ]
     },
     "execution_count": 13,
     "metadata": {},
     "output_type": "execute_result"
    }
   ],
   "source": [
    "dic.keys()"
   ]
  },
  {
   "cell_type": "code",
   "execution_count": 14,
   "id": "59d801ef",
   "metadata": {
    "ExecuteTime": {
     "end_time": "2022-08-01T05:12:31.596110Z",
     "start_time": "2022-08-01T05:12:31.580507Z"
    }
   },
   "outputs": [
    {
     "data": {
      "text/plain": [
       "dict_values(['HW', 25, '010-5635-5918', '08/07'])"
      ]
     },
     "execution_count": 14,
     "metadata": {},
     "output_type": "execute_result"
    }
   ],
   "source": [
    "dic.values()"
   ]
  },
  {
   "cell_type": "code",
   "execution_count": 15,
   "id": "6cf64916",
   "metadata": {
    "ExecuteTime": {
     "end_time": "2022-08-01T05:14:31.611525Z",
     "start_time": "2022-08-01T05:14:31.596560Z"
    }
   },
   "outputs": [],
   "source": [
    "def plus(a, b):\n",
    "    return a+b"
   ]
  },
  {
   "cell_type": "code",
   "execution_count": 16,
   "id": "aa46f525",
   "metadata": {
    "ExecuteTime": {
     "end_time": "2022-08-01T05:14:36.056414Z",
     "start_time": "2022-08-01T05:14:36.051428Z"
    }
   },
   "outputs": [
    {
     "data": {
      "text/plain": [
       "3"
      ]
     },
     "execution_count": 16,
     "metadata": {},
     "output_type": "execute_result"
    }
   ],
   "source": [
    "plus(1, 2)"
   ]
  },
  {
   "cell_type": "code",
   "execution_count": 17,
   "id": "4d059bd4",
   "metadata": {
    "ExecuteTime": {
     "end_time": "2022-08-01T05:19:07.625887Z",
     "start_time": "2022-08-01T05:19:07.620899Z"
    }
   },
   "outputs": [],
   "source": [
    "review_list = ['will smith hard carry',\n",
    "               'jasmin so cool']\n",
    "review_list2 = ['color and song is funny',\n",
    "                'new analysis of disney is so amazing']"
   ]
  },
  {
   "cell_type": "code",
   "execution_count": 21,
   "id": "f7bc7c55",
   "metadata": {
    "ExecuteTime": {
     "end_time": "2022-08-01T05:19:54.629294Z",
     "start_time": "2022-08-01T05:19:54.620320Z"
    }
   },
   "outputs": [
    {
     "data": {
      "text/plain": [
       "'will smith had cay'"
      ]
     },
     "execution_count": 21,
     "metadata": {},
     "output_type": "execute_result"
    }
   ],
   "source": [
    "review_list[0].replace('r', '')"
   ]
  },
  {
   "cell_type": "code",
   "execution_count": 23,
   "id": "719161df",
   "metadata": {
    "ExecuteTime": {
     "end_time": "2022-08-01T05:21:18.747569Z",
     "start_time": "2022-08-01T05:21:18.731920Z"
    }
   },
   "outputs": [
    {
     "name": "stdout",
     "output_type": "stream",
     "text": [
      "will smith hard carry\n",
      "jasmin so cool\n",
      "color and song is funny\n",
      "new analysis of disney is so amazing\n"
     ]
    }
   ],
   "source": [
    "for review in review_list:\n",
    "    print(review)\n",
    "\n",
    "for review in review_list2:\n",
    "    print(review)"
   ]
  },
  {
   "cell_type": "code",
   "execution_count": 24,
   "id": "9701061c",
   "metadata": {
    "ExecuteTime": {
     "end_time": "2022-08-01T05:32:23.599365Z",
     "start_time": "2022-08-01T05:32:22.140820Z"
    }
   },
   "outputs": [
    {
     "name": "stdout",
     "output_type": "stream",
     "text": [
      "Enter num1 : 50\n",
      "Enter num2 : 20\n"
     ]
    },
    {
     "data": {
      "text/plain": [
       "30"
      ]
     },
     "execution_count": 24,
     "metadata": {},
     "output_type": "execute_result"
    }
   ],
   "source": [
    "def number_minus(num1, num2):\n",
    "    return num1 - num2\n",
    "\n",
    "num1 = int(input('Enter num1 : '))\n",
    "num2 = int(input('Enter num2 : '))\n",
    "\n",
    "result = number_minus(num1, num2)\n",
    "result"
   ]
  },
  {
   "cell_type": "code",
   "execution_count": 30,
   "id": "2525d0dc",
   "metadata": {
    "ExecuteTime": {
     "end_time": "2022-08-01T05:41:28.997300Z",
     "start_time": "2022-08-01T05:41:26.641923Z"
    }
   },
   "outputs": [
    {
     "name": "stdout",
     "output_type": "stream",
     "text": [
      "Enter num1 : 10\n",
      "Enter num2 : 10\n",
      "Enter op(+, -, *, /) : /\n",
      "Result : 1.0\n"
     ]
    }
   ],
   "source": [
    "def cal(num1, num2, op):\n",
    "    if op == '+': return num1 + num2\n",
    "    elif op == '-': return num1- num2\n",
    "    elif op == '*': return num1* num2\n",
    "    else: return num1 / num2\n",
    "\n",
    "num1 = int(input('Enter num1 : '))\n",
    "num2 = int(input('Enter num2 : '))\n",
    "op = input('Enter op(+, -, *, /) : ')\n",
    "\n",
    "print('Result : {}'.format(cal(num1, num2, op)))"
   ]
  },
  {
   "cell_type": "code",
   "execution_count": 48,
   "id": "8aa6f5ac",
   "metadata": {
    "ExecuteTime": {
     "end_time": "2022-08-01T05:53:02.701866Z",
     "start_time": "2022-08-01T05:53:02.688900Z"
    }
   },
   "outputs": [
    {
     "name": "stdout",
     "output_type": "stream",
     "text": [
      "1 2 5 10 \n",
      "\n",
      "1 2 4 8 16 32 \n",
      "\n",
      "1 2 4 5 10 20 25 50 100 \n",
      "\n"
     ]
    }
   ],
   "source": [
    "def divisor(num):\n",
    "    for i in range(1, num+1):\n",
    "        if num % i == 0:\n",
    "            print(i, end=\" \")\n",
    "    print('\\n')\n",
    "divisor(10)\n",
    "divisor(32)\n",
    "divisor(100)"
   ]
  },
  {
   "cell_type": "code",
   "execution_count": null,
   "id": "c7b3160d",
   "metadata": {},
   "outputs": [],
   "source": []
  },
  {
   "cell_type": "code",
   "execution_count": null,
   "id": "308b0ab9",
   "metadata": {},
   "outputs": [],
   "source": []
  },
  {
   "cell_type": "code",
   "execution_count": null,
   "id": "1386f727",
   "metadata": {},
   "outputs": [],
   "source": []
  }
 ],
 "metadata": {
  "kernelspec": {
   "display_name": "Python 3 (ipykernel)",
   "language": "python",
   "name": "python3"
  },
  "language_info": {
   "codemirror_mode": {
    "name": "ipython",
    "version": 3
   },
   "file_extension": ".py",
   "mimetype": "text/x-python",
   "name": "python",
   "nbconvert_exporter": "python",
   "pygments_lexer": "ipython3",
   "version": "3.9.7"
  },
  "toc": {
   "base_numbering": 1,
   "nav_menu": {},
   "number_sections": true,
   "sideBar": true,
   "skip_h1_title": false,
   "title_cell": "Table of Contents",
   "title_sidebar": "Contents",
   "toc_cell": false,
   "toc_position": {},
   "toc_section_display": true,
   "toc_window_display": false
  }
 },
 "nbformat": 4,
 "nbformat_minor": 5
}
