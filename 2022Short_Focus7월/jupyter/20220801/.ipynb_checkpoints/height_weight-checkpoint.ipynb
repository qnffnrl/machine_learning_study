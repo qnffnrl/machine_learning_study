{
 "cells": [
  {
   "cell_type": "code",
   "execution_count": 2,
   "id": "f9baf9af",
   "metadata": {
    "ExecuteTime": {
     "end_time": "2022-08-01T08:21:16.190604Z",
     "start_time": "2022-08-01T08:21:15.982822Z"
    }
   },
   "outputs": [],
   "source": [
    "import numpy as np"
   ]
  },
  {
   "cell_type": "code",
   "execution_count": 4,
   "id": "e1317f8f",
   "metadata": {
    "ExecuteTime": {
     "end_time": "2022-08-01T08:21:55.583889Z",
     "start_time": "2022-08-01T08:21:55.567538Z"
    }
   },
   "outputs": [
    {
     "data": {
      "text/plain": [
       "array([[175.2, 180.3, 175. , 169.2, 185.2, 188. , 177.6, 178.2, 177. ,\n",
       "        179. ],\n",
       "       [ 65.6,  88. ,  79.2,  69.3,  55. ,  71.2,  73. ,  68.9,  74. ,\n",
       "         82. ]])"
      ]
     },
     "execution_count": 4,
     "metadata": {},
     "output_type": "execute_result"
    }
   ],
   "source": [
    "data = np.loadtxt('./data/height_weight.txt', delimiter=',')\n",
    "data"
   ]
  },
  {
   "cell_type": "code",
   "execution_count": 13,
   "id": "0d00b0a3",
   "metadata": {
    "ExecuteTime": {
     "end_time": "2022-08-01T08:26:47.619569Z",
     "start_time": "2022-08-01T08:26:47.614555Z"
    }
   },
   "outputs": [],
   "source": [
    "bmi = data[1] / ( (data[0]*0.01)*(data[0]*0.01) )"
   ]
  },
  {
   "cell_type": "code",
   "execution_count": 14,
   "id": "e7d7340a",
   "metadata": {
    "ExecuteTime": {
     "end_time": "2022-08-01T08:26:47.743240Z",
     "start_time": "2022-08-01T08:26:47.726510Z"
    }
   },
   "outputs": [
    {
     "data": {
      "text/plain": [
       "array([21.37153104, 27.07018468, 25.86122449, 24.20652885, 16.03543423,\n",
       "       20.14486193, 23.14392095, 21.69720651, 23.62028791, 25.59220998])"
      ]
     },
     "execution_count": 14,
     "metadata": {},
     "output_type": "execute_result"
    }
   ],
   "source": [
    "bmi"
   ]
  },
  {
   "cell_type": "code",
   "execution_count": 16,
   "id": "81b23ad9",
   "metadata": {
    "ExecuteTime": {
     "end_time": "2022-08-01T08:37:29.896342Z",
     "start_time": "2022-08-01T08:37:29.877418Z"
    }
   },
   "outputs": [
    {
     "data": {
      "text/plain": [
       "array([[ 0,  1,  2,  3,  4,  5,  6,  7,  8,  9],\n",
       "       [10, 11, 12, 13, 14, 15, 16, 17, 18, 19],\n",
       "       [20, 21, 22, 23, 24, 25, 26, 27, 28, 29],\n",
       "       [30, 31, 32, 33, 34, 35, 36, 37, 38, 39],\n",
       "       [40, 41, 42, 43, 44, 45, 46, 47, 48, 49]])"
      ]
     },
     "execution_count": 16,
     "metadata": {},
     "output_type": "execute_result"
    }
   ],
   "source": [
    "arr = np.arange(50).reshape(5, 10)\n",
    "arr"
   ]
  },
  {
   "cell_type": "code",
   "execution_count": 17,
   "id": "eed0ba49",
   "metadata": {
    "ExecuteTime": {
     "end_time": "2022-08-01T08:37:43.057628Z",
     "start_time": "2022-08-01T08:37:43.045658Z"
    }
   },
   "outputs": [
    {
     "data": {
      "text/plain": [
       "array([[ 0,  1,  2,  3,  4,  5,  6,  7,  8,  9],\n",
       "       [10, 11, 12, 13, 14, 15, 16, 17, 18, 19]])"
      ]
     },
     "execution_count": 17,
     "metadata": {},
     "output_type": "execute_result"
    }
   ],
   "source": [
    "arr[:2, :]"
   ]
  },
  {
   "cell_type": "code",
   "execution_count": 19,
   "id": "0f119c1f",
   "metadata": {
    "ExecuteTime": {
     "end_time": "2022-08-01T08:41:06.669662Z",
     "start_time": "2022-08-01T08:41:06.661707Z"
    }
   },
   "outputs": [
    {
     "data": {
      "text/plain": [
       "array([[13, 14, 15, 16, 17, 18]])"
      ]
     },
     "execution_count": 19,
     "metadata": {},
     "output_type": "execute_result"
    }
   ],
   "source": [
    "arr[1:2, 3:9]"
   ]
  },
  {
   "cell_type": "code",
   "execution_count": 20,
   "id": "bd936122",
   "metadata": {
    "ExecuteTime": {
     "end_time": "2022-08-01T08:43:27.380777Z",
     "start_time": "2022-08-01T08:43:27.373344Z"
    }
   },
   "outputs": [
    {
     "data": {
      "text/plain": [
       "array(['qw', 'er', 'ty', 'ui'], dtype='<U2')"
      ]
     },
     "execution_count": 20,
     "metadata": {},
     "output_type": "execute_result"
    }
   ],
   "source": [
    "name = np.array(['qw', 'er', 'ty', 'ui'])\n",
    "name"
   ]
  },
  {
   "cell_type": "code",
   "execution_count": 21,
   "id": "4a18c500",
   "metadata": {
    "ExecuteTime": {
     "end_time": "2022-08-01T08:44:11.174260Z",
     "start_time": "2022-08-01T08:44:11.156306Z"
    }
   },
   "outputs": [],
   "source": [
    "bol = np.array([True, False, True, False])"
   ]
  },
  {
   "cell_type": "code",
   "execution_count": 24,
   "id": "cf344d3a",
   "metadata": {
    "ExecuteTime": {
     "end_time": "2022-08-01T08:47:45.128480Z",
     "start_time": "2022-08-01T08:47:45.117486Z"
    }
   },
   "outputs": [],
   "source": [
    "score = np.array([[60, 60, 60], [70, 70, 70], [80, 80, 80], [90, 90 ,90]])"
   ]
  },
  {
   "cell_type": "code",
   "execution_count": 26,
   "id": "aec55a9d",
   "metadata": {
    "ExecuteTime": {
     "end_time": "2022-08-01T08:47:52.638823Z",
     "start_time": "2022-08-01T08:47:52.620872Z"
    }
   },
   "outputs": [
    {
     "data": {
      "text/plain": [
       "array(['qw', 'er', 'ty', 'ui'], dtype='<U2')"
      ]
     },
     "execution_count": 26,
     "metadata": {},
     "output_type": "execute_result"
    }
   ],
   "source": [
    "name"
   ]
  },
  {
   "cell_type": "code",
   "execution_count": 28,
   "id": "bae25cc7",
   "metadata": {
    "ExecuteTime": {
     "end_time": "2022-08-01T08:48:01.339867Z",
     "start_time": "2022-08-01T08:48:01.324907Z"
    }
   },
   "outputs": [
    {
     "data": {
      "text/plain": [
       "array([[60, 60, 60],\n",
       "       [70, 70, 70],\n",
       "       [80, 80, 80],\n",
       "       [90, 90, 90]])"
      ]
     },
     "execution_count": 28,
     "metadata": {},
     "output_type": "execute_result"
    }
   ],
   "source": [
    "score\n"
   ]
  },
  {
   "cell_type": "code",
   "execution_count": 29,
   "id": "96089247",
   "metadata": {
    "ExecuteTime": {
     "end_time": "2022-08-01T08:48:26.567929Z",
     "start_time": "2022-08-01T08:48:26.548981Z"
    }
   },
   "outputs": [
    {
     "data": {
      "text/plain": [
       "array([ True, False, False, False])"
      ]
     },
     "execution_count": 29,
     "metadata": {},
     "output_type": "execute_result"
    }
   ],
   "source": [
    "name == 'qw'"
   ]
  },
  {
   "cell_type": "code",
   "execution_count": 30,
   "id": "a980c990",
   "metadata": {
    "ExecuteTime": {
     "end_time": "2022-08-01T08:48:39.223926Z",
     "start_time": "2022-08-01T08:48:39.212955Z"
    }
   },
   "outputs": [
    {
     "data": {
      "text/plain": [
       "array([[60, 60, 60]])"
      ]
     },
     "execution_count": 30,
     "metadata": {},
     "output_type": "execute_result"
    }
   ],
   "source": [
    "score[name == 'qw']"
   ]
  },
  {
   "cell_type": "code",
   "execution_count": null,
   "id": "4711e8ae",
   "metadata": {},
   "outputs": [],
   "source": []
  },
  {
   "cell_type": "code",
   "execution_count": null,
   "id": "622e1142",
   "metadata": {},
   "outputs": [],
   "source": []
  },
  {
   "cell_type": "code",
   "execution_count": null,
   "id": "d8a30fbe",
   "metadata": {},
   "outputs": [],
   "source": []
  },
  {
   "cell_type": "code",
   "execution_count": null,
   "id": "dd02ca28",
   "metadata": {},
   "outputs": [],
   "source": []
  },
  {
   "cell_type": "code",
   "execution_count": null,
   "id": "68962d4b",
   "metadata": {},
   "outputs": [],
   "source": []
  },
  {
   "cell_type": "code",
   "execution_count": null,
   "id": "aefdb340",
   "metadata": {},
   "outputs": [],
   "source": []
  },
  {
   "cell_type": "code",
   "execution_count": null,
   "id": "f97f2e5f",
   "metadata": {},
   "outputs": [],
   "source": []
  },
  {
   "cell_type": "code",
   "execution_count": null,
   "id": "0c2597d2",
   "metadata": {},
   "outputs": [],
   "source": []
  },
  {
   "cell_type": "code",
   "execution_count": null,
   "id": "1b52d85d",
   "metadata": {},
   "outputs": [],
   "source": []
  }
 ],
 "metadata": {
  "kernelspec": {
   "display_name": "Python 3 (ipykernel)",
   "language": "python",
   "name": "python3"
  },
  "language_info": {
   "codemirror_mode": {
    "name": "ipython",
    "version": 3
   },
   "file_extension": ".py",
   "mimetype": "text/x-python",
   "name": "python",
   "nbconvert_exporter": "python",
   "pygments_lexer": "ipython3",
   "version": "3.9.12"
  },
  "toc": {
   "base_numbering": 1,
   "nav_menu": {},
   "number_sections": true,
   "sideBar": true,
   "skip_h1_title": false,
   "title_cell": "Table of Contents",
   "title_sidebar": "Contents",
   "toc_cell": false,
   "toc_position": {},
   "toc_section_display": true,
   "toc_window_display": false
  }
 },
 "nbformat": 4,
 "nbformat_minor": 5
}
