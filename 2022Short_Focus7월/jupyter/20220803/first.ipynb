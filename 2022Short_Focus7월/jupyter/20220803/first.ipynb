{
 "cells": [
  {
   "cell_type": "code",
   "execution_count": 1,
   "id": "e64e13f3",
   "metadata": {
    "ExecuteTime": {
     "end_time": "2022-08-03T05:48:42.546245Z",
     "start_time": "2022-08-03T05:48:42.014022Z"
    }
   },
   "outputs": [],
   "source": [
    "import pandas as pd"
   ]
  },
  {
   "cell_type": "code",
   "execution_count": 2,
   "id": "cb538214",
   "metadata": {
    "ExecuteTime": {
     "end_time": "2022-08-03T05:48:42.566270Z",
     "start_time": "2022-08-03T05:48:42.546245Z"
    }
   },
   "outputs": [],
   "source": [
    "pNumber = pd.read_csv('./data/population_number.csv', encoding='euc-kr', index_col='도시')"
   ]
  },
  {
   "cell_type": "code",
   "execution_count": 3,
   "id": "638d53a8",
   "metadata": {
    "ExecuteTime": {
     "end_time": "2022-08-03T05:48:42.613570Z",
     "start_time": "2022-08-03T05:48:42.566270Z"
    }
   },
   "outputs": [
    {
     "data": {
      "text/html": [
       "<div>\n",
       "<style scoped>\n",
       "    .dataframe tbody tr th:only-of-type {\n",
       "        vertical-align: middle;\n",
       "    }\n",
       "\n",
       "    .dataframe tbody tr th {\n",
       "        vertical-align: top;\n",
       "    }\n",
       "\n",
       "    .dataframe thead th {\n",
       "        text-align: right;\n",
       "    }\n",
       "</style>\n",
       "<table border=\"1\" class=\"dataframe\">\n",
       "  <thead>\n",
       "    <tr style=\"text-align: right;\">\n",
       "      <th></th>\n",
       "      <th>지역</th>\n",
       "      <th>2015</th>\n",
       "      <th>2010</th>\n",
       "      <th>2005</th>\n",
       "      <th>2000</th>\n",
       "    </tr>\n",
       "    <tr>\n",
       "      <th>도시</th>\n",
       "      <th></th>\n",
       "      <th></th>\n",
       "      <th></th>\n",
       "      <th></th>\n",
       "      <th></th>\n",
       "    </tr>\n",
       "  </thead>\n",
       "  <tbody>\n",
       "    <tr>\n",
       "      <th>서울</th>\n",
       "      <td>수도권</td>\n",
       "      <td>9904312</td>\n",
       "      <td>9631482.0</td>\n",
       "      <td>9762546.0</td>\n",
       "      <td>9853972</td>\n",
       "    </tr>\n",
       "    <tr>\n",
       "      <th>부산</th>\n",
       "      <td>경상권</td>\n",
       "      <td>3448737</td>\n",
       "      <td>NaN</td>\n",
       "      <td>NaN</td>\n",
       "      <td>3655437</td>\n",
       "    </tr>\n",
       "    <tr>\n",
       "      <th>인천</th>\n",
       "      <td>수도권</td>\n",
       "      <td>2890451</td>\n",
       "      <td>2632035.0</td>\n",
       "      <td>NaN</td>\n",
       "      <td>2466338</td>\n",
       "    </tr>\n",
       "    <tr>\n",
       "      <th>대구</th>\n",
       "      <td>경상권</td>\n",
       "      <td>2466052</td>\n",
       "      <td>2431774.0</td>\n",
       "      <td>2456016.0</td>\n",
       "      <td>2473990</td>\n",
       "    </tr>\n",
       "  </tbody>\n",
       "</table>\n",
       "</div>"
      ],
      "text/plain": [
       "     지역     2015       2010       2005     2000\n",
       "도시                                             \n",
       "서울  수도권  9904312  9631482.0  9762546.0  9853972\n",
       "부산  경상권  3448737        NaN        NaN  3655437\n",
       "인천  수도권  2890451  2632035.0        NaN  2466338\n",
       "대구  경상권  2466052  2431774.0  2456016.0  2473990"
      ]
     },
     "execution_count": 3,
     "metadata": {},
     "output_type": "execute_result"
    }
   ],
   "source": [
    "pNumber"
   ]
  },
  {
   "cell_type": "code",
   "execution_count": 4,
   "id": "aa0a6b12",
   "metadata": {
    "ExecuteTime": {
     "end_time": "2022-08-03T05:48:42.628535Z",
     "start_time": "2022-08-03T05:48:42.614561Z"
    }
   },
   "outputs": [
    {
     "data": {
      "text/plain": [
       "지역      4\n",
       "2015    4\n",
       "2010    3\n",
       "2005    2\n",
       "2000    4\n",
       "dtype: int64"
      ]
     },
     "execution_count": 4,
     "metadata": {},
     "output_type": "execute_result"
    }
   ],
   "source": [
    "pNumber.count()"
   ]
  },
  {
   "cell_type": "code",
   "execution_count": 5,
   "id": "1c9748f2",
   "metadata": {
    "ExecuteTime": {
     "end_time": "2022-08-03T05:48:42.643859Z",
     "start_time": "2022-08-03T05:48:42.629497Z"
    }
   },
   "outputs": [
    {
     "data": {
      "text/plain": [
       "도시\n",
       "서울    9631482.0\n",
       "인천    2632035.0\n",
       "대구    2431774.0\n",
       "부산          NaN\n",
       "Name: 2010, dtype: float64"
      ]
     },
     "execution_count": 5,
     "metadata": {},
     "output_type": "execute_result"
    }
   ],
   "source": [
    "pNumber['2010'].sort_values(ascending=False)"
   ]
  },
  {
   "cell_type": "code",
   "execution_count": 6,
   "id": "d0a51ef5",
   "metadata": {
    "ExecuteTime": {
     "end_time": "2022-08-03T05:48:42.659820Z",
     "start_time": "2022-08-03T05:48:42.646829Z"
    }
   },
   "outputs": [
    {
     "data": {
      "text/html": [
       "<div>\n",
       "<style scoped>\n",
       "    .dataframe tbody tr th:only-of-type {\n",
       "        vertical-align: middle;\n",
       "    }\n",
       "\n",
       "    .dataframe tbody tr th {\n",
       "        vertical-align: top;\n",
       "    }\n",
       "\n",
       "    .dataframe thead th {\n",
       "        text-align: right;\n",
       "    }\n",
       "</style>\n",
       "<table border=\"1\" class=\"dataframe\">\n",
       "  <thead>\n",
       "    <tr style=\"text-align: right;\">\n",
       "      <th></th>\n",
       "      <th>지역</th>\n",
       "      <th>2015</th>\n",
       "      <th>2010</th>\n",
       "      <th>2005</th>\n",
       "      <th>2000</th>\n",
       "    </tr>\n",
       "    <tr>\n",
       "      <th>도시</th>\n",
       "      <th></th>\n",
       "      <th></th>\n",
       "      <th></th>\n",
       "      <th></th>\n",
       "      <th></th>\n",
       "    </tr>\n",
       "  </thead>\n",
       "  <tbody>\n",
       "    <tr>\n",
       "      <th>서울</th>\n",
       "      <td>수도권</td>\n",
       "      <td>9904312</td>\n",
       "      <td>9631482.0</td>\n",
       "      <td>9762546.0</td>\n",
       "      <td>9853972</td>\n",
       "    </tr>\n",
       "    <tr>\n",
       "      <th>인천</th>\n",
       "      <td>수도권</td>\n",
       "      <td>2890451</td>\n",
       "      <td>2632035.0</td>\n",
       "      <td>NaN</td>\n",
       "      <td>2466338</td>\n",
       "    </tr>\n",
       "    <tr>\n",
       "      <th>대구</th>\n",
       "      <td>경상권</td>\n",
       "      <td>2466052</td>\n",
       "      <td>2431774.0</td>\n",
       "      <td>2456016.0</td>\n",
       "      <td>2473990</td>\n",
       "    </tr>\n",
       "    <tr>\n",
       "      <th>부산</th>\n",
       "      <td>경상권</td>\n",
       "      <td>3448737</td>\n",
       "      <td>NaN</td>\n",
       "      <td>NaN</td>\n",
       "      <td>3655437</td>\n",
       "    </tr>\n",
       "  </tbody>\n",
       "</table>\n",
       "</div>"
      ],
      "text/plain": [
       "     지역     2015       2010       2005     2000\n",
       "도시                                             \n",
       "서울  수도권  9904312  9631482.0  9762546.0  9853972\n",
       "인천  수도권  2890451  2632035.0        NaN  2466338\n",
       "대구  경상권  2466052  2431774.0  2456016.0  2473990\n",
       "부산  경상권  3448737        NaN        NaN  3655437"
      ]
     },
     "execution_count": 6,
     "metadata": {},
     "output_type": "execute_result"
    }
   ],
   "source": [
    "pNumber.sort_values(by='2010', ascending=False)"
   ]
  },
  {
   "cell_type": "code",
   "execution_count": 7,
   "id": "da62fd2b",
   "metadata": {
    "ExecuteTime": {
     "end_time": "2022-08-03T05:48:42.675750Z",
     "start_time": "2022-08-03T05:48:42.660821Z"
    }
   },
   "outputs": [
    {
     "data": {
      "text/html": [
       "<div>\n",
       "<style scoped>\n",
       "    .dataframe tbody tr th:only-of-type {\n",
       "        vertical-align: middle;\n",
       "    }\n",
       "\n",
       "    .dataframe tbody tr th {\n",
       "        vertical-align: top;\n",
       "    }\n",
       "\n",
       "    .dataframe thead th {\n",
       "        text-align: right;\n",
       "    }\n",
       "</style>\n",
       "<table border=\"1\" class=\"dataframe\">\n",
       "  <thead>\n",
       "    <tr style=\"text-align: right;\">\n",
       "      <th></th>\n",
       "      <th>지역</th>\n",
       "      <th>2015</th>\n",
       "      <th>2010</th>\n",
       "      <th>2005</th>\n",
       "      <th>2000</th>\n",
       "    </tr>\n",
       "    <tr>\n",
       "      <th>도시</th>\n",
       "      <th></th>\n",
       "      <th></th>\n",
       "      <th></th>\n",
       "      <th></th>\n",
       "      <th></th>\n",
       "    </tr>\n",
       "  </thead>\n",
       "  <tbody>\n",
       "    <tr>\n",
       "      <th>서울</th>\n",
       "      <td>수도권</td>\n",
       "      <td>9904312</td>\n",
       "      <td>9631482.0</td>\n",
       "      <td>9762546.0</td>\n",
       "      <td>9853972</td>\n",
       "    </tr>\n",
       "    <tr>\n",
       "      <th>인천</th>\n",
       "      <td>수도권</td>\n",
       "      <td>2890451</td>\n",
       "      <td>2632035.0</td>\n",
       "      <td>NaN</td>\n",
       "      <td>2466338</td>\n",
       "    </tr>\n",
       "    <tr>\n",
       "      <th>대구</th>\n",
       "      <td>경상권</td>\n",
       "      <td>2466052</td>\n",
       "      <td>2431774.0</td>\n",
       "      <td>2456016.0</td>\n",
       "      <td>2473990</td>\n",
       "    </tr>\n",
       "    <tr>\n",
       "      <th>부산</th>\n",
       "      <td>경상권</td>\n",
       "      <td>3448737</td>\n",
       "      <td>NaN</td>\n",
       "      <td>NaN</td>\n",
       "      <td>3655437</td>\n",
       "    </tr>\n",
       "  </tbody>\n",
       "</table>\n",
       "</div>"
      ],
      "text/plain": [
       "     지역     2015       2010       2005     2000\n",
       "도시                                             \n",
       "서울  수도권  9904312  9631482.0  9762546.0  9853972\n",
       "인천  수도권  2890451  2632035.0        NaN  2466338\n",
       "대구  경상권  2466052  2431774.0  2456016.0  2473990\n",
       "부산  경상권  3448737        NaN        NaN  3655437"
      ]
     },
     "execution_count": 7,
     "metadata": {},
     "output_type": "execute_result"
    }
   ],
   "source": [
    "pNumber.sort_values(by=['2010', '2005'], ascending=False)"
   ]
  },
  {
   "cell_type": "code",
   "execution_count": 8,
   "id": "12e2edac",
   "metadata": {
    "ExecuteTime": {
     "end_time": "2022-08-03T05:48:42.691709Z",
     "start_time": "2022-08-03T05:48:42.676749Z"
    }
   },
   "outputs": [
    {
     "data": {
      "text/html": [
       "<div>\n",
       "<style scoped>\n",
       "    .dataframe tbody tr th:only-of-type {\n",
       "        vertical-align: middle;\n",
       "    }\n",
       "\n",
       "    .dataframe tbody tr th {\n",
       "        vertical-align: top;\n",
       "    }\n",
       "\n",
       "    .dataframe thead th {\n",
       "        text-align: right;\n",
       "    }\n",
       "</style>\n",
       "<table border=\"1\" class=\"dataframe\">\n",
       "  <thead>\n",
       "    <tr style=\"text-align: right;\">\n",
       "      <th></th>\n",
       "      <th>1반</th>\n",
       "      <th>2반</th>\n",
       "      <th>3반</th>\n",
       "      <th>4반</th>\n",
       "    </tr>\n",
       "    <tr>\n",
       "      <th>과목</th>\n",
       "      <th></th>\n",
       "      <th></th>\n",
       "      <th></th>\n",
       "      <th></th>\n",
       "    </tr>\n",
       "  </thead>\n",
       "  <tbody>\n",
       "    <tr>\n",
       "      <th>수학</th>\n",
       "      <td>45</td>\n",
       "      <td>44</td>\n",
       "      <td>73</td>\n",
       "      <td>39</td>\n",
       "    </tr>\n",
       "    <tr>\n",
       "      <th>영어</th>\n",
       "      <td>76</td>\n",
       "      <td>92</td>\n",
       "      <td>45</td>\n",
       "      <td>69</td>\n",
       "    </tr>\n",
       "    <tr>\n",
       "      <th>국어</th>\n",
       "      <td>47</td>\n",
       "      <td>92</td>\n",
       "      <td>45</td>\n",
       "      <td>69</td>\n",
       "    </tr>\n",
       "    <tr>\n",
       "      <th>사회</th>\n",
       "      <td>92</td>\n",
       "      <td>81</td>\n",
       "      <td>85</td>\n",
       "      <td>40</td>\n",
       "    </tr>\n",
       "    <tr>\n",
       "      <th>과학</th>\n",
       "      <td>11</td>\n",
       "      <td>79</td>\n",
       "      <td>47</td>\n",
       "      <td>26</td>\n",
       "    </tr>\n",
       "  </tbody>\n",
       "</table>\n",
       "</div>"
      ],
      "text/plain": [
       "    1반  2반  3반  4반\n",
       "과목                \n",
       "수학  45  44  73  39\n",
       "영어  76  92  45  69\n",
       "국어  47  92  45  69\n",
       "사회  92  81  85  40\n",
       "과학  11  79  47  26"
      ]
     },
     "execution_count": 8,
     "metadata": {},
     "output_type": "execute_result"
    }
   ],
   "source": [
    "score = pd.read_csv('./data/score.csv', encoding='euc-kr', index_col='과목')\n",
    "score"
   ]
  },
  {
   "cell_type": "code",
   "execution_count": 9,
   "id": "d2562557",
   "metadata": {
    "ExecuteTime": {
     "end_time": "2022-08-03T05:48:42.707689Z",
     "start_time": "2022-08-03T05:48:42.694699Z"
    }
   },
   "outputs": [
    {
     "data": {
      "text/plain": [
       "1반    271\n",
       "2반    388\n",
       "3반    295\n",
       "4반    243\n",
       "dtype: int64"
      ]
     },
     "execution_count": 9,
     "metadata": {},
     "output_type": "execute_result"
    }
   ],
   "source": [
    "score.sum()"
   ]
  },
  {
   "cell_type": "code",
   "execution_count": 10,
   "id": "6bdd2808",
   "metadata": {
    "ExecuteTime": {
     "end_time": "2022-08-03T05:48:42.723623Z",
     "start_time": "2022-08-03T05:48:42.708688Z"
    }
   },
   "outputs": [
    {
     "data": {
      "text/plain": [
       "2반    388\n",
       "3반    295\n",
       "1반    271\n",
       "4반    243\n",
       "dtype: int64"
      ]
     },
     "execution_count": 10,
     "metadata": {},
     "output_type": "execute_result"
    }
   ],
   "source": [
    "score.sum().sort_values(ascending=False)"
   ]
  },
  {
   "cell_type": "code",
   "execution_count": 11,
   "id": "55501982",
   "metadata": {
    "ExecuteTime": {
     "end_time": "2022-08-03T05:48:42.739582Z",
     "start_time": "2022-08-03T05:48:42.725617Z"
    }
   },
   "outputs": [
    {
     "data": {
      "text/plain": [
       "과목\n",
       "사회    298\n",
       "영어    282\n",
       "국어    253\n",
       "수학    201\n",
       "과학    163\n",
       "dtype: int64"
      ]
     },
     "execution_count": 11,
     "metadata": {},
     "output_type": "execute_result"
    }
   ],
   "source": [
    "score.sum(axis=1).sort_values(ascending=False)"
   ]
  },
  {
   "cell_type": "code",
   "execution_count": 12,
   "id": "64b1a381",
   "metadata": {
    "ExecuteTime": {
     "end_time": "2022-08-03T05:48:42.755563Z",
     "start_time": "2022-08-03T05:48:42.741573Z"
    }
   },
   "outputs": [
    {
     "data": {
      "text/plain": [
       "과목\n",
       "사회    298\n",
       "영어    282\n",
       "국어    253\n",
       "수학    201\n",
       "과학    163\n",
       "dtype: int64"
      ]
     },
     "execution_count": 12,
     "metadata": {},
     "output_type": "execute_result"
    }
   ],
   "source": [
    "score.T.sum().sort_values(ascending=False)"
   ]
  },
  {
   "cell_type": "code",
   "execution_count": 13,
   "id": "8bb06587",
   "metadata": {
    "ExecuteTime": {
     "end_time": "2022-08-03T05:48:42.771595Z",
     "start_time": "2022-08-03T05:48:42.757532Z"
    }
   },
   "outputs": [],
   "source": [
    "score['합계'] = score.T.sum()"
   ]
  },
  {
   "cell_type": "code",
   "execution_count": 14,
   "id": "ace78621",
   "metadata": {
    "ExecuteTime": {
     "end_time": "2022-08-03T05:48:42.787129Z",
     "start_time": "2022-08-03T05:48:42.774563Z"
    }
   },
   "outputs": [
    {
     "data": {
      "text/html": [
       "<div>\n",
       "<style scoped>\n",
       "    .dataframe tbody tr th:only-of-type {\n",
       "        vertical-align: middle;\n",
       "    }\n",
       "\n",
       "    .dataframe tbody tr th {\n",
       "        vertical-align: top;\n",
       "    }\n",
       "\n",
       "    .dataframe thead th {\n",
       "        text-align: right;\n",
       "    }\n",
       "</style>\n",
       "<table border=\"1\" class=\"dataframe\">\n",
       "  <thead>\n",
       "    <tr style=\"text-align: right;\">\n",
       "      <th></th>\n",
       "      <th>1반</th>\n",
       "      <th>2반</th>\n",
       "      <th>3반</th>\n",
       "      <th>4반</th>\n",
       "      <th>합계</th>\n",
       "    </tr>\n",
       "    <tr>\n",
       "      <th>과목</th>\n",
       "      <th></th>\n",
       "      <th></th>\n",
       "      <th></th>\n",
       "      <th></th>\n",
       "      <th></th>\n",
       "    </tr>\n",
       "  </thead>\n",
       "  <tbody>\n",
       "    <tr>\n",
       "      <th>수학</th>\n",
       "      <td>45</td>\n",
       "      <td>44</td>\n",
       "      <td>73</td>\n",
       "      <td>39</td>\n",
       "      <td>201</td>\n",
       "    </tr>\n",
       "    <tr>\n",
       "      <th>영어</th>\n",
       "      <td>76</td>\n",
       "      <td>92</td>\n",
       "      <td>45</td>\n",
       "      <td>69</td>\n",
       "      <td>282</td>\n",
       "    </tr>\n",
       "    <tr>\n",
       "      <th>국어</th>\n",
       "      <td>47</td>\n",
       "      <td>92</td>\n",
       "      <td>45</td>\n",
       "      <td>69</td>\n",
       "      <td>253</td>\n",
       "    </tr>\n",
       "    <tr>\n",
       "      <th>사회</th>\n",
       "      <td>92</td>\n",
       "      <td>81</td>\n",
       "      <td>85</td>\n",
       "      <td>40</td>\n",
       "      <td>298</td>\n",
       "    </tr>\n",
       "    <tr>\n",
       "      <th>과학</th>\n",
       "      <td>11</td>\n",
       "      <td>79</td>\n",
       "      <td>47</td>\n",
       "      <td>26</td>\n",
       "      <td>163</td>\n",
       "    </tr>\n",
       "  </tbody>\n",
       "</table>\n",
       "</div>"
      ],
      "text/plain": [
       "    1반  2반  3반  4반   합계\n",
       "과목                     \n",
       "수학  45  44  73  39  201\n",
       "영어  76  92  45  69  282\n",
       "국어  47  92  45  69  253\n",
       "사회  92  81  85  40  298\n",
       "과학  11  79  47  26  163"
      ]
     },
     "execution_count": 14,
     "metadata": {},
     "output_type": "execute_result"
    }
   ],
   "source": [
    "score"
   ]
  },
  {
   "cell_type": "code",
   "execution_count": 15,
   "id": "5b8965af",
   "metadata": {
    "ExecuteTime": {
     "end_time": "2022-08-03T05:48:42.850957Z",
     "start_time": "2022-08-03T05:48:42.833012Z"
    }
   },
   "outputs": [],
   "source": [
    "score['평균'] = score.T[0:4].mean()"
   ]
  },
  {
   "cell_type": "code",
   "execution_count": 16,
   "id": "97475a22",
   "metadata": {
    "ExecuteTime": {
     "end_time": "2022-08-03T05:48:43.008158Z",
     "start_time": "2022-08-03T05:48:42.993200Z"
    }
   },
   "outputs": [
    {
     "data": {
      "text/html": [
       "<div>\n",
       "<style scoped>\n",
       "    .dataframe tbody tr th:only-of-type {\n",
       "        vertical-align: middle;\n",
       "    }\n",
       "\n",
       "    .dataframe tbody tr th {\n",
       "        vertical-align: top;\n",
       "    }\n",
       "\n",
       "    .dataframe thead th {\n",
       "        text-align: right;\n",
       "    }\n",
       "</style>\n",
       "<table border=\"1\" class=\"dataframe\">\n",
       "  <thead>\n",
       "    <tr style=\"text-align: right;\">\n",
       "      <th></th>\n",
       "      <th>1반</th>\n",
       "      <th>2반</th>\n",
       "      <th>3반</th>\n",
       "      <th>4반</th>\n",
       "      <th>합계</th>\n",
       "      <th>평균</th>\n",
       "    </tr>\n",
       "    <tr>\n",
       "      <th>과목</th>\n",
       "      <th></th>\n",
       "      <th></th>\n",
       "      <th></th>\n",
       "      <th></th>\n",
       "      <th></th>\n",
       "      <th></th>\n",
       "    </tr>\n",
       "  </thead>\n",
       "  <tbody>\n",
       "    <tr>\n",
       "      <th>수학</th>\n",
       "      <td>45</td>\n",
       "      <td>44</td>\n",
       "      <td>73</td>\n",
       "      <td>39</td>\n",
       "      <td>201</td>\n",
       "      <td>50.25</td>\n",
       "    </tr>\n",
       "    <tr>\n",
       "      <th>영어</th>\n",
       "      <td>76</td>\n",
       "      <td>92</td>\n",
       "      <td>45</td>\n",
       "      <td>69</td>\n",
       "      <td>282</td>\n",
       "      <td>70.50</td>\n",
       "    </tr>\n",
       "    <tr>\n",
       "      <th>국어</th>\n",
       "      <td>47</td>\n",
       "      <td>92</td>\n",
       "      <td>45</td>\n",
       "      <td>69</td>\n",
       "      <td>253</td>\n",
       "      <td>63.25</td>\n",
       "    </tr>\n",
       "    <tr>\n",
       "      <th>사회</th>\n",
       "      <td>92</td>\n",
       "      <td>81</td>\n",
       "      <td>85</td>\n",
       "      <td>40</td>\n",
       "      <td>298</td>\n",
       "      <td>74.50</td>\n",
       "    </tr>\n",
       "    <tr>\n",
       "      <th>과학</th>\n",
       "      <td>11</td>\n",
       "      <td>79</td>\n",
       "      <td>47</td>\n",
       "      <td>26</td>\n",
       "      <td>163</td>\n",
       "      <td>40.75</td>\n",
       "    </tr>\n",
       "  </tbody>\n",
       "</table>\n",
       "</div>"
      ],
      "text/plain": [
       "    1반  2반  3반  4반   합계     평균\n",
       "과목                            \n",
       "수학  45  44  73  39  201  50.25\n",
       "영어  76  92  45  69  282  70.50\n",
       "국어  47  92  45  69  253  63.25\n",
       "사회  92  81  85  40  298  74.50\n",
       "과학  11  79  47  26  163  40.75"
      ]
     },
     "execution_count": 16,
     "metadata": {},
     "output_type": "execute_result"
    }
   ],
   "source": [
    "score"
   ]
  },
  {
   "cell_type": "code",
   "execution_count": 27,
   "id": "aa0e7321",
   "metadata": {
    "ExecuteTime": {
     "end_time": "2022-08-03T05:58:02.856532Z",
     "start_time": "2022-08-03T05:58:02.849549Z"
    }
   },
   "outputs": [],
   "source": [
    "score.loc['반평균'] = score[:-1].mean()"
   ]
  },
  {
   "cell_type": "code",
   "execution_count": 28,
   "id": "4fc7239e",
   "metadata": {
    "ExecuteTime": {
     "end_time": "2022-08-03T05:58:03.027099Z",
     "start_time": "2022-08-03T05:58:03.010145Z"
    }
   },
   "outputs": [
    {
     "data": {
      "text/html": [
       "<div>\n",
       "<style scoped>\n",
       "    .dataframe tbody tr th:only-of-type {\n",
       "        vertical-align: middle;\n",
       "    }\n",
       "\n",
       "    .dataframe tbody tr th {\n",
       "        vertical-align: top;\n",
       "    }\n",
       "\n",
       "    .dataframe thead th {\n",
       "        text-align: right;\n",
       "    }\n",
       "</style>\n",
       "<table border=\"1\" class=\"dataframe\">\n",
       "  <thead>\n",
       "    <tr style=\"text-align: right;\">\n",
       "      <th></th>\n",
       "      <th>1반</th>\n",
       "      <th>2반</th>\n",
       "      <th>3반</th>\n",
       "      <th>4반</th>\n",
       "      <th>합계</th>\n",
       "      <th>평균</th>\n",
       "    </tr>\n",
       "    <tr>\n",
       "      <th>과목</th>\n",
       "      <th></th>\n",
       "      <th></th>\n",
       "      <th></th>\n",
       "      <th></th>\n",
       "      <th></th>\n",
       "      <th></th>\n",
       "    </tr>\n",
       "  </thead>\n",
       "  <tbody>\n",
       "    <tr>\n",
       "      <th>수학</th>\n",
       "      <td>45.0</td>\n",
       "      <td>44.0</td>\n",
       "      <td>73.0</td>\n",
       "      <td>39.0</td>\n",
       "      <td>201.0</td>\n",
       "      <td>50.25</td>\n",
       "    </tr>\n",
       "    <tr>\n",
       "      <th>영어</th>\n",
       "      <td>76.0</td>\n",
       "      <td>92.0</td>\n",
       "      <td>45.0</td>\n",
       "      <td>69.0</td>\n",
       "      <td>282.0</td>\n",
       "      <td>70.50</td>\n",
       "    </tr>\n",
       "    <tr>\n",
       "      <th>국어</th>\n",
       "      <td>47.0</td>\n",
       "      <td>92.0</td>\n",
       "      <td>45.0</td>\n",
       "      <td>69.0</td>\n",
       "      <td>253.0</td>\n",
       "      <td>63.25</td>\n",
       "    </tr>\n",
       "    <tr>\n",
       "      <th>사회</th>\n",
       "      <td>92.0</td>\n",
       "      <td>81.0</td>\n",
       "      <td>85.0</td>\n",
       "      <td>40.0</td>\n",
       "      <td>298.0</td>\n",
       "      <td>74.50</td>\n",
       "    </tr>\n",
       "    <tr>\n",
       "      <th>과학</th>\n",
       "      <td>11.0</td>\n",
       "      <td>79.0</td>\n",
       "      <td>47.0</td>\n",
       "      <td>26.0</td>\n",
       "      <td>163.0</td>\n",
       "      <td>40.75</td>\n",
       "    </tr>\n",
       "    <tr>\n",
       "      <th>반평균</th>\n",
       "      <td>54.2</td>\n",
       "      <td>77.6</td>\n",
       "      <td>59.0</td>\n",
       "      <td>48.6</td>\n",
       "      <td>239.4</td>\n",
       "      <td>59.85</td>\n",
       "    </tr>\n",
       "  </tbody>\n",
       "</table>\n",
       "</div>"
      ],
      "text/plain": [
       "       1반    2반    3반    4반     합계     평균\n",
       "과목                                       \n",
       "수학   45.0  44.0  73.0  39.0  201.0  50.25\n",
       "영어   76.0  92.0  45.0  69.0  282.0  70.50\n",
       "국어   47.0  92.0  45.0  69.0  253.0  63.25\n",
       "사회   92.0  81.0  85.0  40.0  298.0  74.50\n",
       "과학   11.0  79.0  47.0  26.0  163.0  40.75\n",
       "반평균  54.2  77.6  59.0  48.6  239.4  59.85"
      ]
     },
     "execution_count": 28,
     "metadata": {},
     "output_type": "execute_result"
    }
   ],
   "source": [
    "score"
   ]
  },
  {
   "cell_type": "code",
   "execution_count": 40,
   "id": "ea7b1f43",
   "metadata": {
    "ExecuteTime": {
     "end_time": "2022-08-03T06:24:25.923365Z",
     "start_time": "2022-08-03T06:24:25.917356Z"
    }
   },
   "outputs": [
    {
     "data": {
      "text/plain": [
       "과목\n",
       "수학    73.0\n",
       "영어    92.0\n",
       "국어    92.0\n",
       "사회    92.0\n",
       "과학    79.0\n",
       "dtype: float64"
      ]
     },
     "execution_count": 40,
     "metadata": {},
     "output_type": "execute_result"
    }
   ],
   "source": [
    "score.iloc[0:5, 0:4].max(axis=1)"
   ]
  },
  {
   "cell_type": "code",
   "execution_count": 41,
   "id": "6709784e",
   "metadata": {
    "ExecuteTime": {
     "end_time": "2022-08-03T06:24:31.929201Z",
     "start_time": "2022-08-03T06:24:31.908278Z"
    }
   },
   "outputs": [
    {
     "data": {
      "text/plain": [
       "과목\n",
       "수학    39.0\n",
       "영어    45.0\n",
       "국어    45.0\n",
       "사회    40.0\n",
       "과학    11.0\n",
       "dtype: float64"
      ]
     },
     "execution_count": 41,
     "metadata": {},
     "output_type": "execute_result"
    }
   ],
   "source": [
    "score.iloc[0:5, 0:4].min(axis=1)"
   ]
  },
  {
   "cell_type": "code",
   "execution_count": 39,
   "id": "41e86073",
   "metadata": {
    "ExecuteTime": {
     "end_time": "2022-08-03T06:21:08.928025Z",
     "start_time": "2022-08-03T06:21:08.908113Z"
    }
   },
   "outputs": [
    {
     "data": {
      "text/plain": [
       "과목\n",
       "수학     73.0\n",
       "영어     92.0\n",
       "국어     92.0\n",
       "사회     92.0\n",
       "과학     79.0\n",
       "반평균    77.6\n",
       "dtype: float64"
      ]
     },
     "execution_count": 39,
     "metadata": {},
     "output_type": "execute_result"
    }
   ],
   "source": [
    "score.iloc[:, 0:4].max(axis=1)"
   ]
  },
  {
   "cell_type": "code",
   "execution_count": 42,
   "id": "03162d13",
   "metadata": {
    "ExecuteTime": {
     "end_time": "2022-08-03T06:24:44.701472Z",
     "start_time": "2022-08-03T06:24:44.676513Z"
    }
   },
   "outputs": [
    {
     "data": {
      "text/html": [
       "<div>\n",
       "<style scoped>\n",
       "    .dataframe tbody tr th:only-of-type {\n",
       "        vertical-align: middle;\n",
       "    }\n",
       "\n",
       "    .dataframe tbody tr th {\n",
       "        vertical-align: top;\n",
       "    }\n",
       "\n",
       "    .dataframe thead th {\n",
       "        text-align: right;\n",
       "    }\n",
       "</style>\n",
       "<table border=\"1\" class=\"dataframe\">\n",
       "  <thead>\n",
       "    <tr style=\"text-align: right;\">\n",
       "      <th></th>\n",
       "      <th>1반</th>\n",
       "      <th>2반</th>\n",
       "      <th>3반</th>\n",
       "      <th>4반</th>\n",
       "      <th>합계</th>\n",
       "      <th>평균</th>\n",
       "    </tr>\n",
       "    <tr>\n",
       "      <th>과목</th>\n",
       "      <th></th>\n",
       "      <th></th>\n",
       "      <th></th>\n",
       "      <th></th>\n",
       "      <th></th>\n",
       "      <th></th>\n",
       "    </tr>\n",
       "  </thead>\n",
       "  <tbody>\n",
       "    <tr>\n",
       "      <th>수학</th>\n",
       "      <td>45.0</td>\n",
       "      <td>44.0</td>\n",
       "      <td>73.0</td>\n",
       "      <td>39.0</td>\n",
       "      <td>201.0</td>\n",
       "      <td>50.25</td>\n",
       "    </tr>\n",
       "    <tr>\n",
       "      <th>영어</th>\n",
       "      <td>76.0</td>\n",
       "      <td>92.0</td>\n",
       "      <td>45.0</td>\n",
       "      <td>69.0</td>\n",
       "      <td>282.0</td>\n",
       "      <td>70.50</td>\n",
       "    </tr>\n",
       "    <tr>\n",
       "      <th>국어</th>\n",
       "      <td>47.0</td>\n",
       "      <td>92.0</td>\n",
       "      <td>45.0</td>\n",
       "      <td>69.0</td>\n",
       "      <td>253.0</td>\n",
       "      <td>63.25</td>\n",
       "    </tr>\n",
       "    <tr>\n",
       "      <th>사회</th>\n",
       "      <td>92.0</td>\n",
       "      <td>81.0</td>\n",
       "      <td>85.0</td>\n",
       "      <td>40.0</td>\n",
       "      <td>298.0</td>\n",
       "      <td>74.50</td>\n",
       "    </tr>\n",
       "    <tr>\n",
       "      <th>과학</th>\n",
       "      <td>11.0</td>\n",
       "      <td>79.0</td>\n",
       "      <td>47.0</td>\n",
       "      <td>26.0</td>\n",
       "      <td>163.0</td>\n",
       "      <td>40.75</td>\n",
       "    </tr>\n",
       "    <tr>\n",
       "      <th>반평균</th>\n",
       "      <td>54.2</td>\n",
       "      <td>77.6</td>\n",
       "      <td>59.0</td>\n",
       "      <td>48.6</td>\n",
       "      <td>239.4</td>\n",
       "      <td>59.85</td>\n",
       "    </tr>\n",
       "  </tbody>\n",
       "</table>\n",
       "</div>"
      ],
      "text/plain": [
       "       1반    2반    3반    4반     합계     평균\n",
       "과목                                       \n",
       "수학   45.0  44.0  73.0  39.0  201.0  50.25\n",
       "영어   76.0  92.0  45.0  69.0  282.0  70.50\n",
       "국어   47.0  92.0  45.0  69.0  253.0  63.25\n",
       "사회   92.0  81.0  85.0  40.0  298.0  74.50\n",
       "과학   11.0  79.0  47.0  26.0  163.0  40.75\n",
       "반평균  54.2  77.6  59.0  48.6  239.4  59.85"
      ]
     },
     "execution_count": 42,
     "metadata": {},
     "output_type": "execute_result"
    }
   ],
   "source": [
    "score"
   ]
  },
  {
   "cell_type": "code",
   "execution_count": 43,
   "id": "13c488d6",
   "metadata": {
    "ExecuteTime": {
     "end_time": "2022-08-03T06:28:19.228749Z",
     "start_time": "2022-08-03T06:28:19.204813Z"
    }
   },
   "outputs": [
    {
     "data": {
      "text/html": [
       "<div>\n",
       "<style scoped>\n",
       "    .dataframe tbody tr th:only-of-type {\n",
       "        vertical-align: middle;\n",
       "    }\n",
       "\n",
       "    .dataframe tbody tr th {\n",
       "        vertical-align: top;\n",
       "    }\n",
       "\n",
       "    .dataframe thead th {\n",
       "        text-align: right;\n",
       "    }\n",
       "</style>\n",
       "<table border=\"1\" class=\"dataframe\">\n",
       "  <thead>\n",
       "    <tr style=\"text-align: right;\">\n",
       "      <th></th>\n",
       "      <th>height</th>\n",
       "      <th>weight</th>\n",
       "      <th>label</th>\n",
       "    </tr>\n",
       "  </thead>\n",
       "  <tbody>\n",
       "    <tr>\n",
       "      <th>0</th>\n",
       "      <td>140</td>\n",
       "      <td>45</td>\n",
       "      <td>normal</td>\n",
       "    </tr>\n",
       "    <tr>\n",
       "      <th>1</th>\n",
       "      <td>145</td>\n",
       "      <td>72</td>\n",
       "      <td>fat</td>\n",
       "    </tr>\n",
       "    <tr>\n",
       "      <th>2</th>\n",
       "      <td>150</td>\n",
       "      <td>61</td>\n",
       "      <td>fat</td>\n",
       "    </tr>\n",
       "    <tr>\n",
       "      <th>3</th>\n",
       "      <td>137</td>\n",
       "      <td>56</td>\n",
       "      <td>fat</td>\n",
       "    </tr>\n",
       "    <tr>\n",
       "      <th>4</th>\n",
       "      <td>192</td>\n",
       "      <td>48</td>\n",
       "      <td>thin</td>\n",
       "    </tr>\n",
       "    <tr>\n",
       "      <th>...</th>\n",
       "      <td>...</td>\n",
       "      <td>...</td>\n",
       "      <td>...</td>\n",
       "    </tr>\n",
       "    <tr>\n",
       "      <th>19995</th>\n",
       "      <td>157</td>\n",
       "      <td>67</td>\n",
       "      <td>fat</td>\n",
       "    </tr>\n",
       "    <tr>\n",
       "      <th>19996</th>\n",
       "      <td>138</td>\n",
       "      <td>40</td>\n",
       "      <td>normal</td>\n",
       "    </tr>\n",
       "    <tr>\n",
       "      <th>19997</th>\n",
       "      <td>163</td>\n",
       "      <td>62</td>\n",
       "      <td>normal</td>\n",
       "    </tr>\n",
       "    <tr>\n",
       "      <th>19998</th>\n",
       "      <td>169</td>\n",
       "      <td>68</td>\n",
       "      <td>normal</td>\n",
       "    </tr>\n",
       "    <tr>\n",
       "      <th>19999</th>\n",
       "      <td>183</td>\n",
       "      <td>39</td>\n",
       "      <td>thin</td>\n",
       "    </tr>\n",
       "  </tbody>\n",
       "</table>\n",
       "<p>20000 rows × 3 columns</p>\n",
       "</div>"
      ],
      "text/plain": [
       "       height  weight   label\n",
       "0         140      45  normal\n",
       "1         145      72     fat\n",
       "2         150      61     fat\n",
       "3         137      56     fat\n",
       "4         192      48    thin\n",
       "...       ...     ...     ...\n",
       "19995     157      67     fat\n",
       "19996     138      40  normal\n",
       "19997     163      62  normal\n",
       "19998     169      68  normal\n",
       "19999     183      39    thin\n",
       "\n",
       "[20000 rows x 3 columns]"
      ]
     },
     "execution_count": 43,
     "metadata": {},
     "output_type": "execute_result"
    }
   ],
   "source": [
    "bmi = pd.read_csv('./data/bmi.csv')\n",
    "bmi"
   ]
  },
  {
   "cell_type": "code",
   "execution_count": 80,
   "id": "58896bf3",
   "metadata": {
    "ExecuteTime": {
     "end_time": "2022-08-03T06:44:22.770624Z",
     "start_time": "2022-08-03T06:44:22.757658Z"
    }
   },
   "outputs": [
    {
     "data": {
      "text/plain": [
       "7712"
      ]
     },
     "execution_count": 80,
     "metadata": {},
     "output_type": "execute_result"
    }
   ],
   "source": [
    "fat = bmi[bmi['label'] == 'fat']['label'].count()\n",
    "fat"
   ]
  },
  {
   "cell_type": "code",
   "execution_count": 76,
   "id": "2e27ef17",
   "metadata": {
    "ExecuteTime": {
     "end_time": "2022-08-03T06:43:44.669396Z",
     "start_time": "2022-08-03T06:43:44.653415Z"
    }
   },
   "outputs": [],
   "source": [
    "normal = bmi[bmi['label'] == 'normal']['label'].count()"
   ]
  },
  {
   "cell_type": "code",
   "execution_count": 77,
   "id": "51a4b3d8",
   "metadata": {
    "ExecuteTime": {
     "end_time": "2022-08-03T06:43:48.523585Z",
     "start_time": "2022-08-03T06:43:48.517571Z"
    }
   },
   "outputs": [],
   "source": [
    "thin = bmi[bmi['label'] == 'thin']['label'].count()"
   ]
  },
  {
   "cell_type": "code",
   "execution_count": 81,
   "id": "70b068cb",
   "metadata": {
    "ExecuteTime": {
     "end_time": "2022-08-03T06:44:49.383653Z",
     "start_time": "2022-08-03T06:44:49.373703Z"
    }
   },
   "outputs": [
    {
     "data": {
      "text/plain": [
       "fat       7712\n",
       "thin      6338\n",
       "normal    5950\n",
       "Name: label, dtype: int64"
      ]
     },
     "execution_count": 81,
     "metadata": {},
     "output_type": "execute_result"
    }
   ],
   "source": [
    "bmi['label'].value_counts()"
   ]
  },
  {
   "cell_type": "code",
   "execution_count": 88,
   "id": "e0caa476",
   "metadata": {
    "ExecuteTime": {
     "end_time": "2022-08-03T06:47:50.657601Z",
     "start_time": "2022-08-03T06:47:50.637656Z"
    }
   },
   "outputs": [
    {
     "data": {
      "text/plain": [
       "222"
      ]
     },
     "execution_count": 88,
     "metadata": {},
     "output_type": "execute_result"
    }
   ],
   "source": [
    "bmi[(bmi['height'] >= 170) & (bmi['label'] == 'fat')]['label'].count()"
   ]
  },
  {
   "cell_type": "code",
   "execution_count": 95,
   "id": "2552baee",
   "metadata": {
    "ExecuteTime": {
     "end_time": "2022-08-03T06:55:00.027074Z",
     "start_time": "2022-08-03T06:55:00.006127Z"
    }
   },
   "outputs": [
    {
     "data": {
      "text/plain": [
       "77.35585585585585"
      ]
     },
     "execution_count": 95,
     "metadata": {},
     "output_type": "execute_result"
    }
   ],
   "source": [
    "bmi[(bmi['height'] >= 170) & (bmi['label'] == 'fat')]['weight'].mean()"
   ]
  },
  {
   "cell_type": "code",
   "execution_count": null,
   "id": "8059c720",
   "metadata": {},
   "outputs": [],
   "source": []
  }
 ],
 "metadata": {
  "kernelspec": {
   "display_name": "Python 3 (ipykernel)",
   "language": "python",
   "name": "python3"
  },
  "language_info": {
   "codemirror_mode": {
    "name": "ipython",
    "version": 3
   },
   "file_extension": ".py",
   "mimetype": "text/x-python",
   "name": "python",
   "nbconvert_exporter": "python",
   "pygments_lexer": "ipython3",
   "version": "3.9.12"
  },
  "toc": {
   "base_numbering": 1,
   "nav_menu": {},
   "number_sections": true,
   "sideBar": true,
   "skip_h1_title": false,
   "title_cell": "Table of Contents",
   "title_sidebar": "Contents",
   "toc_cell": false,
   "toc_position": {},
   "toc_section_display": true,
   "toc_window_display": false
  }
 },
 "nbformat": 4,
 "nbformat_minor": 5
}
