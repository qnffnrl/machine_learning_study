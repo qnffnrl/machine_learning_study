{
 "cells": [
  {
   "cell_type": "code",
   "execution_count": 1,
   "id": "86ba771c",
   "metadata": {
    "ExecuteTime": {
     "end_time": "2022-08-04T05:11:54.001504Z",
     "start_time": "2022-08-04T05:11:52.727929Z"
    }
   },
   "outputs": [],
   "source": [
    "import pandas as pd"
   ]
  },
  {
   "cell_type": "code",
   "execution_count": 2,
   "id": "9f27b4b2",
   "metadata": {
    "ExecuteTime": {
     "end_time": "2022-08-04T05:12:04.055558Z",
     "start_time": "2022-08-04T05:12:04.037633Z"
    }
   },
   "outputs": [],
   "source": [
    "df = pd.read_csv('./data/bmi.csv')"
   ]
  },
  {
   "cell_type": "code",
   "execution_count": 4,
   "id": "eed90a7f",
   "metadata": {
    "ExecuteTime": {
     "end_time": "2022-08-04T05:12:46.436699Z",
     "start_time": "2022-08-04T05:12:46.413760Z"
    }
   },
   "outputs": [
    {
     "data": {
      "text/plain": [
       "fat       7712\n",
       "thin      6338\n",
       "normal    5950\n",
       "Name: label, dtype: int64"
      ]
     },
     "execution_count": 4,
     "metadata": {},
     "output_type": "execute_result"
    }
   ],
   "source": [
    "df['label'].value_counts()"
   ]
  },
  {
   "cell_type": "code",
   "execution_count": 16,
   "id": "121a66a8",
   "metadata": {
    "ExecuteTime": {
     "end_time": "2022-08-04T05:16:12.964513Z",
     "start_time": "2022-08-04T05:16:12.949536Z"
    }
   },
   "outputs": [
    {
     "data": {
      "text/plain": [
       "222"
      ]
     },
     "execution_count": 16,
     "metadata": {},
     "output_type": "execute_result"
    }
   ],
   "source": [
    "df[(df['height'] >= 170) & (df['label'] == 'fat')]['label'].count()"
   ]
  },
  {
   "cell_type": "code",
   "execution_count": 19,
   "id": "c7ac5672",
   "metadata": {
    "ExecuteTime": {
     "end_time": "2022-08-04T05:16:54.408237Z",
     "start_time": "2022-08-04T05:16:54.397785Z"
    }
   },
   "outputs": [
    {
     "data": {
      "text/plain": [
       "77.35585585585585"
      ]
     },
     "execution_count": 19,
     "metadata": {},
     "output_type": "execute_result"
    }
   ],
   "source": [
    "df[(df['height'] >= 170) & (df['label'] == 'fat')]['weight'].mean()"
   ]
  },
  {
   "cell_type": "code",
   "execution_count": null,
   "id": "0d9574d5",
   "metadata": {},
   "outputs": [],
   "source": []
  }
 ],
 "metadata": {
  "kernelspec": {
   "display_name": "Python 3 (ipykernel)",
   "language": "python",
   "name": "python3"
  },
  "language_info": {
   "codemirror_mode": {
    "name": "ipython",
    "version": 3
   },
   "file_extension": ".py",
   "mimetype": "text/x-python",
   "name": "python",
   "nbconvert_exporter": "python",
   "pygments_lexer": "ipython3",
   "version": "3.9.12"
  },
  "toc": {
   "base_numbering": 1,
   "nav_menu": {},
   "number_sections": true,
   "sideBar": true,
   "skip_h1_title": false,
   "title_cell": "Table of Contents",
   "title_sidebar": "Contents",
   "toc_cell": false,
   "toc_position": {},
   "toc_section_display": true,
   "toc_window_display": false
  }
 },
 "nbformat": 4,
 "nbformat_minor": 5
}
