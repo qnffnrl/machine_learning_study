{
 "cells": [
  {
   "cell_type": "code",
   "execution_count": 2,
   "id": "effedf94",
   "metadata": {
    "ExecuteTime": {
     "end_time": "2022-07-28T05:17:52.911290Z",
     "start_time": "2022-07-28T05:17:51.596003Z"
    }
   },
   "outputs": [
    {
     "name": "stdout",
     "output_type": "stream",
     "text": [
      "Enter Score : 90\n",
      "score is A.\n"
     ]
    }
   ],
   "source": [
    "label = ''\n",
    "score = int(input('Enter Score : '))\n",
    "if score >= 90:\n",
    "    label = 'A'\n",
    "elif score >= 80:\n",
    "    label = 'B'\n",
    "elif score >= 70:\n",
    "    label = 'C'\n",
    "else:\n",
    "    label = 'D'\n",
    "    \n",
    "print(\"score is {}.\".format(label))"
   ]
  },
  {
   "cell_type": "code",
   "execution_count": 8,
   "id": "618cd9ec",
   "metadata": {
    "ExecuteTime": {
     "end_time": "2022-07-28T05:24:45.957835Z",
     "start_time": "2022-07-28T05:24:44.475199Z"
    }
   },
   "outputs": [
    {
     "name": "stdout",
     "output_type": "stream",
     "text": [
      "Enter Temperture : 27\n",
      "Choose Type : 2\n",
      "(1)섭씨 `C       (2)화씨 `F\n",
      "80.6 `F\n"
     ]
    }
   ],
   "source": [
    "temper = int(input(\"Enter Temperture : \"))\n",
    "op = int(input('Choose Type : '))\n",
    "\n",
    "print(\"(1)섭씨 `C       (2)화씨 `F\")\n",
    "\n",
    "if op == 1: #섭씨\n",
    "    print(\"{} `C\".format((temper-32)/1.8))\n",
    "    \n",
    "elif op == 2:\n",
    "    print(\"{} `F\".format((temper*1.8)+32))\n",
    "    \n",
    "else:\n",
    "    print(\"Bad Choose\")\n",
    "    "
   ]
  },
  {
   "cell_type": "code",
   "execution_count": 27,
   "id": "cdb7e0ef",
   "metadata": {
    "ExecuteTime": {
     "end_time": "2022-07-28T05:39:35.651941Z",
     "start_time": "2022-07-28T05:39:34.545343Z"
    }
   },
   "outputs": [
    {
     "name": "stdout",
     "output_type": "stream",
     "text": [
      "Enter Word : qwe\n",
      "w\n"
     ]
    }
   ],
   "source": [
    "word = input('Enter Word : ')\n",
    "middleNum = len(word) // 2\n",
    "if len(word)%2 == 0:\n",
    "    print(word[middleNum-1 : middleNum+1])\n",
    "else:\n",
    "    print(word[middleNum])"
   ]
  },
  {
   "cell_type": "markdown",
   "id": "4179717b",
   "metadata": {},
   "source": [
    "# list"
   ]
  },
  {
   "cell_type": "code",
   "execution_count": 38,
   "id": "4c3cbc4d",
   "metadata": {
    "ExecuteTime": {
     "end_time": "2022-07-28T06:11:42.087940Z",
     "start_time": "2022-07-28T06:11:42.075974Z"
    }
   },
   "outputs": [
    {
     "name": "stdout",
     "output_type": "stream",
     "text": [
      "14\n"
     ]
    }
   ],
   "source": [
    "list1 = [2, 5, 7, 9, 10]\n",
    "print(list1[1] + list1[3])"
   ]
  },
  {
   "cell_type": "code",
   "execution_count": 47,
   "id": "92afb09a",
   "metadata": {
    "ExecuteTime": {
     "end_time": "2022-07-28T06:19:27.604766Z",
     "start_time": "2022-07-28T06:19:27.595791Z"
    }
   },
   "outputs": [
    {
     "name": "stdout",
     "output_type": "stream",
     "text": [
      "['a', 'b', 'c', [7, 8, 9]]\n",
      "b\n",
      "9\n"
     ]
    }
   ],
   "source": [
    "list2 = [1, 2, 3, ['a', 'b', 'c', [7, 8, 9]], ['d', 'e', 'f']]\n",
    "temp = list2[3]\n",
    "print(temp)\n",
    "print(list2[3][1])\n",
    "print(list2[3][3][2])"
   ]
  },
  {
   "cell_type": "code",
   "execution_count": 48,
   "id": "618f0e79",
   "metadata": {
    "ExecuteTime": {
     "end_time": "2022-07-28T06:29:14.959434Z",
     "start_time": "2022-07-28T06:29:14.946468Z"
    }
   },
   "outputs": [
    {
     "data": {
      "text/plain": [
       "[1, 2, 3, 4, 5, 6]"
      ]
     },
     "execution_count": 48,
     "metadata": {},
     "output_type": "execute_result"
    }
   ],
   "source": [
    "list7 = [0, 1, 2, 3, 4, 5, 6]\n",
    "del list7[0]\n",
    "list7"
   ]
  },
  {
   "cell_type": "code",
   "execution_count": 49,
   "id": "8116d0af",
   "metadata": {
    "ExecuteTime": {
     "end_time": "2022-07-28T06:30:45.913221Z",
     "start_time": "2022-07-28T06:30:45.898261Z"
    }
   },
   "outputs": [
    {
     "data": {
      "text/plain": [
       "['a', 'b', 'd', 'e', 'f']"
      ]
     },
     "execution_count": 49,
     "metadata": {},
     "output_type": "execute_result"
    }
   ],
   "source": [
    "list8 = ['a', 'b', 'c', 'd', 'e', 'f']\n",
    "list8.remove('c')\n",
    "list8"
   ]
  },
  {
   "cell_type": "code",
   "execution_count": 54,
   "id": "84fadc6f",
   "metadata": {
    "ExecuteTime": {
     "end_time": "2022-07-28T06:33:04.611591Z",
     "start_time": "2022-07-28T06:33:04.602588Z"
    }
   },
   "outputs": [],
   "source": [
    "list9 = [1, 2, 6, 5, 4, 8, 7, 87 ,9, 3654]\n",
    "list9.sort()"
   ]
  },
  {
   "cell_type": "code",
   "execution_count": 56,
   "id": "21572858",
   "metadata": {
    "ExecuteTime": {
     "end_time": "2022-07-28T06:33:15.410611Z",
     "start_time": "2022-07-28T06:33:15.401636Z"
    }
   },
   "outputs": [],
   "source": [
    "list9.reverse()"
   ]
  },
  {
   "cell_type": "code",
   "execution_count": 62,
   "id": "2a6a2ed6",
   "metadata": {
    "ExecuteTime": {
     "end_time": "2022-07-28T06:37:52.398907Z",
     "start_time": "2022-07-28T06:37:52.392893Z"
    }
   },
   "outputs": [
    {
     "data": {
      "text/plain": [
       "[3654, 87, 9, 8, 7, 6, 5, 4, 2, 1]"
      ]
     },
     "execution_count": 62,
     "metadata": {},
     "output_type": "execute_result"
    }
   ],
   "source": [
    "list9"
   ]
  },
  {
   "cell_type": "code",
   "execution_count": 75,
   "id": "a042050f",
   "metadata": {
    "ExecuteTime": {
     "end_time": "2022-07-28T06:49:56.436548Z",
     "start_time": "2022-07-28T06:49:55.153311Z"
    }
   },
   "outputs": [
    {
     "name": "stdout",
     "output_type": "stream",
     "text": [
      "Enter Number : 128\n",
      "반올림 수 : 130\n"
     ]
    }
   ],
   "source": [
    "num = int(input(\"Enter Number : \"))\n",
    "fNum = (num % 100) % 10\n",
    "if fNum >= 5:\n",
    "    answer = (num - fNum) + 10\n",
    "else:\n",
    "    answer = num - fNum\n",
    "print(\"반올림 수 : {}\".format(answer))"
   ]
  },
  {
   "cell_type": "code",
   "execution_count": null,
   "id": "4a6dde30",
   "metadata": {},
   "outputs": [],
   "source": []
  },
  {
   "cell_type": "code",
   "execution_count": null,
   "id": "6f4b1a99",
   "metadata": {},
   "outputs": [],
   "source": []
  },
  {
   "cell_type": "code",
   "execution_count": null,
   "id": "52809ad6",
   "metadata": {},
   "outputs": [],
   "source": []
  },
  {
   "cell_type": "code",
   "execution_count": null,
   "id": "25899921",
   "metadata": {},
   "outputs": [],
   "source": []
  },
  {
   "cell_type": "code",
   "execution_count": null,
   "id": "d980414c",
   "metadata": {},
   "outputs": [],
   "source": []
  },
  {
   "cell_type": "code",
   "execution_count": null,
   "id": "2aa69711",
   "metadata": {},
   "outputs": [],
   "source": []
  },
  {
   "cell_type": "code",
   "execution_count": null,
   "id": "20f7d732",
   "metadata": {},
   "outputs": [],
   "source": []
  },
  {
   "cell_type": "code",
   "execution_count": null,
   "id": "7eb27a4e",
   "metadata": {},
   "outputs": [],
   "source": []
  },
  {
   "cell_type": "code",
   "execution_count": null,
   "id": "750f9bd9",
   "metadata": {},
   "outputs": [],
   "source": []
  },
  {
   "cell_type": "code",
   "execution_count": null,
   "id": "3aafb045",
   "metadata": {},
   "outputs": [],
   "source": []
  }
 ],
 "metadata": {
  "kernelspec": {
   "display_name": "Python 3 (ipykernel)",
   "language": "python",
   "name": "python3"
  },
  "language_info": {
   "codemirror_mode": {
    "name": "ipython",
    "version": 3
   },
   "file_extension": ".py",
   "mimetype": "text/x-python",
   "name": "python",
   "nbconvert_exporter": "python",
   "pygments_lexer": "ipython3",
   "version": "3.9.7"
  },
  "toc": {
   "base_numbering": 1,
   "nav_menu": {},
   "number_sections": false,
   "sideBar": true,
   "skip_h1_title": false,
   "title_cell": "Table of Contents",
   "title_sidebar": "Contents",
   "toc_cell": false,
   "toc_position": {
    "height": "calc(100% - 180px)",
    "left": "10px",
    "top": "150px",
    "width": "165px"
   },
   "toc_section_display": true,
   "toc_window_display": false
  }
 },
 "nbformat": 4,
 "nbformat_minor": 5
}
