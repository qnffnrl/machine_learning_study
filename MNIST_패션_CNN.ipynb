{
 "cells": [
  {
   "cell_type": "code",
   "execution_count": 2,
   "id": "9c7028ba",
   "metadata": {
    "ExecuteTime": {
     "end_time": "2022-09-16T06:16:20.052082Z",
     "start_time": "2022-09-16T06:16:14.982810Z"
    }
   },
   "outputs": [],
   "source": [
    "from tensorflow import keras\n",
    "from sklearn.model_selection import train_test_split"
   ]
  },
  {
   "cell_type": "code",
   "execution_count": 3,
   "id": "0ab43dfb",
   "metadata": {
    "ExecuteTime": {
     "end_time": "2022-09-16T06:16:20.863377Z",
     "start_time": "2022-09-16T06:16:20.054086Z"
    }
   },
   "outputs": [],
   "source": [
    "(train_input, train_target), (test_input, test_target) = keras.datasets.fashion_mnist.load_data()\n",
    "train_scale = train_input.reshape(-1, 28, 28, 1) / 255.0\n",
    "train_scale, val_scale, train_target, val_target = train_test_split(train_scale, train_target, test_size=0.2, random_state=42)"
   ]
  },
  {
   "cell_type": "markdown",
   "id": "9a38ebde",
   "metadata": {},
   "source": [
    "# 합성곱 신경망 만들기\n",
    "## kernel_size : 마스크 크기"
   ]
  },
  {
   "cell_type": "code",
   "execution_count": 7,
   "id": "d9958c14",
   "metadata": {
    "ExecuteTime": {
     "end_time": "2022-09-16T06:18:10.736861Z",
     "start_time": "2022-09-16T06:18:10.717863Z"
    }
   },
   "outputs": [
    {
     "name": "stdout",
     "output_type": "stream",
     "text": [
      "(48000, 28, 28, 1) (48000,)\n",
      "(12000, 28, 28, 1) (12000,)\n"
     ]
    }
   ],
   "source": [
    "print(train_scale.shape, train_target.shape)\n",
    "print(val_scale.shape, val_target.shape)"
   ]
  },
  {
   "cell_type": "code",
   "execution_count": 24,
   "id": "149a16c2",
   "metadata": {
    "ExecuteTime": {
     "end_time": "2022-07-22T05:15:10.833674Z",
     "start_time": "2022-07-22T05:15:10.815723Z"
    }
   },
   "outputs": [],
   "source": [
    "model = keras.Sequential()\n",
    "model.add(keras.layers.Conv2D(32, kernel_size=3, activation='relu', padding='same', input_shape=(28, 28, 1)))"
   ]
  },
  {
   "cell_type": "code",
   "execution_count": 25,
   "id": "13c70ae6",
   "metadata": {
    "ExecuteTime": {
     "end_time": "2022-07-22T05:15:11.018181Z",
     "start_time": "2022-07-22T05:15:11.010203Z"
    }
   },
   "outputs": [],
   "source": [
    "model.add(keras.layers.MaxPooling2D(2))"
   ]
  },
  {
   "cell_type": "code",
   "execution_count": 26,
   "id": "cf62a994",
   "metadata": {
    "ExecuteTime": {
     "end_time": "2022-07-22T05:15:11.150826Z",
     "start_time": "2022-07-22T05:15:11.129883Z"
    }
   },
   "outputs": [],
   "source": [
    "model.add(keras.layers.Conv2D(64, kernel_size=3, activation='relu', padding='same'))\n",
    "model.add(keras.layers.MaxPooling2D(2))"
   ]
  },
  {
   "cell_type": "code",
   "execution_count": 27,
   "id": "11df0c84",
   "metadata": {
    "ExecuteTime": {
     "end_time": "2022-07-22T05:15:11.301423Z",
     "start_time": "2022-07-22T05:15:11.265520Z"
    }
   },
   "outputs": [],
   "source": [
    "model.add(keras.layers.Flatten())\n",
    "model.add(keras.layers.Dense(100, activation='relu'))\n",
    "model.add(keras.layers.Dropout(0.4))\n",
    "model.add(keras.layers.Dense(10, activation='softmax'))"
   ]
  },
  {
   "cell_type": "code",
   "execution_count": 28,
   "id": "caefb9d5",
   "metadata": {
    "ExecuteTime": {
     "end_time": "2022-07-22T05:15:11.418112Z",
     "start_time": "2022-07-22T05:15:11.400161Z"
    },
    "scrolled": true
   },
   "outputs": [
    {
     "name": "stdout",
     "output_type": "stream",
     "text": [
      "Model: \"sequential_2\"\n",
      "_________________________________________________________________\n",
      " Layer (type)                Output Shape              Param #   \n",
      "=================================================================\n",
      " conv2d_4 (Conv2D)           (None, 28, 28, 32)        320       \n",
      "                                                                 \n",
      " max_pooling2d_4 (MaxPooling  (None, 14, 14, 32)       0         \n",
      " 2D)                                                             \n",
      "                                                                 \n",
      " conv2d_5 (Conv2D)           (None, 14, 14, 64)        18496     \n",
      "                                                                 \n",
      " max_pooling2d_5 (MaxPooling  (None, 7, 7, 64)         0         \n",
      " 2D)                                                             \n",
      "                                                                 \n",
      " flatten_2 (Flatten)         (None, 3136)              0         \n",
      "                                                                 \n",
      " dense_4 (Dense)             (None, 100)               313700    \n",
      "                                                                 \n",
      " dropout_2 (Dropout)         (None, 100)               0         \n",
      "                                                                 \n",
      " dense_5 (Dense)             (None, 10)                1010      \n",
      "                                                                 \n",
      "=================================================================\n",
      "Total params: 333,526\n",
      "Trainable params: 333,526\n",
      "Non-trainable params: 0\n",
      "_________________________________________________________________\n"
     ]
    }
   ],
   "source": [
    "model.summary()"
   ]
  },
  {
   "cell_type": "markdown",
   "id": "85aac150",
   "metadata": {},
   "source": [
    "# 모델 컴파일과 훈련"
   ]
  },
  {
   "cell_type": "code",
   "execution_count": 33,
   "id": "1398925d",
   "metadata": {
    "ExecuteTime": {
     "end_time": "2022-07-22T05:19:53.133083Z",
     "start_time": "2022-07-22T05:15:44.535589Z"
    }
   },
   "outputs": [
    {
     "name": "stdout",
     "output_type": "stream",
     "text": [
      "Epoch 1/20\n",
      "1500/1500 [==============================] - 26s 17ms/step - loss: 0.5493 - accuracy: 0.8031 - val_loss: 0.3471 - val_accuracy: 0.8748\n",
      "Epoch 2/20\n",
      "1500/1500 [==============================] - 25s 16ms/step - loss: 0.3614 - accuracy: 0.8725 - val_loss: 0.3007 - val_accuracy: 0.8863\n",
      "Epoch 3/20\n",
      "1500/1500 [==============================] - 25s 16ms/step - loss: 0.3089 - accuracy: 0.8894 - val_loss: 0.2649 - val_accuracy: 0.8982\n",
      "Epoch 4/20\n",
      "1500/1500 [==============================] - 25s 17ms/step - loss: 0.2726 - accuracy: 0.9021 - val_loss: 0.2380 - val_accuracy: 0.9123\n",
      "Epoch 5/20\n",
      "1500/1500 [==============================] - 25s 17ms/step - loss: 0.2455 - accuracy: 0.9107 - val_loss: 0.2333 - val_accuracy: 0.9115\n",
      "Epoch 6/20\n",
      "1500/1500 [==============================] - 25s 16ms/step - loss: 0.2283 - accuracy: 0.9164 - val_loss: 0.2280 - val_accuracy: 0.9149\n",
      "Epoch 7/20\n",
      "1500/1500 [==============================] - 25s 16ms/step - loss: 0.2078 - accuracy: 0.9245 - val_loss: 0.2305 - val_accuracy: 0.9152\n",
      "Epoch 8/20\n",
      "1500/1500 [==============================] - 25s 16ms/step - loss: 0.1934 - accuracy: 0.9274 - val_loss: 0.2225 - val_accuracy: 0.9197\n",
      "Epoch 9/20\n",
      "1500/1500 [==============================] - 25s 17ms/step - loss: 0.1816 - accuracy: 0.9318 - val_loss: 0.2456 - val_accuracy: 0.9110\n",
      "Epoch 10/20\n",
      "1500/1500 [==============================] - 25s 17ms/step - loss: 0.1698 - accuracy: 0.9366 - val_loss: 0.2390 - val_accuracy: 0.9176\n"
     ]
    }
   ],
   "source": [
    "model.compile(optimizer='adam', loss='sparse_categorical_crossentropy', metrics='accuracy')\n",
    "checkpoint_cb = keras.callbacks.ModelCheckpoint('best-cnn-model.h5')\n",
    "early_stopping_cb = keras.callbacks.EarlyStopping(patience=2, restore_best_weights=True)\n",
    "history = model.fit(train_scale, train_target, epochs=20, validation_data=(val_scale, val_target), callbacks=[checkpoint_cb, early_stopping_cb])"
   ]
  },
  {
   "cell_type": "code",
   "execution_count": 34,
   "id": "7c227d29",
   "metadata": {
    "ExecuteTime": {
     "end_time": "2022-07-22T05:30:30.412622Z",
     "start_time": "2022-07-22T05:30:29.131049Z"
    }
   },
   "outputs": [
    {
     "data": {
      "image/png": "[encoded data removed]",
      "text/plain": [
       "<Figure size 432x288 with 1 Axes>"
      ]
     },
     "metadata": {
      "needs_background": "light"
     },
     "output_type": "display_data"
    }
   ],
   "source": [
    "import matplotlib.pyplot as plt\n",
    "plt.plot(history.history['loss'])\n",
    "plt.plot(history.history['val_loss'])\n",
    "plt.xlabel('epoch')\n",
    "plt.ylabel('loss')\n",
    "plt.legend(['train', 'val'])\n",
    "plt.show()"
   ]
  },
  {
   "cell_type": "code",
   "execution_count": 35,
   "id": "235cb022",
   "metadata": {
    "ExecuteTime": {
     "end_time": "2022-07-22T05:31:01.490551Z",
     "start_time": "2022-07-22T05:30:59.686374Z"
    }
   },
   "outputs": [
    {
     "name": "stdout",
     "output_type": "stream",
     "text": [
      "375/375 [==============================] - 2s 5ms/step - loss: 0.2225 - accuracy: 0.9197\n"
     ]
    },
    {
     "data": {
      "text/plain": [
       "[0.22248832881450653, 0.9196666479110718]"
      ]
     },
     "execution_count": 35,
     "metadata": {},
     "output_type": "execute_result"
    }
   ],
   "source": [
    "model.evaluate(val_scale, val_target)"
   ]
  },
  {
   "cell_type": "code",
   "execution_count": 36,
   "id": "be206fa0",
   "metadata": {
    "ExecuteTime": {
     "end_time": "2022-07-22T05:32:00.146762Z",
     "start_time": "2022-07-22T05:32:00.049023Z"
    }
   },
   "outputs": [
    {
     "data": {
      "image/png": "[encoded data removed]",
      "text/plain": [
       "<Figure size 432x288 with 1 Axes>"
      ]
     },
     "metadata": {
      "needs_background": "light"
     },
     "output_type": "display_data"
    }
   ],
   "source": [
    "plt.imshow(val_scale[0].reshape(28, 28), cmap='gray_r')\n",
    "plt.show()"
   ]
  },
  {
   "cell_type": "code",
   "execution_count": 37,
   "id": "cc36399b",
   "metadata": {
    "ExecuteTime": {
     "end_time": "2022-07-22T05:32:37.681431Z",
     "start_time": "2022-07-22T05:32:37.546791Z"
    }
   },
   "outputs": [
    {
     "name": "stdout",
     "output_type": "stream",
     "text": [
      "1/1 [==============================] - 0s 92ms/step\n",
      "[[2.1652156e-19 6.6396030e-28 1.3342088e-21 3.2198512e-21 3.4374819e-19\n",
      "  1.0558181e-18 7.7616845e-20 9.6889071e-21 1.0000000e+00 2.1809659e-19]]\n"
     ]
    }
   ],
   "source": [
    "preds = model.predict(val_scale[0:1])\n",
    "print(preds)"
   ]
  },
  {
   "cell_type": "code",
   "execution_count": 40,
   "id": "03fd8fea",
   "metadata": {
    "ExecuteTime": {
     "end_time": "2022-07-22T05:34:47.611126Z",
     "start_time": "2022-07-22T05:34:47.506406Z"
    }
   },
   "outputs": [
    {
     "data": {
      "image/png": "[encoded data removed]",
      "text/plain": [
       "<Figure size 432x288 with 1 Axes>"
      ]
     },
     "metadata": {
      "needs_background": "light"
     },
     "output_type": "display_data"
    }
   ],
   "source": [
    "plt.bar(range(1, 11), preds[0])\n",
    "plt.xlabel('class')\n",
    "plt.ylabel('prob')\n",
    "plt.show()"
   ]
  },
  {
   "cell_type": "code",
   "execution_count": 1,
   "id": "cd72061e",
   "metadata": {
    "ExecuteTime": {
     "end_time": "2022-09-21T01:31:39.463260Z",
     "start_time": "2022-09-21T01:31:39.441264Z"
    }
   },
   "outputs": [],
   "source": [
    "classes = ['티셔츠', '바지', '스웨터', '드레스', '코트', '샌달', '셔츠', '스니커즈', '가방', '앵클 부츠']"
   ]
  },
  {
   "cell_type": "code",
   "execution_count": 2,
   "id": "bfcbecf5",
   "metadata": {
    "ExecuteTime": {
     "end_time": "2022-09-21T01:31:42.643850Z",
     "start_time": "2022-09-21T01:31:42.623851Z"
    }
   },
   "outputs": [
    {
     "data": {
      "text/plain": [
       "['티셔츠', '바지', '스웨터', '드레스', '코트', '샌달', '셔츠', '스니커즈', '가방', '앵클 부츠']"
      ]
     },
     "execution_count": 2,
     "metadata": {},
     "output_type": "execute_result"
    }
   ],
   "source": [
    "classes"
   ]
  },
  {
   "cell_type": "code",
   "execution_count": 44,
   "id": "80480314",
   "metadata": {
    "ExecuteTime": {
     "end_time": "2022-07-22T05:36:16.986225Z",
     "start_time": "2022-07-22T05:36:16.982236Z"
    }
   },
   "outputs": [
    {
     "name": "stdout",
     "output_type": "stream",
     "text": [
      "가방\n"
     ]
    }
   ],
   "source": [
    "import numpy as np\n",
    "print(classes[np.argmax(preds)])"
   ]
  },
  {
   "cell_type": "code",
   "execution_count": 45,
   "id": "ddcaa7d7",
   "metadata": {
    "ExecuteTime": {
     "end_time": "2022-07-22T05:37:19.179979Z",
     "start_time": "2022-07-22T05:37:19.142082Z"
    }
   },
   "outputs": [],
   "source": [
    "test_scaled = test_input.reshape(-1, 28, 28, 1) / 255.0"
   ]
  },
  {
   "cell_type": "code",
   "execution_count": 46,
   "id": "21374021",
   "metadata": {
    "ExecuteTime": {
     "end_time": "2022-07-22T05:37:36.326148Z",
     "start_time": "2022-07-22T05:37:34.577821Z"
    }
   },
   "outputs": [
    {
     "name": "stdout",
     "output_type": "stream",
     "text": [
      "313/313 [==============================] - 2s 5ms/step - loss: 0.2429 - accuracy: 0.9156\n"
     ]
    },
    {
     "data": {
      "text/plain": [
       "[0.24285683035850525, 0.9156000018119812]"
      ]
     },
     "execution_count": 46,
     "metadata": {},
     "output_type": "execute_result"
    }
   ],
   "source": [
    "model.evaluate(test_scaled, test_target)"
   ]
  }
 ],
 "metadata": {
  "kernelspec": {
   "display_name": "Python 3 (ipykernel)",
   "language": "python",
   "name": "python3"
  },
  "language_info": {
   "codemirror_mode": {
    "name": "ipython",
    "version": 3
   },
   "file_extension": ".py",
   "mimetype": "text/x-python",
   "name": "python",
   "nbconvert_exporter": "python",
   "pygments_lexer": "ipython3",
   "version": "3.9.12"
  },
  "toc": {
   "base_numbering": 1,
   "nav_menu": {},
   "number_sections": false,
   "sideBar": true,
   "skip_h1_title": false,
   "title_cell": "Table of Contents",
   "title_sidebar": "Contents",
   "toc_cell": false,
   "toc_position": {
    "height": "calc(100% - 180px)",
    "left": "10px",
    "top": "150px",
    "width": "313px"
   },
   "toc_section_display": true,
   "toc_window_display": false
  }
 },
 "nbformat": 4,
 "nbformat_minor": 5
}
