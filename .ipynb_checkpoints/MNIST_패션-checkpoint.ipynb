{
 "cells": [
  {
   "cell_type": "code",
   "execution_count": 1,
   "id": "4fb8a1c2",
   "metadata": {
    "ExecuteTime": {
     "end_time": "2022-06-27T06:27:01.992090Z",
     "start_time": "2022-06-27T06:26:57.352019Z"
    }
   },
   "outputs": [],
   "source": [
    "from tensorflow import keras"
   ]
  },
  {
   "cell_type": "markdown",
   "id": "2fbfc519",
   "metadata": {},
   "source": [
    "# Fashion 데이터 불러오기"
   ]
  },
  {
   "cell_type": "code",
   "execution_count": 2,
   "id": "a4644406",
   "metadata": {
    "ExecuteTime": {
     "end_time": "2022-06-27T06:27:02.400612Z",
     "start_time": "2022-06-27T06:27:01.992090Z"
    }
   },
   "outputs": [],
   "source": [
    "(train_input, train_target), (test_input, test_target) = keras.datasets.fashion_mnist.load_data()"
   ]
  },
  {
   "cell_type": "markdown",
   "id": "f916773c",
   "metadata": {},
   "source": [
    "## training set\n",
    "### 60000장의 이미지, 이미지 크기(28 X 28), 타겟 : 60000장"
   ]
  },
  {
   "cell_type": "code",
   "execution_count": 3,
   "id": "254af969",
   "metadata": {
    "ExecuteTime": {
     "end_time": "2022-06-27T06:27:02.406597Z",
     "start_time": "2022-06-27T06:27:02.401609Z"
    }
   },
   "outputs": [
    {
     "name": "stdout",
     "output_type": "stream",
     "text": [
      "(60000, 28, 28) (60000,)\n"
     ]
    }
   ],
   "source": [
    "print(train_input.shape, train_target.shape)"
   ]
  },
  {
   "cell_type": "markdown",
   "id": "ffbbedc1",
   "metadata": {},
   "source": [
    "## test set\n",
    "### 60000장의 이미지, 이미지 크기(28 X 28), 타겟 : 60000장"
   ]
  },
  {
   "cell_type": "code",
   "execution_count": 4,
   "id": "80a421de",
   "metadata": {
    "ExecuteTime": {
     "end_time": "2022-06-27T06:27:02.418564Z",
     "start_time": "2022-06-27T06:27:02.408591Z"
    }
   },
   "outputs": [
    {
     "name": "stdout",
     "output_type": "stream",
     "text": [
      "(10000, 28, 28) (10000,)\n"
     ]
    }
   ],
   "source": [
    "print(test_input.shape, test_target.shape)"
   ]
  },
  {
   "cell_type": "markdown",
   "id": "401ae6d2",
   "metadata": {},
   "source": [
    "# 이미지 확인"
   ]
  },
  {
   "cell_type": "code",
   "execution_count": 5,
   "id": "7188221a",
   "metadata": {
    "ExecuteTime": {
     "end_time": "2022-06-27T06:27:03.624605Z",
     "start_time": "2022-06-27T06:27:02.420560Z"
    }
   },
   "outputs": [
    {
     "data": {
      "image/png": "[encoded data removed]",
      "text/plain": [
       "<Figure size 720x720 with 10 Axes>"
      ]
     },
     "metadata": {
      "needs_background": "light"
     },
     "output_type": "display_data"
    }
   ],
   "source": [
    "import matplotlib.pyplot as plt\n",
    "fig, ax = plt.subplots(1, 10, figsize=(10, 10))\n",
    "for i in range(10):\n",
    "    ax[i].imshow(train_input[i], cmap='gray_r')\n",
    "    ax[i].axis('off')\n",
    "plt.show()"
   ]
  },
  {
   "cell_type": "markdown",
   "id": "472191ac",
   "metadata": {},
   "source": [
    "## target 값 확인 (0~9의 값으로 구성됨)"
   ]
  },
  {
   "cell_type": "code",
   "execution_count": 6,
   "id": "fdc47ccf",
   "metadata": {
    "ExecuteTime": {
     "end_time": "2022-06-27T06:27:03.632584Z",
     "start_time": "2022-06-27T06:27:03.626600Z"
    }
   },
   "outputs": [
    {
     "name": "stdout",
     "output_type": "stream",
     "text": [
      "[9, 0, 0, 3, 0, 2, 7, 2, 5, 5]\n"
     ]
    }
   ],
   "source": [
    "print([train_target[i] for i in range(10)])"
   ]
  },
  {
   "cell_type": "markdown",
   "id": "7c847671",
   "metadata": {},
   "source": [
    "# 레이블당 sample 개수 확인"
   ]
  },
  {
   "cell_type": "code",
   "execution_count": 7,
   "id": "1d9bb735",
   "metadata": {
    "ExecuteTime": {
     "end_time": "2022-06-27T06:27:03.641559Z",
     "start_time": "2022-06-27T06:27:03.634578Z"
    }
   },
   "outputs": [],
   "source": [
    "import numpy as np"
   ]
  },
  {
   "cell_type": "code",
   "execution_count": 8,
   "id": "2ed1642b",
   "metadata": {
    "ExecuteTime": {
     "end_time": "2022-06-27T06:27:03.659512Z",
     "start_time": "2022-06-27T06:27:03.646547Z"
    }
   },
   "outputs": [
    {
     "name": "stdout",
     "output_type": "stream",
     "text": [
      "(array([0, 1, 2, 3, 4, 5, 6, 7, 8, 9], dtype=uint8), array([6000, 6000, 6000, 6000, 6000, 6000, 6000, 6000, 6000, 6000],\n",
      "      dtype=int64))\n"
     ]
    }
   ],
   "source": [
    "print(np.unique(train_target, return_counts=True))"
   ]
  },
  {
   "cell_type": "markdown",
   "id": "bbda4706",
   "metadata": {},
   "source": [
    "# 데이터 정규화\n",
    "## 픽셀 당 0~255 값을 가진 데이터를 정규화 하기 위해 각각 255로 나눔\n",
    "## 1차원 벡터로 변환"
   ]
  },
  {
   "cell_type": "code",
   "execution_count": 9,
   "id": "0f7e70eb",
   "metadata": {
    "ExecuteTime": {
     "end_time": "2022-06-27T06:27:03.869948Z",
     "start_time": "2022-06-27T06:27:03.662504Z"
    }
   },
   "outputs": [],
   "source": [
    "train_scaled = train_input / 255.0\n",
    "train_scaled = train_scaled.reshape(-1, 28*28)"
   ]
  },
  {
   "cell_type": "markdown",
   "id": "68a64a0c",
   "metadata": {},
   "source": [
    "### (60000, 28, 28) 에서 (60000, 784)로 변환됨 -> 2차원 벡터가 한줄로 쭉 재배열"
   ]
  },
  {
   "cell_type": "code",
   "execution_count": 10,
   "id": "6f98f982",
   "metadata": {
    "ExecuteTime": {
     "end_time": "2022-06-27T06:27:03.877927Z",
     "start_time": "2022-06-27T06:27:03.872941Z"
    }
   },
   "outputs": [
    {
     "name": "stdout",
     "output_type": "stream",
     "text": [
      "(60000, 784)\n"
     ]
    }
   ],
   "source": [
    "print(train_scaled.shape)"
   ]
  },
  {
   "cell_type": "markdown",
   "id": "15b68a40",
   "metadata": {},
   "source": [
    "# 교차 검증 (CV, Cross Validation)"
   ]
  },
  {
   "cell_type": "code",
   "execution_count": 11,
   "id": "4bb2bf9a",
   "metadata": {
    "ExecuteTime": {
     "end_time": "2022-06-27T06:27:20.121341Z",
     "start_time": "2022-06-27T06:27:03.879922Z"
    }
   },
   "outputs": [
    {
     "name": "stdout",
     "output_type": "stream",
     "text": [
      "성능 : 81.93%\n"
     ]
    }
   ],
   "source": [
    "from sklearn.model_selection import cross_validate\n",
    "from sklearn.linear_model import SGDClassifier # 확률적 경사 하강법\n",
    "sc = SGDClassifier(loss='log', max_iter=5, random_state=42)\n",
    "scores = cross_validate(sc, train_scaled, train_target, n_jobs=-1)\n",
    "print('성능 : {:.2f}%'.format(np.mean(scores['test_score']*100)))"
   ]
  },
  {
   "cell_type": "markdown",
   "id": "8f900249",
   "metadata": {},
   "source": [
    "# 딥러닝"
   ]
  },
  {
   "cell_type": "code",
   "execution_count": 12,
   "id": "98caa13e",
   "metadata": {
    "ExecuteTime": {
     "end_time": "2022-06-27T06:27:20.126512Z",
     "start_time": "2022-06-27T06:27:20.122522Z"
    }
   },
   "outputs": [],
   "source": [
    "import tensorflow as tf\n",
    "from sklearn.model_selection import train_test_split"
   ]
  },
  {
   "cell_type": "code",
   "execution_count": 13,
   "id": "916a9c2e",
   "metadata": {
    "ExecuteTime": {
     "end_time": "2022-06-27T06:27:20.391249Z",
     "start_time": "2022-06-27T06:27:20.127513Z"
    }
   },
   "outputs": [],
   "source": [
    "train_scaled, val_scaled, train_target, val_target = train_test_split(train_scaled, train_target, test_size=0.2, random_state=42)"
   ]
  },
  {
   "cell_type": "code",
   "execution_count": 14,
   "id": "63ab891a",
   "metadata": {
    "ExecuteTime": {
     "end_time": "2022-06-27T06:27:20.397233Z",
     "start_time": "2022-06-27T06:27:20.392246Z"
    }
   },
   "outputs": [
    {
     "name": "stdout",
     "output_type": "stream",
     "text": [
      "(48000, 784) (48000,)\n"
     ]
    }
   ],
   "source": [
    "print(train_scaled.shape, train_target.shape)"
   ]
  },
  {
   "cell_type": "code",
   "execution_count": 15,
   "id": "f51cc3f0",
   "metadata": {
    "ExecuteTime": {
     "end_time": "2022-06-27T06:27:20.405212Z",
     "start_time": "2022-06-27T06:27:20.400226Z"
    }
   },
   "outputs": [
    {
     "name": "stdout",
     "output_type": "stream",
     "text": [
      "(12000, 784) (12000,)\n"
     ]
    }
   ],
   "source": [
    "print(val_scaled.shape, val_target.shape)"
   ]
  },
  {
   "cell_type": "markdown",
   "id": "06354e8d",
   "metadata": {},
   "source": [
    "# 층 만들기\n",
    "## 뉴런갯수 : 10 / softmax함수 / 입력 크기 : 784\n",
    "## 패션 아이템이 10여서 / 다중분류는 softmax 사용 (이진 분류는 sigmoid) / 픽셀값 : 784개"
   ]
  },
  {
   "cell_type": "code",
   "execution_count": 16,
   "id": "eba161e5",
   "metadata": {
    "ExecuteTime": {
     "end_time": "2022-06-27T06:27:20.420172Z",
     "start_time": "2022-06-27T06:27:20.407208Z"
    }
   },
   "outputs": [],
   "source": [
    "dense = keras.layers.Dense(10, activation='softmax', input_shape=(784,))"
   ]
  },
  {
   "cell_type": "markdown",
   "id": "8900efb3",
   "metadata": {},
   "source": [
    "# 신경망 모델 만들기"
   ]
  },
  {
   "cell_type": "code",
   "execution_count": 17,
   "id": "11612a52",
   "metadata": {
    "ExecuteTime": {
     "end_time": "2022-06-27T06:27:20.556806Z",
     "start_time": "2022-06-27T06:27:20.422168Z"
    }
   },
   "outputs": [],
   "source": [
    "model = keras.Sequential(dense)"
   ]
  },
  {
   "cell_type": "markdown",
   "id": "b0261774",
   "metadata": {},
   "source": [
    "# 모델 컴파일 : 모델을 훈련하기 전에 사용할 손실함수와 성능지표를 지정하는 함수\n",
    "## 손실 함수 \n",
    "### 다중분류 : categorical_crossentropy / 이진분류 : binary_crossentropy"
   ]
  },
  {
   "cell_type": "code",
   "execution_count": 18,
   "id": "8b0e3e79",
   "metadata": {
    "ExecuteTime": {
     "end_time": "2022-06-27T06:27:20.570769Z",
     "start_time": "2022-06-27T06:27:20.557804Z"
    }
   },
   "outputs": [],
   "source": [
    "model.compile(loss='sparse_categorical_crossentropy', metrics='accuracy')"
   ]
  },
  {
   "cell_type": "markdown",
   "id": "750aac92",
   "metadata": {},
   "source": [
    "# 모델 학습"
   ]
  },
  {
   "cell_type": "code",
   "execution_count": 19,
   "id": "f0f5c127",
   "metadata": {
    "ExecuteTime": {
     "end_time": "2022-06-27T06:27:34.833533Z",
     "start_time": "2022-06-27T06:27:20.571767Z"
    },
    "scrolled": true
   },
   "outputs": [
    {
     "name": "stdout",
     "output_type": "stream",
     "text": [
      "Epoch 1/10\n",
      "1500/1500 [==============================] - 2s 920us/step - loss: 0.6101 - accuracy: 0.7937\n",
      "Epoch 2/10\n",
      "1500/1500 [==============================] - 1s 874us/step - loss: 0.4781 - accuracy: 0.8394\n",
      "Epoch 3/10\n",
      "1500/1500 [==============================] - 1s 844us/step - loss: 0.4562 - accuracy: 0.8474\n",
      "Epoch 4/10\n",
      "1500/1500 [==============================] - 1s 847us/step - loss: 0.4437 - accuracy: 0.8525\n",
      "Epoch 5/10\n",
      "1500/1500 [==============================] - 1s 906us/step - loss: 0.4369 - accuracy: 0.8550\n",
      "Epoch 6/10\n",
      "1500/1500 [==============================] - 1s 919us/step - loss: 0.4318 - accuracy: 0.8570\n",
      "Epoch 7/10\n",
      "1500/1500 [==============================] - 1s 889us/step - loss: 0.4282 - accuracy: 0.8581\n",
      "Epoch 8/10\n",
      "1500/1500 [==============================] - 1s 951us/step - loss: 0.4244 - accuracy: 0.8586\n",
      "Epoch 9/10\n",
      "1500/1500 [==============================] - 2s 1ms/step - loss: 0.4229 - accuracy: 0.8606\n",
      "Epoch 10/10\n",
      "1500/1500 [==============================] - 1s 963us/step - loss: 0.4199 - accuracy: 0.8620\n"
     ]
    },
    {
     "data": {
      "text/plain": [
       "<keras.callbacks.History at 0x2dcdf7baf10>"
      ]
     },
     "execution_count": 19,
     "metadata": {},
     "output_type": "execute_result"
    }
   ],
   "source": [
    "model.fit(train_scaled, train_target, epochs=10)"
   ]
  },
  {
   "cell_type": "markdown",
   "id": "ac92bf92",
   "metadata": {},
   "source": [
    "# 성능측정\n",
    "## evaluate : 성능측정 메서드"
   ]
  },
  {
   "cell_type": "code",
   "execution_count": 20,
   "id": "9d29d9b6",
   "metadata": {
    "ExecuteTime": {
     "end_time": "2022-06-27T06:27:35.728216Z",
     "start_time": "2022-06-27T06:27:34.835529Z"
    }
   },
   "outputs": [
    {
     "name": "stdout",
     "output_type": "stream",
     "text": [
      "375/375 [==============================] - 1s 2ms/step - loss: 0.4456 - accuracy: 0.8541\n"
     ]
    },
    {
     "data": {
      "text/plain": [
       "[0.4455723464488983, 0.8540833592414856]"
      ]
     },
     "execution_count": 20,
     "metadata": {},
     "output_type": "execute_result"
    }
   ],
   "source": [
    "model.evaluate(val_scaled, val_target)"
   ]
  },
  {
   "cell_type": "markdown",
   "id": "579c6fef",
   "metadata": {},
   "source": [
    "# 심층신경망\n",
    "## 심층 신경망 만들기"
   ]
  },
  {
   "cell_type": "code",
   "execution_count": 21,
   "id": "6c2a8294",
   "metadata": {
    "ExecuteTime": {
     "end_time": "2022-06-27T06:27:35.740718Z",
     "start_time": "2022-06-27T06:27:35.729750Z"
    }
   },
   "outputs": [],
   "source": [
    "dense1 = keras.layers.Dense(100, activation='sigmoid', input_shape=(784,))\n",
    "dense2 = keras.layers.Dense(10, activation='softmax')"
   ]
  },
  {
   "cell_type": "code",
   "execution_count": 22,
   "id": "38b07156",
   "metadata": {
    "ExecuteTime": {
     "end_time": "2022-06-27T06:27:35.789587Z",
     "start_time": "2022-06-27T06:27:35.742712Z"
    }
   },
   "outputs": [],
   "source": [
    "model_DNN = keras.Sequential([dense1, dense2])"
   ]
  },
  {
   "cell_type": "markdown",
   "id": "e1daed83",
   "metadata": {},
   "source": [
    "# DNN 모델 정보 보기"
   ]
  },
  {
   "cell_type": "code",
   "execution_count": 23,
   "id": "33338f8c",
   "metadata": {
    "ExecuteTime": {
     "end_time": "2022-06-27T06:27:35.814522Z",
     "start_time": "2022-06-27T06:27:35.792579Z"
    }
   },
   "outputs": [
    {
     "name": "stdout",
     "output_type": "stream",
     "text": [
      "Model: \"sequential_1\"\n",
      "_________________________________________________________________\n",
      " Layer (type)                Output Shape              Param #   \n",
      "=================================================================\n",
      " dense_1 (Dense)             (None, 100)               78500     \n",
      "                                                                 \n",
      " dense_2 (Dense)             (None, 10)                1010      \n",
      "                                                                 \n",
      "=================================================================\n",
      "Total params: 79,510\n",
      "Trainable params: 79,510\n",
      "Non-trainable params: 0\n",
      "_________________________________________________________________\n"
     ]
    }
   ],
   "source": [
    "model_DNN.summary()"
   ]
  },
  {
   "cell_type": "markdown",
   "id": "be35fd03",
   "metadata": {},
   "source": [
    "# 층을 추가하는 다른 방법"
   ]
  },
  {
   "cell_type": "code",
   "execution_count": 24,
   "id": "134610ce",
   "metadata": {
    "ExecuteTime": {
     "end_time": "2022-06-27T06:27:35.874369Z",
     "start_time": "2022-06-27T06:27:35.818510Z"
    }
   },
   "outputs": [],
   "source": [
    "model_DNN2 = keras.Sequential([\n",
    "    keras.layers.Dense(100, activation='sigmoid', input_shape=(784,), name='hidden'),\n",
    "    keras.layers.Dense(10, activation='softmax', name='output')\n",
    "], name = '패션 MNIST 모델')"
   ]
  },
  {
   "cell_type": "code",
   "execution_count": 25,
   "id": "70a19ed5",
   "metadata": {
    "ExecuteTime": {
     "end_time": "2022-06-27T06:27:35.917246Z",
     "start_time": "2022-06-27T06:27:35.893310Z"
    }
   },
   "outputs": [
    {
     "name": "stdout",
     "output_type": "stream",
     "text": [
      "Model: \"패션 MNIST 모델\"\n",
      "_________________________________________________________________\n",
      " Layer (type)                Output Shape              Param #   \n",
      "=================================================================\n",
      " hidden (Dense)              (None, 100)               78500     \n",
      "                                                                 \n",
      " output (Dense)              (None, 10)                1010      \n",
      "                                                                 \n",
      "=================================================================\n",
      "Total params: 79,510\n",
      "Trainable params: 79,510\n",
      "Non-trainable params: 0\n",
      "_________________________________________________________________\n"
     ]
    }
   ],
   "source": [
    "model_DNN2.summary()"
   ]
  },
  {
   "cell_type": "markdown",
   "id": "73d821f2",
   "metadata": {},
   "source": [
    "# 층을 추가하는 다른 방법2"
   ]
  },
  {
   "cell_type": "code",
   "execution_count": 26,
   "id": "4dbf2333",
   "metadata": {
    "ExecuteTime": {
     "end_time": "2022-06-27T06:27:36.147139Z",
     "start_time": "2022-06-27T06:27:35.919240Z"
    }
   },
   "outputs": [],
   "source": [
    "model_DNN3 = keras.Sequential()\n",
    "model_DNN3.add(keras.layers.Dense(100, activation='sigmoid', input_shape=(784,)))\n",
    "model_DNN3.add(keras.layers.Dense(10, activation='softmax'))"
   ]
  },
  {
   "cell_type": "code",
   "execution_count": 27,
   "id": "6d7672b7",
   "metadata": {
    "ExecuteTime": {
     "end_time": "2022-06-27T06:27:36.161103Z",
     "start_time": "2022-06-27T06:27:36.150133Z"
    }
   },
   "outputs": [
    {
     "name": "stdout",
     "output_type": "stream",
     "text": [
      "Model: \"sequential_2\"\n",
      "_________________________________________________________________\n",
      " Layer (type)                Output Shape              Param #   \n",
      "=================================================================\n",
      " dense_3 (Dense)             (None, 100)               78500     \n",
      "                                                                 \n",
      " dense_4 (Dense)             (None, 10)                1010      \n",
      "                                                                 \n",
      "=================================================================\n",
      "Total params: 79,510\n",
      "Trainable params: 79,510\n",
      "Non-trainable params: 0\n",
      "_________________________________________________________________\n"
     ]
    }
   ],
   "source": [
    "model_DNN3.summary()"
   ]
  },
  {
   "cell_type": "markdown",
   "id": "1fa074c7",
   "metadata": {},
   "source": [
    "# 모델 컴파일"
   ]
  },
  {
   "cell_type": "code",
   "execution_count": 28,
   "id": "af42b81c",
   "metadata": {
    "ExecuteTime": {
     "end_time": "2022-06-27T06:27:48.466559Z",
     "start_time": "2022-06-27T06:27:36.166108Z"
    }
   },
   "outputs": [
    {
     "name": "stdout",
     "output_type": "stream",
     "text": [
      "Epoch 1/5\n",
      "1500/1500 [==============================] - 3s 2ms/step - loss: 0.5631 - accuracy: 0.8080\n",
      "Epoch 2/5\n",
      "1500/1500 [==============================] - 2s 2ms/step - loss: 0.4059 - accuracy: 0.8541\n",
      "Epoch 3/5\n",
      "1500/1500 [==============================] - 2s 1ms/step - loss: 0.3711 - accuracy: 0.8647\n",
      "Epoch 4/5\n",
      "1500/1500 [==============================] - 2s 2ms/step - loss: 0.3494 - accuracy: 0.8744\n",
      "Epoch 5/5\n",
      "1500/1500 [==============================] - 2s 1ms/step - loss: 0.3337 - accuracy: 0.8791\n"
     ]
    },
    {
     "data": {
      "text/plain": [
       "<keras.callbacks.History at 0x2dceeaa5280>"
      ]
     },
     "execution_count": 28,
     "metadata": {},
     "output_type": "execute_result"
    }
   ],
   "source": [
    "model_DNN3.compile(loss='sparse_categorical_crossentropy', metrics='accuracy')\n",
    "model_DNN3.fit(train_scaled, train_target, epochs=5)"
   ]
  },
  {
   "cell_type": "markdown",
   "id": "7092cbb6",
   "metadata": {},
   "source": [
    "# 성능 측정"
   ]
  },
  {
   "cell_type": "code",
   "execution_count": 29,
   "id": "9e12bc86",
   "metadata": {
    "ExecuteTime": {
     "end_time": "2022-06-27T06:27:49.022945Z",
     "start_time": "2022-06-27T06:27:48.467556Z"
    }
   },
   "outputs": [
    {
     "name": "stdout",
     "output_type": "stream",
     "text": [
      "375/375 [==============================] - 0s 968us/step - loss: 0.3595 - accuracy: 0.8675\n"
     ]
    },
    {
     "data": {
      "text/plain": [
       "[0.35947734117507935, 0.8675000071525574]"
      ]
     },
     "execution_count": 29,
     "metadata": {},
     "output_type": "execute_result"
    }
   ],
   "source": [
    "model_DNN3.evaluate(val_scaled, val_target)"
   ]
  },
  {
   "cell_type": "markdown",
   "id": "cdb1f67b",
   "metadata": {},
   "source": [
    "# 1차원 벡터 변환 reshape 대신 Flatten  & relu 함수 사용하기"
   ]
  },
  {
   "cell_type": "code",
   "execution_count": 30,
   "id": "35bab9ee",
   "metadata": {
    "ExecuteTime": {
     "end_time": "2022-06-27T06:27:49.057851Z",
     "start_time": "2022-06-27T06:27:49.023942Z"
    }
   },
   "outputs": [],
   "source": [
    "model_DNN4 = keras.Sequential()\n",
    "model_DNN4.add(keras.layers.Flatten(input_shape=(28, 28)))\n",
    "model_DNN4.add(keras.layers.Dense(100, activation='relu'))\n",
    "model_DNN4.add(keras.layers.Dense(10, activation='softmax'))"
   ]
  },
  {
   "cell_type": "code",
   "execution_count": 31,
   "id": "f945e85d",
   "metadata": {
    "ExecuteTime": {
     "end_time": "2022-06-27T06:27:49.072812Z",
     "start_time": "2022-06-27T06:27:49.058848Z"
    }
   },
   "outputs": [
    {
     "name": "stdout",
     "output_type": "stream",
     "text": [
      "Model: \"sequential_3\"\n",
      "_________________________________________________________________\n",
      " Layer (type)                Output Shape              Param #   \n",
      "=================================================================\n",
      " flatten (Flatten)           (None, 784)               0         \n",
      "                                                                 \n",
      " dense_5 (Dense)             (None, 100)               78500     \n",
      "                                                                 \n",
      " dense_6 (Dense)             (None, 10)                1010      \n",
      "                                                                 \n",
      "=================================================================\n",
      "Total params: 79,510\n",
      "Trainable params: 79,510\n",
      "Non-trainable params: 0\n",
      "_________________________________________________________________\n"
     ]
    }
   ],
   "source": [
    "model_DNN4.summary()"
   ]
  },
  {
   "cell_type": "markdown",
   "id": "19742cd8",
   "metadata": {},
   "source": [
    "# 훈련 데이터 준비 (reshape X)"
   ]
  },
  {
   "cell_type": "code",
   "execution_count": 32,
   "id": "3c13f536",
   "metadata": {
    "ExecuteTime": {
     "end_time": "2022-06-27T06:27:49.921009Z",
     "start_time": "2022-06-27T06:27:49.074807Z"
    }
   },
   "outputs": [],
   "source": [
    "(train_input2, train_target2), (test_input2, test_target2) = keras.datasets.fashion_mnist.load_data()\n",
    "train_scaled2 = train_input2 / 255.0\n",
    "train_scaled2, val_scaled2, train_target2, val_target2 = train_test_split(train_scaled2, train_target2, test_size=0.2, random_state=42)"
   ]
  },
  {
   "cell_type": "code",
   "execution_count": 33,
   "id": "e9a52ef1",
   "metadata": {
    "ExecuteTime": {
     "end_time": "2022-06-27T06:28:01.340161Z",
     "start_time": "2022-06-27T06:27:49.921009Z"
    }
   },
   "outputs": [
    {
     "name": "stdout",
     "output_type": "stream",
     "text": [
      "Epoch 1/5\n",
      "1500/1500 [==============================] - 3s 1ms/step - loss: 0.5332 - accuracy: 0.8120\n",
      "Epoch 2/5\n",
      "1500/1500 [==============================] - 2s 1ms/step - loss: 0.3929 - accuracy: 0.8588\n",
      "Epoch 3/5\n",
      "1500/1500 [==============================] - 2s 1ms/step - loss: 0.3577 - accuracy: 0.8714\n",
      "Epoch 4/5\n",
      "1500/1500 [==============================] - 2s 1ms/step - loss: 0.3372 - accuracy: 0.8801\n",
      "Epoch 5/5\n",
      "1500/1500 [==============================] - 2s 1ms/step - loss: 0.3225 - accuracy: 0.8848\n"
     ]
    },
    {
     "data": {
      "text/plain": [
       "<keras.callbacks.History at 0x2dceed81e50>"
      ]
     },
     "execution_count": 33,
     "metadata": {},
     "output_type": "execute_result"
    }
   ],
   "source": [
    "model_DNN4.compile(loss='sparse_categorical_crossentropy', metrics='accuracy')\n",
    "model_DNN4.fit(train_scaled2, train_target2, epochs=5)"
   ]
  },
  {
   "cell_type": "code",
   "execution_count": 34,
   "id": "7195e277",
   "metadata": {
    "ExecuteTime": {
     "end_time": "2022-06-27T06:28:01.921094Z",
     "start_time": "2022-06-27T06:28:01.342156Z"
    }
   },
   "outputs": [
    {
     "name": "stdout",
     "output_type": "stream",
     "text": [
      "375/375 [==============================] - 1s 1ms/step - loss: 0.3519 - accuracy: 0.8783\n"
     ]
    },
    {
     "data": {
      "text/plain": [
       "[0.3519159257411957, 0.878250002861023]"
      ]
     },
     "execution_count": 34,
     "metadata": {},
     "output_type": "execute_result"
    }
   ],
   "source": [
    "model_DNN4.evaluate(val_scaled2, val_target2)"
   ]
  },
  {
   "cell_type": "markdown",
   "id": "ed305df2",
   "metadata": {},
   "source": [
    "# adam 옵티마이저 사용"
   ]
  },
  {
   "cell_type": "code",
   "execution_count": 35,
   "id": "70772a63",
   "metadata": {
    "ExecuteTime": {
     "end_time": "2022-06-27T06:28:01.933063Z",
     "start_time": "2022-06-27T06:28:01.923090Z"
    }
   },
   "outputs": [],
   "source": [
    "model_DNN5 = keras.Sequential()\n",
    "model_DNN5.add(keras.layers.Flatten())\n",
    "model_DNN5.add(keras.layers.Dense(100, activation='relu'))\n",
    "model_DNN5.add(keras.layers.Dense(10, activation='softmax'))"
   ]
  },
  {
   "cell_type": "code",
   "execution_count": 36,
   "id": "4430fd3b",
   "metadata": {
    "ExecuteTime": {
     "end_time": "2022-06-27T06:28:11.329041Z",
     "start_time": "2022-06-27T06:28:01.935057Z"
    },
    "scrolled": false
   },
   "outputs": [
    {
     "name": "stdout",
     "output_type": "stream",
     "text": [
      "Epoch 1/5\n",
      "1500/1500 [==============================] - 2s 1ms/step - loss: 0.5264 - accuracy: 0.8155\n",
      "Epoch 2/5\n",
      "1500/1500 [==============================] - 2s 1ms/step - loss: 0.3940 - accuracy: 0.8590\n",
      "Epoch 3/5\n",
      "1500/1500 [==============================] - 2s 1ms/step - loss: 0.3541 - accuracy: 0.8713\n",
      "Epoch 4/5\n",
      "1500/1500 [==============================] - 2s 1ms/step - loss: 0.3258 - accuracy: 0.8814\n",
      "Epoch 5/5\n",
      "1500/1500 [==============================] - 2s 1ms/step - loss: 0.3060 - accuracy: 0.8890\n"
     ]
    },
    {
     "data": {
      "text/plain": [
       "<keras.callbacks.History at 0x2dc9d837b20>"
      ]
     },
     "execution_count": 36,
     "metadata": {},
     "output_type": "execute_result"
    }
   ],
   "source": [
    "model_DNN5.compile(optimizer='adam', loss='sparse_categorical_crossentropy', metrics='accuracy')\n",
    "model_DNN5.fit(train_scaled2, train_target2, epochs=5)"
   ]
  },
  {
   "cell_type": "code",
   "execution_count": 37,
   "id": "ab03c9cd",
   "metadata": {
    "ExecuteTime": {
     "end_time": "2022-06-27T06:28:11.873471Z",
     "start_time": "2022-06-27T06:28:11.330038Z"
    },
    "scrolled": true
   },
   "outputs": [
    {
     "name": "stdout",
     "output_type": "stream",
     "text": [
      "375/375 [==============================] - 0s 941us/step - loss: 0.3368 - accuracy: 0.8758\n"
     ]
    },
    {
     "data": {
      "text/plain": [
       "[0.3368031680583954, 0.8757500052452087]"
      ]
     },
     "execution_count": 37,
     "metadata": {},
     "output_type": "execute_result"
    }
   ],
   "source": [
    "model_DNN5.evaluate(val_scaled2, val_target2)"
   ]
  },
  {
   "cell_type": "markdown",
   "id": "a0397096",
   "metadata": {},
   "source": [
    "# 모델 저장"
   ]
  },
  {
   "cell_type": "code",
   "execution_count": 38,
   "id": "6ee4471f",
   "metadata": {
    "ExecuteTime": {
     "end_time": "2022-06-27T06:28:11.880452Z",
     "start_time": "2022-06-27T06:28:11.874468Z"
    }
   },
   "outputs": [],
   "source": [
    "def model_fn(a_layer=None):\n",
    "    model_DNN6 = keras.Sequential()\n",
    "    model_DNN6.add(keras.layers.Flatten(input_shape=(28, 28)))\n",
    "    model_DNN6.add(keras.layers.Dense(100, activation='relu'))\n",
    "    if a_layer:\n",
    "        model_DNN6.add(a_layer)\n",
    "    model_DNN6.add(keras.layers.Dense(10, activation='softmax'))\n",
    "    return model_DNN6"
   ]
  },
  {
   "cell_type": "code",
   "execution_count": 39,
   "id": "4dd6d36d",
   "metadata": {
    "ExecuteTime": {
     "end_time": "2022-06-27T06:28:11.925333Z",
     "start_time": "2022-06-27T06:28:11.881450Z"
    }
   },
   "outputs": [
    {
     "name": "stdout",
     "output_type": "stream",
     "text": [
      "Model: \"sequential_5\"\n",
      "_________________________________________________________________\n",
      " Layer (type)                Output Shape              Param #   \n",
      "=================================================================\n",
      " flatten_2 (Flatten)         (None, 784)               0         \n",
      "                                                                 \n",
      " dense_9 (Dense)             (None, 100)               78500     \n",
      "                                                                 \n",
      " dense_10 (Dense)            (None, 10)                1010      \n",
      "                                                                 \n",
      "=================================================================\n",
      "Total params: 79,510\n",
      "Trainable params: 79,510\n",
      "Non-trainable params: 0\n",
      "_________________________________________________________________\n"
     ]
    }
   ],
   "source": [
    "model_DNN6 = model_fn()\n",
    "model_DNN6.summary()"
   ]
  },
  {
   "cell_type": "markdown",
   "id": "30ff62b8",
   "metadata": {},
   "source": [
    "## verbose : 훈련과정 출력 결정 (0 : 출력x, 1 : 디폴트/에포크마다 출력, 2 : 진행막대 빼고 출력)"
   ]
  },
  {
   "cell_type": "code",
   "execution_count": 40,
   "id": "0352230c",
   "metadata": {
    "ExecuteTime": {
     "end_time": "2022-06-27T06:28:21.104957Z",
     "start_time": "2022-06-27T06:28:11.926330Z"
    }
   },
   "outputs": [],
   "source": [
    "model_DNN6.compile(loss='sparse_categorical_crossentropy', metrics='accuracy')\n",
    "history = model_DNN6.fit(train_scaled2, train_target2, epochs=5, verbose=0)"
   ]
  },
  {
   "cell_type": "markdown",
   "id": "bf31335a",
   "metadata": {},
   "source": [
    "# 훈련 과정이 담겨 있는 history 출력"
   ]
  },
  {
   "cell_type": "code",
   "execution_count": 41,
   "id": "1fe56c62",
   "metadata": {
    "ExecuteTime": {
     "end_time": "2022-06-27T06:28:21.110452Z",
     "start_time": "2022-06-27T06:28:21.104957Z"
    }
   },
   "outputs": [
    {
     "name": "stdout",
     "output_type": "stream",
     "text": [
      "dict_keys(['loss', 'accuracy'])\n",
      "dict_values([[0.5289096236228943, 0.39217206835746765, 0.3557012975215912, 0.33445051312446594, 0.3190259039402008], [0.812458336353302, 0.8577083349227905, 0.8718958497047424, 0.8791875243186951, 0.885937511920929]])\n"
     ]
    }
   ],
   "source": [
    "print(history.history.keys())\n",
    "print(history.history.values())"
   ]
  },
  {
   "cell_type": "markdown",
   "id": "0f1a2530",
   "metadata": {},
   "source": [
    "# history에 있는 손실, 정확도 그래프로 표현"
   ]
  },
  {
   "cell_type": "code",
   "execution_count": 42,
   "id": "a133a98c",
   "metadata": {
    "ExecuteTime": {
     "end_time": "2022-06-27T06:28:21.117434Z",
     "start_time": "2022-06-27T06:28:21.111450Z"
    }
   },
   "outputs": [],
   "source": [
    "import matplotlib.pyplot as plt"
   ]
  },
  {
   "cell_type": "markdown",
   "id": "386a4e57",
   "metadata": {},
   "source": [
    "## 손실 출력"
   ]
  },
  {
   "cell_type": "code",
   "execution_count": 43,
   "id": "3e163b00",
   "metadata": {
    "ExecuteTime": {
     "end_time": "2022-06-27T06:28:21.226142Z",
     "start_time": "2022-06-27T06:28:21.119428Z"
    }
   },
   "outputs": [
    {
     "data": {
      "image/png": "[encoded data removed]",
      "text/plain": [
       "<Figure size 432x288 with 1 Axes>"
      ]
     },
     "metadata": {
      "needs_background": "light"
     },
     "output_type": "display_data"
    }
   ],
   "source": [
    "plt.plot(history.history['loss'])\n",
    "plt.xlabel('epoch')\n",
    "plt.ylabel('loss')\n",
    "plt.show()"
   ]
  },
  {
   "cell_type": "markdown",
   "id": "bf6c347a",
   "metadata": {},
   "source": [
    "## 정확도 출력"
   ]
  },
  {
   "cell_type": "code",
   "execution_count": 44,
   "id": "d914b168",
   "metadata": {
    "ExecuteTime": {
     "end_time": "2022-06-27T06:28:21.340836Z",
     "start_time": "2022-06-27T06:28:21.227141Z"
    }
   },
   "outputs": [
    {
     "data": {
      "image/png": "[encoded data removed]",
      "text/plain": [
       "<Figure size 432x288 with 1 Axes>"
      ]
     },
     "metadata": {
      "needs_background": "light"
     },
     "output_type": "display_data"
    }
   ],
   "source": [
    "plt.plot(history.history['accuracy'])\n",
    "plt.xlabel('epoch')\n",
    "plt.ylabel('accuracy')\n",
    "plt.show()"
   ]
  },
  {
   "cell_type": "markdown",
   "id": "87744cde",
   "metadata": {},
   "source": [
    "# 에포크 늘려서 훈련 -> 그래프"
   ]
  },
  {
   "cell_type": "code",
   "execution_count": 45,
   "id": "44bef2db",
   "metadata": {
    "ExecuteTime": {
     "end_time": "2022-06-27T06:28:55.107050Z",
     "start_time": "2022-06-27T06:28:21.341834Z"
    }
   },
   "outputs": [],
   "source": [
    "model_DNN7 = model_fn()\n",
    "model_DNN7.compile(loss='sparse_categorical_crossentropy', metrics='accuracy')\n",
    "history2 = model_DNN7.fit(train_scaled2, train_target2, epochs=20, verbose=0)"
   ]
  },
  {
   "cell_type": "code",
   "execution_count": 46,
   "id": "804bb241",
   "metadata": {
    "ExecuteTime": {
     "end_time": "2022-06-27T06:28:55.240067Z",
     "start_time": "2022-06-27T06:28:55.107050Z"
    }
   },
   "outputs": [
    {
     "data": {
      "image/png": "[encoded data removed]",
      "text/plain": [
       "<Figure size 432x288 with 1 Axes>"
      ]
     },
     "metadata": {
      "needs_background": "light"
     },
     "output_type": "display_data"
    }
   ],
   "source": [
    "plt.plot(history2.history['loss'])\n",
    "plt.xlabel('epoch')\n",
    "plt.ylabel('loss')\n",
    "plt.show()"
   ]
  },
  {
   "cell_type": "markdown",
   "id": "3d6d55c7",
   "metadata": {},
   "source": [
    "# 검증 손실"
   ]
  },
  {
   "cell_type": "code",
   "execution_count": 47,
   "id": "c264df05",
   "metadata": {
    "ExecuteTime": {
     "end_time": "2022-06-27T06:29:36.841425Z",
     "start_time": "2022-06-27T06:28:55.241065Z"
    },
    "scrolled": true
   },
   "outputs": [
    {
     "name": "stdout",
     "output_type": "stream",
     "text": [
      "Epoch 1/20\n",
      "1500/1500 - 2s - loss: 0.5317 - accuracy: 0.8128 - val_loss: 0.4229 - val_accuracy: 0.8514 - 2s/epoch - 2ms/step\n",
      "Epoch 2/20\n",
      "1500/1500 - 2s - loss: 0.3938 - accuracy: 0.8591 - val_loss: 0.3777 - val_accuracy: 0.8695 - 2s/epoch - 1ms/step\n",
      "Epoch 3/20\n",
      "1500/1500 - 2s - loss: 0.3557 - accuracy: 0.8732 - val_loss: 0.3562 - val_accuracy: 0.8745 - 2s/epoch - 1ms/step\n",
      "Epoch 4/20\n",
      "1500/1500 - 2s - loss: 0.3331 - accuracy: 0.8817 - val_loss: 0.3520 - val_accuracy: 0.8773 - 2s/epoch - 1ms/step\n",
      "Epoch 5/20\n",
      "1500/1500 - 2s - loss: 0.3195 - accuracy: 0.8864 - val_loss: 0.3616 - val_accuracy: 0.8767 - 2s/epoch - 1ms/step\n",
      "Epoch 6/20\n",
      "1500/1500 - 2s - loss: 0.3076 - accuracy: 0.8920 - val_loss: 0.3891 - val_accuracy: 0.8763 - 2s/epoch - 1ms/step\n",
      "Epoch 7/20\n",
      "1500/1500 - 2s - loss: 0.2978 - accuracy: 0.8953 - val_loss: 0.3855 - val_accuracy: 0.8778 - 2s/epoch - 1ms/step\n",
      "Epoch 8/20\n",
      "1500/1500 - 2s - loss: 0.2892 - accuracy: 0.8980 - val_loss: 0.3536 - val_accuracy: 0.8859 - 2s/epoch - 1ms/step\n",
      "Epoch 9/20\n",
      "1500/1500 - 2s - loss: 0.2811 - accuracy: 0.9015 - val_loss: 0.3753 - val_accuracy: 0.8811 - 2s/epoch - 1ms/step\n",
      "Epoch 10/20\n",
      "1500/1500 - 2s - loss: 0.2741 - accuracy: 0.9038 - val_loss: 0.3729 - val_accuracy: 0.8817 - 2s/epoch - 1ms/step\n",
      "Epoch 11/20\n",
      "1500/1500 - 2s - loss: 0.2695 - accuracy: 0.9056 - val_loss: 0.4146 - val_accuracy: 0.8742 - 2s/epoch - 2ms/step\n",
      "Epoch 12/20\n",
      "1500/1500 - 2s - loss: 0.2599 - accuracy: 0.9090 - val_loss: 0.4046 - val_accuracy: 0.8802 - 2s/epoch - 2ms/step\n",
      "Epoch 13/20\n",
      "1500/1500 - 2s - loss: 0.2602 - accuracy: 0.9096 - val_loss: 0.3819 - val_accuracy: 0.8834 - 2s/epoch - 1ms/step\n",
      "Epoch 14/20\n",
      "1500/1500 - 2s - loss: 0.2520 - accuracy: 0.9129 - val_loss: 0.4203 - val_accuracy: 0.8813 - 2s/epoch - 2ms/step\n",
      "Epoch 15/20\n",
      "1500/1500 - 2s - loss: 0.2472 - accuracy: 0.9145 - val_loss: 0.4419 - val_accuracy: 0.8801 - 2s/epoch - 1ms/step\n",
      "Epoch 16/20\n",
      "1500/1500 - 2s - loss: 0.2453 - accuracy: 0.9164 - val_loss: 0.4303 - val_accuracy: 0.8827 - 2s/epoch - 1ms/step\n",
      "Epoch 17/20\n",
      "1500/1500 - 2s - loss: 0.2384 - accuracy: 0.9188 - val_loss: 0.4204 - val_accuracy: 0.8832 - 2s/epoch - 1ms/step\n",
      "Epoch 18/20\n",
      "1500/1500 - 2s - loss: 0.2363 - accuracy: 0.9197 - val_loss: 0.4485 - val_accuracy: 0.8799 - 2s/epoch - 1ms/step\n",
      "Epoch 19/20\n",
      "1500/1500 - 2s - loss: 0.2324 - accuracy: 0.9201 - val_loss: 0.4492 - val_accuracy: 0.8817 - 2s/epoch - 1ms/step\n",
      "Epoch 20/20\n",
      "1500/1500 - 2s - loss: 0.2276 - accuracy: 0.9217 - val_loss: 0.4723 - val_accuracy: 0.8777 - 2s/epoch - 1ms/step\n"
     ]
    }
   ],
   "source": [
    "model_DNN8= model_fn()\n",
    "model_DNN8.compile(loss='sparse_categorical_crossentropy', metrics='accuracy')\n",
    "history3 = model_DNN8.fit(train_scaled2, train_target2, epochs=20, verbose=2, validation_data=(val_scaled2, val_target2))"
   ]
  },
  {
   "cell_type": "code",
   "execution_count": 48,
   "id": "ac5506d0",
   "metadata": {
    "ExecuteTime": {
     "end_time": "2022-06-27T06:29:36.849403Z",
     "start_time": "2022-06-27T06:29:36.842422Z"
    }
   },
   "outputs": [
    {
     "name": "stdout",
     "output_type": "stream",
     "text": [
      "dict_keys(['loss', 'accuracy', 'val_loss', 'val_accuracy'])\n"
     ]
    }
   ],
   "source": [
    "print(history3.history.keys())"
   ]
  },
  {
   "cell_type": "code",
   "execution_count": 49,
   "id": "0944451e",
   "metadata": {
    "ExecuteTime": {
     "end_time": "2022-06-27T06:29:36.996011Z",
     "start_time": "2022-06-27T06:29:36.851398Z"
    }
   },
   "outputs": [
    {
     "data": {
      "image/png": "[encoded data removed]",
      "text/plain": [
       "<Figure size 432x288 with 1 Axes>"
      ]
     },
     "metadata": {
      "needs_background": "light"
     },
     "output_type": "display_data"
    }
   ],
   "source": [
    "plt.plot(history3.history['loss'])\n",
    "plt.plot(history3.history['val_loss'])\n",
    "plt.xlabel('epoch')\n",
    "plt.ylabel('loss')\n",
    "plt.legend(['train', 'val'])\n",
    "plt.show()"
   ]
  },
  {
   "cell_type": "markdown",
   "id": "e346c3f6",
   "metadata": {},
   "source": [
    "# adam을 사용해서 과대적합 완화하기"
   ]
  },
  {
   "cell_type": "code",
   "execution_count": 50,
   "id": "8382ac59",
   "metadata": {
    "ExecuteTime": {
     "end_time": "2022-06-27T06:30:11.207839Z",
     "start_time": "2022-06-27T06:29:36.997008Z"
    },
    "scrolled": true
   },
   "outputs": [
    {
     "name": "stdout",
     "output_type": "stream",
     "text": [
      "Epoch 1/20\n",
      "1500/1500 - 2s - loss: 0.5160 - accuracy: 0.8190 - val_loss: 0.4414 - val_accuracy: 0.8392 - 2s/epoch - 1ms/step\n",
      "Epoch 2/20\n",
      "1500/1500 - 2s - loss: 0.3890 - accuracy: 0.8596 - val_loss: 0.3692 - val_accuracy: 0.8672 - 2s/epoch - 1ms/step\n",
      "Epoch 3/20\n",
      "1500/1500 - 2s - loss: 0.3504 - accuracy: 0.8724 - val_loss: 0.3849 - val_accuracy: 0.8581 - 2s/epoch - 1ms/step\n",
      "Epoch 4/20\n",
      "1500/1500 - 2s - loss: 0.3231 - accuracy: 0.8817 - val_loss: 0.3335 - val_accuracy: 0.8814 - 2s/epoch - 1ms/step\n",
      "Epoch 5/20\n",
      "1500/1500 - 2s - loss: 0.3026 - accuracy: 0.8892 - val_loss: 0.3413 - val_accuracy: 0.8759 - 2s/epoch - 1ms/step\n",
      "Epoch 6/20\n",
      "1500/1500 - 2s - loss: 0.2887 - accuracy: 0.8923 - val_loss: 0.3799 - val_accuracy: 0.8651 - 2s/epoch - 1ms/step\n",
      "Epoch 7/20\n",
      "1500/1500 - 2s - loss: 0.2768 - accuracy: 0.8975 - val_loss: 0.3178 - val_accuracy: 0.8849 - 2s/epoch - 1ms/step\n",
      "Epoch 8/20\n",
      "1500/1500 - 2s - loss: 0.2654 - accuracy: 0.9011 - val_loss: 0.3391 - val_accuracy: 0.8765 - 2s/epoch - 1ms/step\n",
      "Epoch 9/20\n",
      "1500/1500 - 2s - loss: 0.2562 - accuracy: 0.9054 - val_loss: 0.3316 - val_accuracy: 0.8808 - 2s/epoch - 1ms/step\n",
      "Epoch 10/20\n",
      "1500/1500 - 2s - loss: 0.2457 - accuracy: 0.9079 - val_loss: 0.3220 - val_accuracy: 0.8867 - 2s/epoch - 1ms/step\n",
      "Epoch 11/20\n",
      "1500/1500 - 2s - loss: 0.2389 - accuracy: 0.9107 - val_loss: 0.3164 - val_accuracy: 0.8898 - 2s/epoch - 1ms/step\n",
      "Epoch 12/20\n",
      "1500/1500 - 2s - loss: 0.2311 - accuracy: 0.9145 - val_loss: 0.3366 - val_accuracy: 0.8814 - 2s/epoch - 1ms/step\n",
      "Epoch 13/20\n",
      "1500/1500 - 2s - loss: 0.2250 - accuracy: 0.9157 - val_loss: 0.3364 - val_accuracy: 0.8863 - 2s/epoch - 1ms/step\n",
      "Epoch 14/20\n",
      "1500/1500 - 2s - loss: 0.2173 - accuracy: 0.9186 - val_loss: 0.3206 - val_accuracy: 0.8915 - 2s/epoch - 1ms/step\n",
      "Epoch 15/20\n",
      "1500/1500 - 2s - loss: 0.2145 - accuracy: 0.9200 - val_loss: 0.3520 - val_accuracy: 0.8808 - 2s/epoch - 1ms/step\n",
      "Epoch 16/20\n",
      "1500/1500 - 2s - loss: 0.2063 - accuracy: 0.9233 - val_loss: 0.3348 - val_accuracy: 0.8878 - 2s/epoch - 1ms/step\n",
      "Epoch 17/20\n",
      "1500/1500 - 2s - loss: 0.2010 - accuracy: 0.9257 - val_loss: 0.3284 - val_accuracy: 0.8890 - 2s/epoch - 1ms/step\n",
      "Epoch 18/20\n",
      "1500/1500 - 2s - loss: 0.1958 - accuracy: 0.9272 - val_loss: 0.3340 - val_accuracy: 0.8889 - 2s/epoch - 1ms/step\n",
      "Epoch 19/20\n",
      "1500/1500 - 2s - loss: 0.1904 - accuracy: 0.9284 - val_loss: 0.3327 - val_accuracy: 0.8880 - 2s/epoch - 1ms/step\n",
      "Epoch 20/20\n",
      "1500/1500 - 2s - loss: 0.1874 - accuracy: 0.9300 - val_loss: 0.3334 - val_accuracy: 0.8928 - 2s/epoch - 1ms/step\n"
     ]
    }
   ],
   "source": [
    "model_DNN9 = model_fn()\n",
    "model_DNN9.compile(optimizer='adam', loss='sparse_categorical_crossentropy', metrics='accuracy')\n",
    "history4 = model_DNN9.fit(train_scaled2, train_target2, epochs=20, verbose=2, validation_data=(val_scaled2, val_target2))"
   ]
  },
  {
   "cell_type": "code",
   "execution_count": 51,
   "id": "18a6070f",
   "metadata": {
    "ExecuteTime": {
     "end_time": "2022-06-27T06:30:11.352454Z",
     "start_time": "2022-06-27T06:30:11.208837Z"
    }
   },
   "outputs": [
    {
     "data": {
      "image/png": "[encoded data removed]",
      "text/plain": [
       "<Figure size 432x288 with 1 Axes>"
      ]
     },
     "metadata": {
      "needs_background": "light"
     },
     "output_type": "display_data"
    }
   ],
   "source": [
    "plt.plot(history4.history['loss'])\n",
    "plt.plot(history4.history['val_loss'])\n",
    "plt.xlabel('epoch')\n",
    "plt.ylabel('loss')\n",
    "plt.legend(['train', 'val'])\n",
    "plt.show()"
   ]
  },
  {
   "cell_type": "markdown",
   "id": "b97acda7",
   "metadata": {},
   "source": [
    "# 드롭아웃 적용하기"
   ]
  },
  {
   "cell_type": "code",
   "execution_count": 52,
   "id": "39e8db2a",
   "metadata": {
    "ExecuteTime": {
     "end_time": "2022-06-27T07:03:57.266566Z",
     "start_time": "2022-06-27T07:03:57.217697Z"
    }
   },
   "outputs": [
    {
     "name": "stdout",
     "output_type": "stream",
     "text": [
      "Model: \"sequential_9\"\n",
      "_________________________________________________________________\n",
      " Layer (type)                Output Shape              Param #   \n",
      "=================================================================\n",
      " flatten_6 (Flatten)         (None, 784)               0         \n",
      "                                                                 \n",
      " dense_17 (Dense)            (None, 100)               78500     \n",
      "                                                                 \n",
      " dropout (Dropout)           (None, 100)               0         \n",
      "                                                                 \n",
      " dense_18 (Dense)            (None, 10)                1010      \n",
      "                                                                 \n",
      "=================================================================\n",
      "Total params: 79,510\n",
      "Trainable params: 79,510\n",
      "Non-trainable params: 0\n",
      "_________________________________________________________________\n"
     ]
    }
   ],
   "source": [
    "model_DNN10 = model_fn(keras.layers.Dropout(0.3))\n",
    "model_DNN10.summary()"
   ]
  },
  {
   "cell_type": "code",
   "execution_count": 54,
   "id": "6bbffbd5",
   "metadata": {
    "ExecuteTime": {
     "end_time": "2022-06-27T07:06:24.309913Z",
     "start_time": "2022-06-27T07:05:49.178163Z"
    },
    "scrolled": true
   },
   "outputs": [
    {
     "name": "stdout",
     "output_type": "stream",
     "text": [
      "Epoch 1/20\n",
      "1500/1500 - 2s - loss: 0.5883 - accuracy: 0.7933 - val_loss: 0.4277 - val_accuracy: 0.8442 - 2s/epoch - 1ms/step\n",
      "Epoch 2/20\n",
      "1500/1500 - 2s - loss: 0.4416 - accuracy: 0.8429 - val_loss: 0.3913 - val_accuracy: 0.8588 - 2s/epoch - 1ms/step\n",
      "Epoch 3/20\n",
      "1500/1500 - 2s - loss: 0.4021 - accuracy: 0.8551 - val_loss: 0.3715 - val_accuracy: 0.8636 - 2s/epoch - 1ms/step\n",
      "Epoch 4/20\n",
      "1500/1500 - 2s - loss: 0.3814 - accuracy: 0.8615 - val_loss: 0.3453 - val_accuracy: 0.8775 - 2s/epoch - 1ms/step\n",
      "Epoch 5/20\n",
      "1500/1500 - 2s - loss: 0.3663 - accuracy: 0.8658 - val_loss: 0.3510 - val_accuracy: 0.8723 - 2s/epoch - 1ms/step\n",
      "Epoch 6/20\n",
      "1500/1500 - 2s - loss: 0.3554 - accuracy: 0.8681 - val_loss: 0.3381 - val_accuracy: 0.8788 - 2s/epoch - 1ms/step\n",
      "Epoch 7/20\n",
      "1500/1500 - 2s - loss: 0.3414 - accuracy: 0.8744 - val_loss: 0.3297 - val_accuracy: 0.8789 - 2s/epoch - 1ms/step\n",
      "Epoch 8/20\n",
      "1500/1500 - 2s - loss: 0.3335 - accuracy: 0.8761 - val_loss: 0.3330 - val_accuracy: 0.8788 - 2s/epoch - 1ms/step\n",
      "Epoch 9/20\n",
      "1500/1500 - 2s - loss: 0.3294 - accuracy: 0.8783 - val_loss: 0.3282 - val_accuracy: 0.8789 - 2s/epoch - 1ms/step\n",
      "Epoch 10/20\n",
      "1500/1500 - 2s - loss: 0.3216 - accuracy: 0.8818 - val_loss: 0.3433 - val_accuracy: 0.8753 - 2s/epoch - 1ms/step\n",
      "Epoch 11/20\n",
      "1500/1500 - 2s - loss: 0.3145 - accuracy: 0.8836 - val_loss: 0.3224 - val_accuracy: 0.8808 - 2s/epoch - 1ms/step\n",
      "Epoch 12/20\n",
      "1500/1500 - 2s - loss: 0.3084 - accuracy: 0.8860 - val_loss: 0.3324 - val_accuracy: 0.8808 - 2s/epoch - 1ms/step\n",
      "Epoch 13/20\n",
      "1500/1500 - 2s - loss: 0.3044 - accuracy: 0.8854 - val_loss: 0.3279 - val_accuracy: 0.8827 - 2s/epoch - 1ms/step\n",
      "Epoch 14/20\n",
      "1500/1500 - 2s - loss: 0.2994 - accuracy: 0.8884 - val_loss: 0.3282 - val_accuracy: 0.8833 - 2s/epoch - 1ms/step\n",
      "Epoch 15/20\n",
      "1500/1500 - 2s - loss: 0.2919 - accuracy: 0.8912 - val_loss: 0.3212 - val_accuracy: 0.8864 - 2s/epoch - 1ms/step\n",
      "Epoch 16/20\n",
      "1500/1500 - 2s - loss: 0.2889 - accuracy: 0.8924 - val_loss: 0.3210 - val_accuracy: 0.8864 - 2s/epoch - 1ms/step\n",
      "Epoch 17/20\n",
      "1500/1500 - 2s - loss: 0.2851 - accuracy: 0.8924 - val_loss: 0.3326 - val_accuracy: 0.8834 - 2s/epoch - 1ms/step\n",
      "Epoch 18/20\n",
      "1500/1500 - 2s - loss: 0.2786 - accuracy: 0.8964 - val_loss: 0.3168 - val_accuracy: 0.8882 - 2s/epoch - 1ms/step\n",
      "Epoch 19/20\n",
      "1500/1500 - 2s - loss: 0.2774 - accuracy: 0.8959 - val_loss: 0.3348 - val_accuracy: 0.8808 - 2s/epoch - 1ms/step\n",
      "Epoch 20/20\n",
      "1500/1500 - 2s - loss: 0.2762 - accuracy: 0.8954 - val_loss: 0.3257 - val_accuracy: 0.8852 - 2s/epoch - 1ms/step\n"
     ]
    }
   ],
   "source": [
    "model_DNN10.compile(optimizer='adam', loss='sparse_categorical_crossentropy', metrics='accuracy')\n",
    "history5 = model_DNN10.fit(train_scaled2, train_target2, epochs=20, verbose=2, validation_data=(val_scaled2, val_target2))"
   ]
  },
  {
   "cell_type": "code",
   "execution_count": 56,
   "id": "018483d9",
   "metadata": {
    "ExecuteTime": {
     "end_time": "2022-06-27T07:07:03.520198Z",
     "start_time": "2022-06-27T07:07:03.397446Z"
    }
   },
   "outputs": [
    {
     "data": {
      "image/png": "[encoded data removed]",
      "text/plain": [
       "<Figure size 432x288 with 1 Axes>"
      ]
     },
     "metadata": {
      "needs_background": "light"
     },
     "output_type": "display_data"
    }
   ],
   "source": [
    "plt.plot(history5.history['loss'])\n",
    "plt.plot(history5.history['val_loss'])\n",
    "plt.xlabel('epoch')\n",
    "plt.ylabel('loss')\n",
    "plt.legend(['train', 'val'])\n",
    "plt.show()"
   ]
  },
  {
   "cell_type": "markdown",
   "id": "688d73f1",
   "metadata": {},
   "source": [
    "# 과대적합이 발생하는 10번째 epoch 까지 학습하기"
   ]
  },
  {
   "cell_type": "code",
   "execution_count": 58,
   "id": "600faff6",
   "metadata": {
    "ExecuteTime": {
     "end_time": "2022-06-27T07:08:45.127798Z",
     "start_time": "2022-06-27T07:08:26.242592Z"
    },
    "scrolled": false
   },
   "outputs": [
    {
     "name": "stdout",
     "output_type": "stream",
     "text": [
      "Epoch 1/10\n",
      "1500/1500 - 2s - loss: 0.5999 - accuracy: 0.7887 - val_loss: 0.4313 - val_accuracy: 0.8461 - 2s/epoch - 2ms/step\n",
      "Epoch 2/10\n",
      "1500/1500 - 2s - loss: 0.4444 - accuracy: 0.8403 - val_loss: 0.3802 - val_accuracy: 0.8649 - 2s/epoch - 1ms/step\n",
      "Epoch 3/10\n",
      "1500/1500 - 2s - loss: 0.4069 - accuracy: 0.8516 - val_loss: 0.3698 - val_accuracy: 0.8658 - 2s/epoch - 1ms/step\n",
      "Epoch 4/10\n",
      "1500/1500 - 2s - loss: 0.3838 - accuracy: 0.8584 - val_loss: 0.3597 - val_accuracy: 0.8688 - 2s/epoch - 1ms/step\n",
      "Epoch 5/10\n",
      "1500/1500 - 2s - loss: 0.3692 - accuracy: 0.8632 - val_loss: 0.3749 - val_accuracy: 0.8627 - 2s/epoch - 1ms/step\n",
      "Epoch 6/10\n",
      "1500/1500 - 2s - loss: 0.3544 - accuracy: 0.8687 - val_loss: 0.3373 - val_accuracy: 0.8778 - 2s/epoch - 1ms/step\n",
      "Epoch 7/10\n",
      "1500/1500 - 2s - loss: 0.3434 - accuracy: 0.8740 - val_loss: 0.3392 - val_accuracy: 0.8783 - 2s/epoch - 1ms/step\n",
      "Epoch 8/10\n",
      "1500/1500 - 2s - loss: 0.3345 - accuracy: 0.8767 - val_loss: 0.3318 - val_accuracy: 0.8815 - 2s/epoch - 1ms/step\n",
      "Epoch 9/10\n",
      "1500/1500 - 2s - loss: 0.3252 - accuracy: 0.8792 - val_loss: 0.3312 - val_accuracy: 0.8792 - 2s/epoch - 1ms/step\n",
      "Epoch 10/10\n",
      "1500/1500 - 2s - loss: 0.3205 - accuracy: 0.8822 - val_loss: 0.3193 - val_accuracy: 0.8854 - 2s/epoch - 1ms/step\n"
     ]
    }
   ],
   "source": [
    "model_DNN11 = model_fn(keras.layers.Dropout(0.3))\n",
    "model_DNN11.compile(optimizer='adam', loss='sparse_categorical_crossentropy', metrics='accuracy')\n",
    "history6 = model_DNN11.fit(train_scaled2, train_target2, epochs=10, verbose=2, validation_data=(val_scaled2, val_target2))"
   ]
  },
  {
   "cell_type": "markdown",
   "id": "ee99c4d5",
   "metadata": {},
   "source": [
    "# 모델 저장 및 복원"
   ]
  },
  {
   "cell_type": "code",
   "execution_count": 59,
   "id": "abbeeeda",
   "metadata": {
    "ExecuteTime": {
     "end_time": "2022-06-27T07:09:36.543609Z",
     "start_time": "2022-06-27T07:09:36.502719Z"
    }
   },
   "outputs": [],
   "source": [
    "model_DNN11.save_weights('model-weights.h5')"
   ]
  },
  {
   "cell_type": "code",
   "execution_count": 73,
   "id": "e7c15c79",
   "metadata": {
    "ExecuteTime": {
     "end_time": "2022-06-27T07:19:07.440126Z",
     "start_time": "2022-06-27T07:19:07.418186Z"
    }
   },
   "outputs": [],
   "source": [
    "model_DNN11.save('model-whole.h5')"
   ]
  },
  {
   "cell_type": "code",
   "execution_count": 62,
   "id": "ab0dbd9f",
   "metadata": {
    "ExecuteTime": {
     "end_time": "2022-06-27T07:10:14.849030Z",
     "start_time": "2022-06-27T07:10:14.828086Z"
    },
    "scrolled": true
   },
   "outputs": [
    {
     "name": "stdout",
     "output_type": "stream",
     "text": [
      " C 드라이브의 볼륨에는 이름이 없습니다.\n",
      " 볼륨 일련 번호: F65D-BDA5\n",
      "\n",
      " C:\\jupyter_space 디렉터리\n",
      "\n",
      "2022-06-27  오후 04:09           333,448 model-weights.h5\n",
      "               1개 파일             333,448 바이트\n",
      "               0개 디렉터리  175,617,323,008 바이트 남음\n"
     ]
    }
   ],
   "source": [
    "!dir *.h5"
   ]
  },
  {
   "cell_type": "markdown",
   "id": "4c287796",
   "metadata": {},
   "source": [
    "# 훈련하지 않은 모델을 만들고 위 파일에서 훈련된 모델 파라미터를 읽어서 사용\n",
    "## 모델 불러오기"
   ]
  },
  {
   "cell_type": "code",
   "execution_count": 64,
   "id": "b1eec014",
   "metadata": {
    "ExecuteTime": {
     "end_time": "2022-06-27T07:12:02.325663Z",
     "start_time": "2022-06-27T07:12:02.288552Z"
    }
   },
   "outputs": [],
   "source": [
    "model_file = model_fn()\n",
    "model_file.load_weights('./model-weights.h5')"
   ]
  },
  {
   "cell_type": "code",
   "execution_count": 65,
   "id": "9f4c5df4",
   "metadata": {
    "ExecuteTime": {
     "end_time": "2022-06-27T07:12:29.714864Z",
     "start_time": "2022-06-27T07:12:29.710864Z"
    }
   },
   "outputs": [],
   "source": [
    "import numpy as np"
   ]
  },
  {
   "cell_type": "code",
   "execution_count": 67,
   "id": "128d336f",
   "metadata": {
    "ExecuteTime": {
     "end_time": "2022-06-27T07:13:29.546194Z",
     "start_time": "2022-06-27T07:13:29.047528Z"
    }
   },
   "outputs": [
    {
     "name": "stdout",
     "output_type": "stream",
     "text": [
      "375/375 [==============================] - 0s 739us/step\n",
      "0.8854166666666666\n"
     ]
    }
   ],
   "source": [
    "val_labels = np.argmax(model_file.predict(val_scaled2), axis=-1)\n",
    "print(np.mean(val_labels == val_target2))"
   ]
  },
  {
   "cell_type": "code",
   "execution_count": 74,
   "id": "f10a3b9b",
   "metadata": {
    "ExecuteTime": {
     "end_time": "2022-06-27T07:19:12.923857Z",
     "start_time": "2022-06-27T07:19:12.353126Z"
    }
   },
   "outputs": [
    {
     "name": "stdout",
     "output_type": "stream",
     "text": [
      "375/375 [==============================] - 0s 881us/step - loss: 0.3193 - accuracy: 0.8854\n"
     ]
    },
    {
     "data": {
      "text/plain": [
       "[0.3193078339099884, 0.8854166865348816]"
      ]
     },
     "execution_count": 74,
     "metadata": {},
     "output_type": "execute_result"
    }
   ],
   "source": [
    "model_DNN12 = keras.models.load_model('model-whole.h5')\n",
    "model_DNN12.evaluate(val_scaled2, val_target2)"
   ]
  },
  {
   "cell_type": "code",
   "execution_count": null,
   "id": "30e801b6",
   "metadata": {},
   "outputs": [],
   "source": []
  },
  {
   "cell_type": "code",
   "execution_count": null,
   "id": "0cc53dc0",
   "metadata": {},
   "outputs": [],
   "source": []
  },
  {
   "cell_type": "code",
   "execution_count": null,
   "id": "78f4d162",
   "metadata": {},
   "outputs": [],
   "source": []
  },
  {
   "cell_type": "code",
   "execution_count": null,
   "id": "95d0a7f3",
   "metadata": {},
   "outputs": [],
   "source": []
  }
 ],
 "metadata": {
  "kernelspec": {
   "display_name": "Python 3 (ipykernel)",
   "language": "python",
   "name": "python3"
  },
  "language_info": {
   "codemirror_mode": {
    "name": "ipython",
    "version": 3
   },
   "file_extension": ".py",
   "mimetype": "text/x-python",
   "name": "python",
   "nbconvert_exporter": "python",
   "pygments_lexer": "ipython3",
   "version": "3.9.12"
  },
  "toc": {
   "base_numbering": 1,
   "nav_menu": {},
   "number_sections": false,
   "sideBar": true,
   "skip_h1_title": false,
   "title_cell": "Table of Contents",
   "title_sidebar": "Contents",
   "toc_cell": false,
   "toc_position": {
    "height": "calc(100% - 180px)",
    "left": "10px",
    "top": "150px",
    "width": "554px"
   },
   "toc_section_display": true,
   "toc_window_display": true
  }
 },
 "nbformat": 4,
 "nbformat_minor": 5
}
