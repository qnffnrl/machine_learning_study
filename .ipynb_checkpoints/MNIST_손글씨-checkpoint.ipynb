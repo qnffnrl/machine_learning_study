{
 "cells": [
  {
   "cell_type": "code",
   "execution_count": 3,
   "id": "c17aa6bf",
   "metadata": {},
   "outputs": [],
   "source": [
    "import tensorflow as tf"
   ]
  },
  {
   "cell_type": "markdown",
   "id": "b96aaa3f",
   "metadata": {},
   "source": [
    "# MNIST 데이터 임포트"
   ]
  },
  {
   "cell_type": "code",
   "execution_count": 5,
   "id": "87a40110",
   "metadata": {},
   "outputs": [],
   "source": [
    "mnist = tf.keras.datasets.mnist"
   ]
  },
  {
   "cell_type": "code",
   "execution_count": 7,
   "id": "28629199",
   "metadata": {},
   "outputs": [
    {
     "name": "stdout",
     "output_type": "stream",
     "text": [
      "Downloading data from https://storage.googleapis.com/tensorflow/tf-keras-datasets/mnist.npz\n",
      "11490434/11490434 [==============================] - 3s 0us/step\n"
     ]
    }
   ],
   "source": [
    "(x_train, y_train), (x_text, y_train) = mnist.load_data()"
   ]
  },
  {
   "cell_type": "markdown",
   "id": "2bc7c122",
   "metadata": {},
   "source": [
    "# 데이터 전처리 (데이터 정규화)\n",
    "## 케라스는 0~1 사이의 값에서 최적의 성능\n",
    "### 따라서, 0-255의 값으로 이루어진 데이터를 255로 나누면 0-1 값으로 변환할 수 있음"
   ]
  },
  {
   "cell_type": "code",
   "execution_count": 8,
   "id": "1b1b1fca",
   "metadata": {},
   "outputs": [],
   "source": [
    "x_train, x_train = x_train/255.0, y_train/255.0"
   ]
  },
  {
   "cell_type": "markdown",
   "id": "baa591e6",
   "metadata": {},
   "source": [
    "#### Flatten : 다차원 배열 공간을 1차원으로 평탄화 해줌\n",
    "#### Dense : 뉴런의 입출력을 연결"
   ]
  },
  {
   "cell_type": "code",
   "execution_count": 13,
   "id": "969e70bf",
   "metadata": {},
   "outputs": [],
   "source": [
    "model = tf.keras.models.Sequential([\n",
    "    tf.keras.layers.Flatten(input_shape=(28, 28)),      # 입력층 784개 (28 x 28)\n",
    "    tf.keras.layers.Dense(512, activation=tf.nn.relu),  # 은닉층 512개 / 활성화 함수 : relu\n",
    "    tf.keras.layers.Dense(10, activation=tf.nn.softmax) # 출력층 10개 / 활성화 함수 : softmax\n",
    "])"
   ]
  },
  {
   "cell_type": "markdown",
   "id": "c34db1af",
   "metadata": {},
   "source": [
    "# 모델 컴파일"
   ]
  },
  {
   "cell_type": "code",
   "execution_count": 16,
   "id": "e595b1bd",
   "metadata": {},
   "outputs": [],
   "source": [
    "model.compile(optimizer = 'adam',\n",
    "              loss = 'sparse_categorical_crossentropy', # 손실함수 : 교차 엔트로피 오차 (CEE) 함수\n",
    "              metrics=['accuracy'])"
   ]
  },
  {
   "cell_type": "code",
   "execution_count": null,
   "id": "827ea594",
   "metadata": {},
   "outputs": [],
   "source": []
  },
  {
   "cell_type": "code",
   "execution_count": null,
   "id": "1c8a2ea2",
   "metadata": {},
   "outputs": [],
   "source": []
  },
  {
   "cell_type": "code",
   "execution_count": null,
   "id": "df871b48",
   "metadata": {},
   "outputs": [],
   "source": []
  },
  {
   "cell_type": "code",
   "execution_count": null,
   "id": "4c6a4a6b",
   "metadata": {},
   "outputs": [],
   "source": []
  },
  {
   "cell_type": "code",
   "execution_count": null,
   "id": "c5650b40",
   "metadata": {},
   "outputs": [],
   "source": []
  },
  {
   "cell_type": "code",
   "execution_count": null,
   "id": "f112cdcb",
   "metadata": {},
   "outputs": [],
   "source": []
  }
 ],
 "metadata": {
  "kernelspec": {
   "display_name": "Python 3 (ipykernel)",
   "language": "python",
   "name": "python3"
  },
  "language_info": {
   "codemirror_mode": {
    "name": "ipython",
    "version": 3
   },
   "file_extension": ".py",
   "mimetype": "text/x-python",
   "name": "python",
   "nbconvert_exporter": "python",
   "pygments_lexer": "ipython3",
   "version": "3.9.12"
  }
 },
 "nbformat": 4,
 "nbformat_minor": 5
}
